{
 "cells": [
  {
   "cell_type": "code",
   "execution_count": 4,
   "id": "considered-pipeline",
   "metadata": {},
   "outputs": [
    {
     "ename": "NameError",
     "evalue": "name 'lista' is not defined",
     "output_type": "error",
     "traceback": [
      "\u001b[0;31m---------------------------------------------------------------------------\u001b[0m",
      "\u001b[0;31mNameError\u001b[0m                                 Traceback (most recent call last)",
      "\u001b[0;32m<ipython-input-4-3ee1a323b19e>\u001b[0m in \u001b[0;36m<module>\u001b[0;34m\u001b[0m\n\u001b[1;32m      2\u001b[0m \u001b[0;34m\u001b[0m\u001b[0m\n\u001b[1;32m      3\u001b[0m \u001b[0mlista_naturezas_rat_gdo\u001b[0m \u001b[0;34m=\u001b[0m \u001b[0;34m[\u001b[0m\u001b[0;34m'Y07001'\u001b[0m\u001b[0;34m,\u001b[0m \u001b[0;34m'Y07003'\u001b[0m\u001b[0;34m,\u001b[0m \u001b[0;34m'Y07004'\u001b[0m\u001b[0;34m,\u001b[0m \u001b[0;34m'Y07005'\u001b[0m\u001b[0;34m,\u001b[0m \u001b[0;34m'Y04011'\u001b[0m\u001b[0;34m]\u001b[0m\u001b[0;34m\u001b[0m\u001b[0;34m\u001b[0m\u001b[0m\n\u001b[0;32m----> 4\u001b[0;31m \u001b[0mstring_naturezas_rat_gdo\u001b[0m \u001b[0;34m=\u001b[0m \u001b[0;34m\", \"\u001b[0m\u001b[0;34m.\u001b[0m\u001b[0mjoin\u001b[0m\u001b[0;34m(\u001b[0m\u001b[0;34m'\"{}\"'\u001b[0m\u001b[0;34m.\u001b[0m\u001b[0mformat\u001b[0m\u001b[0;34m(\u001b[0m\u001b[0mitem\u001b[0m\u001b[0;34m)\u001b[0m \u001b[0;32mfor\u001b[0m \u001b[0mitem\u001b[0m \u001b[0;32min\u001b[0m \u001b[0mlista\u001b[0m\u001b[0;34m)\u001b[0m\u001b[0;34m\u001b[0m\u001b[0;34m\u001b[0m\u001b[0m\n\u001b[0m\u001b[1;32m      5\u001b[0m \u001b[0;34m\u001b[0m\u001b[0m\n\u001b[1;32m      6\u001b[0m \u001b[0;32mwith\u001b[0m \u001b[0msqlite3\u001b[0m\u001b[0;34m.\u001b[0m\u001b[0mconnect\u001b[0m\u001b[0;34m(\u001b[0m\u001b[0;34m'gdo.db'\u001b[0m\u001b[0;34m)\u001b[0m \u001b[0;32mas\u001b[0m \u001b[0mconn\u001b[0m\u001b[0;34m:\u001b[0m\u001b[0;34m\u001b[0m\u001b[0;34m\u001b[0m\u001b[0m\n",
      "\u001b[0;31mNameError\u001b[0m: name 'lista' is not defined"
     ]
    }
   ],
   "source": [
    "import sqlite3, pandas as pd\n",
    "\n",
    "lista_naturezas_rat_gdo = ['Y07001', 'Y07003', 'Y07004', 'Y07005', 'Y04011']\n",
    "string_naturezas_rat_gdo = \", \".join('\"{}\"'.format(item) for item in lista)\n",
    "\n",
    "with sqlite3.connect('gdo.db') as conn:\n",
    "            cursor = conn.cursor()\n",
    "            dados = cursor.execute('select * from \"tbl_rat_geral\" where \"NAT.CODIGO\" in ({})'.format(string_naturezas_rat_gdo)).fetchall()\n",
    "            df_rat_gdo = pd.DataFrame(dados)\n",
    "df_rat_gdo"
   ]
  },
  {
   "cell_type": "code",
   "execution_count": 2,
   "id": "seventh-laser",
   "metadata": {},
   "outputs": [],
   "source": [
    "pog = pd.read_excel('files/01 - POG_Jan2021.xlsx', sheet_name='JAN-2021')"
   ]
  },
  {
   "cell_type": "code",
   "execution_count": 3,
   "id": "ready-snake",
   "metadata": {},
   "outputs": [],
   "source": [
    "pog[\n",
    "    (pog['UEOP'] == '23 BPM' )\n",
    "    &  ( ~ pog['RPM FINAL'].isin(['CPE', 'CPRV', 'CPMAMB']) )\n",
    "    &  ( ~ pog['UEOP REGISTRO'].str.contains('IND', na=False) )\n",
    "].to_excel('files/01 - POG_Jan2021_23BPM.xlsx')"
   ]
  }
 ],
 "metadata": {
  "kernelspec": {
   "display_name": "Python 3",
   "language": "python",
   "name": "python3"
  },
  "language_info": {
   "codemirror_mode": {
    "name": "ipython",
    "version": 3
   },
   "file_extension": ".py",
   "mimetype": "text/x-python",
   "name": "python",
   "nbconvert_exporter": "python",
   "pygments_lexer": "ipython3",
   "version": "3.9.2"
  }
 },
 "nbformat": 4,
 "nbformat_minor": 5
}
