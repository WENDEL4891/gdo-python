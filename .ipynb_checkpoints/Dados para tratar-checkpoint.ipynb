{
 "cells": [
  {
   "cell_type": "code",
   "execution_count": 1,
   "id": "dynamic-typing",
   "metadata": {},
   "outputs": [],
   "source": [
    "import pandas as pd\n",
    "import constantes\n",
    "from tratamento_de_arquivos_e_dados.tratador_de_arquivos import tratador_de_arquivos"
   ]
  },
  {
   "cell_type": "code",
   "execution_count": 2,
   "id": "valid-roots",
   "metadata": {},
   "outputs": [],
   "source": [
    "rat_ou_bos = 'bos'\n",
    "geral_vtr_efet_ou_produt = 'geral'"
   ]
  },
  {
   "cell_type": "code",
   "execution_count": 3,
   "id": "wanted-champagne",
   "metadata": {},
   "outputs": [],
   "source": [
    "df = pd.read_sql('select * from tbl_{}_{}'.format(rat_ou_bos, geral_vtr_efet_ou_produt), 'sqlite:///gdo.db')"
   ]
  },
  {
   "cell_type": "code",
   "execution_count": 4,
   "id": "preliminary-trauma",
   "metadata": {},
   "outputs": [],
   "source": [
    "df_reunioes = df[\n",
    "    df['NAT.CODIGO'].str.contains('A19')\n",
    "]"
   ]
  },
  {
   "cell_type": "code",
   "execution_count": 5,
   "id": "indonesian-belfast",
   "metadata": {},
   "outputs": [
    {
     "data": {
      "text/plain": [
       "142 CIA    61\n",
       "53 CIA     51\n",
       "139 CIA    48\n",
       "51 CIA     47\n",
       "Name: CIA, dtype: int64"
      ]
     },
     "execution_count": 5,
     "metadata": {},
     "output_type": "execute_result"
    }
   ],
   "source": [
    "df_reunioes['CIA'].value_counts()"
   ]
  },
  {
   "cell_type": "code",
   "execution_count": 27,
   "id": "stretch-regard",
   "metadata": {},
   "outputs": [],
   "source": [
    "teste = pd.DataFrame({'foo': [1, 2, 3, 6, 2, 1, 3], 'bar':[3, 4, 7, 8, 4, 3, 1]})"
   ]
  },
  {
   "cell_type": "code",
   "execution_count": null,
   "id": "separate-theta",
   "metadata": {},
   "outputs": [],
   "source": []
  },
  {
   "cell_type": "code",
   "execution_count": 28,
   "id": "american-economics",
   "metadata": {},
   "outputs": [
    {
     "data": {
      "text/html": [
       "<div>\n",
       "<style scoped>\n",
       "    .dataframe tbody tr th:only-of-type {\n",
       "        vertical-align: middle;\n",
       "    }\n",
       "\n",
       "    .dataframe tbody tr th {\n",
       "        vertical-align: top;\n",
       "    }\n",
       "\n",
       "    .dataframe thead th {\n",
       "        text-align: right;\n",
       "    }\n",
       "</style>\n",
       "<table border=\"1\" class=\"dataframe\">\n",
       "  <thead>\n",
       "    <tr style=\"text-align: right;\">\n",
       "      <th></th>\n",
       "      <th>bar</th>\n",
       "    </tr>\n",
       "    <tr>\n",
       "      <th>foo</th>\n",
       "      <th></th>\n",
       "    </tr>\n",
       "  </thead>\n",
       "  <tbody>\n",
       "    <tr>\n",
       "      <th>1</th>\n",
       "      <td>2</td>\n",
       "    </tr>\n",
       "    <tr>\n",
       "      <th>2</th>\n",
       "      <td>2</td>\n",
       "    </tr>\n",
       "    <tr>\n",
       "      <th>3</th>\n",
       "      <td>2</td>\n",
       "    </tr>\n",
       "    <tr>\n",
       "      <th>6</th>\n",
       "      <td>1</td>\n",
       "    </tr>\n",
       "  </tbody>\n",
       "</table>\n",
       "</div>"
      ],
      "text/plain": [
       "     bar\n",
       "foo     \n",
       "1      2\n",
       "2      2\n",
       "3      2\n",
       "6      1"
      ]
     },
     "execution_count": 28,
     "metadata": {},
     "output_type": "execute_result"
    }
   ],
   "source": [
    "teste.groupby('foo').count()"
   ]
  },
  {
   "cell_type": "code",
   "execution_count": 13,
   "id": "minute-activity",
   "metadata": {},
   "outputs": [
    {
     "ename": "ValueError",
     "evalue": "Grouper for 'CIA' not 1-dimensional",
     "output_type": "error",
     "traceback": [
      "\u001b[0;31m---------------------------------------------------------------------------\u001b[0m",
      "\u001b[0;31mValueError\u001b[0m                                Traceback (most recent call last)",
      "\u001b[0;32m<ipython-input-13-b580db867988>\u001b[0m in \u001b[0;36m<module>\u001b[0;34m\u001b[0m\n\u001b[0;32m----> 1\u001b[0;31m \u001b[0mpd\u001b[0m\u001b[0;34m.\u001b[0m\u001b[0mpivot_table\u001b[0m\u001b[0;34m(\u001b[0m\u001b[0mdf_reunioes\u001b[0m\u001b[0;34m,\u001b[0m \u001b[0mindex\u001b[0m \u001b[0;34m=\u001b[0m \u001b[0;34m'CIA'\u001b[0m\u001b[0;34m,\u001b[0m \u001b[0mcolumns\u001b[0m \u001b[0;34m=\u001b[0m \u001b[0;34m[\u001b[0m\u001b[0;34m'ANO'\u001b[0m\u001b[0;34m,\u001b[0m \u001b[0;34m'CIA'\u001b[0m\u001b[0;34m]\u001b[0m\u001b[0;34m,\u001b[0m \u001b[0mvalues\u001b[0m \u001b[0;34m=\u001b[0m \u001b[0;34m'RAT.NUM_ATIVIDADE'\u001b[0m\u001b[0;34m,\u001b[0m \u001b[0maggfunc\u001b[0m\u001b[0;34m=\u001b[0m\u001b[0;34m'count'\u001b[0m\u001b[0;34m)\u001b[0m\u001b[0;34m.\u001b[0m\u001b[0mfillna\u001b[0m\u001b[0;34m(\u001b[0m\u001b[0;36m0\u001b[0m\u001b[0;34m)\u001b[0m\u001b[0;34m\u001b[0m\u001b[0;34m\u001b[0m\u001b[0m\n\u001b[0m",
      "\u001b[0;32m/usr/local/lib/python3.9/site-packages/pandas/core/reshape/pivot.py\u001b[0m in \u001b[0;36mpivot_table\u001b[0;34m(data, values, index, columns, aggfunc, fill_value, margins, dropna, margins_name, observed)\u001b[0m\n\u001b[1;32m    110\u001b[0m         \u001b[0mvalues\u001b[0m \u001b[0;34m=\u001b[0m \u001b[0mlist\u001b[0m\u001b[0;34m(\u001b[0m\u001b[0mvalues\u001b[0m\u001b[0;34m)\u001b[0m\u001b[0;34m\u001b[0m\u001b[0;34m\u001b[0m\u001b[0m\n\u001b[1;32m    111\u001b[0m \u001b[0;34m\u001b[0m\u001b[0m\n\u001b[0;32m--> 112\u001b[0;31m     \u001b[0mgrouped\u001b[0m \u001b[0;34m=\u001b[0m \u001b[0mdata\u001b[0m\u001b[0;34m.\u001b[0m\u001b[0mgroupby\u001b[0m\u001b[0;34m(\u001b[0m\u001b[0mkeys\u001b[0m\u001b[0;34m,\u001b[0m \u001b[0mobserved\u001b[0m\u001b[0;34m=\u001b[0m\u001b[0mobserved\u001b[0m\u001b[0;34m)\u001b[0m\u001b[0;34m\u001b[0m\u001b[0;34m\u001b[0m\u001b[0m\n\u001b[0m\u001b[1;32m    113\u001b[0m     \u001b[0magged\u001b[0m \u001b[0;34m=\u001b[0m \u001b[0mgrouped\u001b[0m\u001b[0;34m.\u001b[0m\u001b[0magg\u001b[0m\u001b[0;34m(\u001b[0m\u001b[0maggfunc\u001b[0m\u001b[0;34m)\u001b[0m\u001b[0;34m\u001b[0m\u001b[0;34m\u001b[0m\u001b[0m\n\u001b[1;32m    114\u001b[0m     \u001b[0;32mif\u001b[0m \u001b[0mdropna\u001b[0m \u001b[0;32mand\u001b[0m \u001b[0misinstance\u001b[0m\u001b[0;34m(\u001b[0m\u001b[0magged\u001b[0m\u001b[0;34m,\u001b[0m \u001b[0mABCDataFrame\u001b[0m\u001b[0;34m)\u001b[0m \u001b[0;32mand\u001b[0m \u001b[0mlen\u001b[0m\u001b[0;34m(\u001b[0m\u001b[0magged\u001b[0m\u001b[0;34m.\u001b[0m\u001b[0mcolumns\u001b[0m\u001b[0;34m)\u001b[0m\u001b[0;34m:\u001b[0m\u001b[0;34m\u001b[0m\u001b[0;34m\u001b[0m\u001b[0m\n",
      "\u001b[0;32m/usr/local/lib/python3.9/site-packages/pandas/core/frame.py\u001b[0m in \u001b[0;36mgroupby\u001b[0;34m(self, by, axis, level, as_index, sort, group_keys, squeeze, observed, dropna)\u001b[0m\n\u001b[1;32m   6715\u001b[0m         \u001b[0maxis\u001b[0m \u001b[0;34m=\u001b[0m \u001b[0mself\u001b[0m\u001b[0;34m.\u001b[0m\u001b[0m_get_axis_number\u001b[0m\u001b[0;34m(\u001b[0m\u001b[0maxis\u001b[0m\u001b[0;34m)\u001b[0m\u001b[0;34m\u001b[0m\u001b[0;34m\u001b[0m\u001b[0m\n\u001b[1;32m   6716\u001b[0m \u001b[0;34m\u001b[0m\u001b[0m\n\u001b[0;32m-> 6717\u001b[0;31m         return DataFrameGroupBy(\n\u001b[0m\u001b[1;32m   6718\u001b[0m             \u001b[0mobj\u001b[0m\u001b[0;34m=\u001b[0m\u001b[0mself\u001b[0m\u001b[0;34m,\u001b[0m\u001b[0;34m\u001b[0m\u001b[0;34m\u001b[0m\u001b[0m\n\u001b[1;32m   6719\u001b[0m             \u001b[0mkeys\u001b[0m\u001b[0;34m=\u001b[0m\u001b[0mby\u001b[0m\u001b[0;34m,\u001b[0m\u001b[0;34m\u001b[0m\u001b[0;34m\u001b[0m\u001b[0m\n",
      "\u001b[0;32m/usr/local/lib/python3.9/site-packages/pandas/core/groupby/groupby.py\u001b[0m in \u001b[0;36m__init__\u001b[0;34m(self, obj, keys, axis, level, grouper, exclusions, selection, as_index, sort, group_keys, squeeze, observed, mutated, dropna)\u001b[0m\n\u001b[1;32m    558\u001b[0m             \u001b[0;32mfrom\u001b[0m \u001b[0mpandas\u001b[0m\u001b[0;34m.\u001b[0m\u001b[0mcore\u001b[0m\u001b[0;34m.\u001b[0m\u001b[0mgroupby\u001b[0m\u001b[0;34m.\u001b[0m\u001b[0mgrouper\u001b[0m \u001b[0;32mimport\u001b[0m \u001b[0mget_grouper\u001b[0m\u001b[0;34m\u001b[0m\u001b[0;34m\u001b[0m\u001b[0m\n\u001b[1;32m    559\u001b[0m \u001b[0;34m\u001b[0m\u001b[0m\n\u001b[0;32m--> 560\u001b[0;31m             grouper, exclusions, obj = get_grouper(\n\u001b[0m\u001b[1;32m    561\u001b[0m                 \u001b[0mobj\u001b[0m\u001b[0;34m,\u001b[0m\u001b[0;34m\u001b[0m\u001b[0;34m\u001b[0m\u001b[0m\n\u001b[1;32m    562\u001b[0m                 \u001b[0mkeys\u001b[0m\u001b[0;34m,\u001b[0m\u001b[0;34m\u001b[0m\u001b[0;34m\u001b[0m\u001b[0m\n",
      "\u001b[0;32m/usr/local/lib/python3.9/site-packages/pandas/core/groupby/grouper.py\u001b[0m in \u001b[0;36mget_grouper\u001b[0;34m(obj, key, axis, level, sort, observed, mutated, validate, dropna)\u001b[0m\n\u001b[1;32m    826\u001b[0m         \u001b[0;31m# allow us to passing the actual Grouping as the gpr\u001b[0m\u001b[0;34m\u001b[0m\u001b[0;34m\u001b[0m\u001b[0;34m\u001b[0m\u001b[0m\n\u001b[1;32m    827\u001b[0m         ping = (\n\u001b[0;32m--> 828\u001b[0;31m             Grouping(\n\u001b[0m\u001b[1;32m    829\u001b[0m                 \u001b[0mgroup_axis\u001b[0m\u001b[0;34m,\u001b[0m\u001b[0;34m\u001b[0m\u001b[0;34m\u001b[0m\u001b[0m\n\u001b[1;32m    830\u001b[0m                 \u001b[0mgpr\u001b[0m\u001b[0;34m,\u001b[0m\u001b[0;34m\u001b[0m\u001b[0;34m\u001b[0m\u001b[0m\n",
      "\u001b[0;32m/usr/local/lib/python3.9/site-packages/pandas/core/groupby/grouper.py\u001b[0m in \u001b[0;36m__init__\u001b[0;34m(self, index, grouper, obj, name, level, sort, observed, in_axis, dropna)\u001b[0m\n\u001b[1;32m    541\u001b[0m                 \u001b[0;32mif\u001b[0m \u001b[0mgetattr\u001b[0m\u001b[0;34m(\u001b[0m\u001b[0mself\u001b[0m\u001b[0;34m.\u001b[0m\u001b[0mgrouper\u001b[0m\u001b[0;34m,\u001b[0m \u001b[0;34m\"ndim\"\u001b[0m\u001b[0;34m,\u001b[0m \u001b[0;36m1\u001b[0m\u001b[0;34m)\u001b[0m \u001b[0;34m!=\u001b[0m \u001b[0;36m1\u001b[0m\u001b[0;34m:\u001b[0m\u001b[0;34m\u001b[0m\u001b[0;34m\u001b[0m\u001b[0m\n\u001b[1;32m    542\u001b[0m                     \u001b[0mt\u001b[0m \u001b[0;34m=\u001b[0m \u001b[0mself\u001b[0m\u001b[0;34m.\u001b[0m\u001b[0mname\u001b[0m \u001b[0;32mor\u001b[0m \u001b[0mstr\u001b[0m\u001b[0;34m(\u001b[0m\u001b[0mtype\u001b[0m\u001b[0;34m(\u001b[0m\u001b[0mself\u001b[0m\u001b[0;34m.\u001b[0m\u001b[0mgrouper\u001b[0m\u001b[0;34m)\u001b[0m\u001b[0;34m)\u001b[0m\u001b[0;34m\u001b[0m\u001b[0;34m\u001b[0m\u001b[0m\n\u001b[0;32m--> 543\u001b[0;31m                     \u001b[0;32mraise\u001b[0m \u001b[0mValueError\u001b[0m\u001b[0;34m(\u001b[0m\u001b[0;34mf\"Grouper for '{t}' not 1-dimensional\"\u001b[0m\u001b[0;34m)\u001b[0m\u001b[0;34m\u001b[0m\u001b[0;34m\u001b[0m\u001b[0m\n\u001b[0m\u001b[1;32m    544\u001b[0m                 \u001b[0mself\u001b[0m\u001b[0;34m.\u001b[0m\u001b[0mgrouper\u001b[0m \u001b[0;34m=\u001b[0m \u001b[0mself\u001b[0m\u001b[0;34m.\u001b[0m\u001b[0mindex\u001b[0m\u001b[0;34m.\u001b[0m\u001b[0mmap\u001b[0m\u001b[0;34m(\u001b[0m\u001b[0mself\u001b[0m\u001b[0;34m.\u001b[0m\u001b[0mgrouper\u001b[0m\u001b[0;34m)\u001b[0m\u001b[0;34m\u001b[0m\u001b[0;34m\u001b[0m\u001b[0m\n\u001b[1;32m    545\u001b[0m                 if not (\n",
      "\u001b[0;31mValueError\u001b[0m: Grouper for 'CIA' not 1-dimensional"
     ]
    }
   ],
   "source": [
    "pd.pivot_table(df_reunioes, index = 'CIA', columns = ['ANO', 'CIA'], values = 'RAT.NUM_ATIVIDADE', aggfunc='count').fillna(0)"
   ]
  },
  {
   "cell_type": "code",
   "execution_count": null,
   "id": "final-fisher",
   "metadata": {},
   "outputs": [],
   "source": [
    "def classifica_cia_por_unid_area(row):\n",
    "    if '51 CIA' in row['NOM_UNIDADE_AREA']:\n",
    "        return '51 CIA'\n",
    "    elif '53 CIA' in row['NOM_UNIDADE_AREA']:\n",
    "        return '53 CIA'\n",
    "    elif '139 CIA' in row['NOM_UNIDADE_AREA']:\n",
    "        return '139 CIA'\n",
    "    elif '142 CIA' in row['NOM_UNIDADE_AREA']:\n",
    "        return '142 CIA'\n",
    "    elif row['MUNICIPIO'] in ['CARMO DO CAJURU', 'SAO GONCALO DO PARA']:\n",
    "        return '142 CIA'\n",
    "    elif row['MUNICIPIO'] in ['ITAUNA', 'ITATIAIUCU']:\n",
    "        return '51 CIA'\n",
    "    elif row['MUNICIPIO'] == 'CLAUDIO':\n",
    "        return '139 CIA'\n",
    "    elif '51 CIA' in row['NOM_UNID_RESPONSAVEL']:\n",
    "        return '51 CIA'\n",
    "    elif '53 CIA' in row['NOM_UNID_RESPONSAVEL']:\n",
    "        return '53 CIA'\n",
    "    elif '139 CIA' in row['NOM_UNID_RESPONSAVEL']:\n",
    "        return '139 CIA'\n",
    "    elif '142 CIA' in row['NOM_UNID_RESPONSAVEL']:\n",
    "        return '142 CIA'\n",
    "    else:\n",
    "        return 'INDEFINIDA'\n",
    "df_reunioes['CIA_'] = "
   ]
  },
  {
   "cell_type": "code",
   "execution_count": 64,
   "id": "hollow-copper",
   "metadata": {},
   "outputs": [],
   "source": [
    "df_rat_23_pog = df_rat_23[\n",
    "    ( df_rat_23['NAT.CODIGO'].isin(constantes.NATUREZAS_POG) ) &    \n",
    "    ( ~ df_rat_23['NOM_UNID_RESPONSAVEL'].str.contains('IND PE', na=False) ) &\n",
    "    ( ~ df_rat_23['NOM_UNID_RESPONSAVEL'].str.contains('CPE', na=False) ) &\n",
    "    ( ~ df_rat_23['NOM_UNID_RESPONSAVEL'].str.contains('PRV', na=False) ) &\n",
    "    ( ~ df_rat_23['NOM_UNID_RESPONSAVEL'].str.contains('MAMB', na=False) ) &\n",
    "    ( df_rat_23['ANO'] == 2021 )\n",
    "]"
   ]
  },
  {
   "cell_type": "code",
   "execution_count": 65,
   "id": "fuzzy-armenia",
   "metadata": {},
   "outputs": [
    {
     "name": "stderr",
     "output_type": "stream",
     "text": [
      "<ipython-input-65-92fb24192551>:26: SettingWithCopyWarning: \n",
      "A value is trying to be set on a copy of a slice from a DataFrame.\n",
      "Try using .loc[row_indexer,col_indexer] = value instead\n",
      "\n",
      "See the caveats in the documentation: https://pandas.pydata.org/pandas-docs/stable/user_guide/indexing.html#returning-a-view-versus-a-copy\n",
      "  df_rat_23_pog['CIA_UNIDADE_DE_AREA'] = df_rat_23_pog.apply(lambda row: classifica_cia_por_unid_area(row), axis=1)\n"
     ]
    }
   ],
   "source": [
    "def classifica_cia_por_unid_area(row):\n",
    "    if '51 CIA' in row['NOM_UNIDADE_AREA']:\n",
    "        return '51 CIA'\n",
    "    elif '53 CIA' in row['NOM_UNIDADE_AREA']:\n",
    "        return '53 CIA'\n",
    "    elif '139 CIA' in row['NOM_UNIDADE_AREA']:\n",
    "        return '139 CIA'\n",
    "    elif '142 CIA' in row['NOM_UNIDADE_AREA']:\n",
    "        return '142 CIA'\n",
    "    elif row['MUNICIPIO'] in ['CARMO DO CAJURU', 'SAO GONCALO DO PARA']:\n",
    "        return '142 CIA'\n",
    "    elif row['MUNICIPIO'] in ['ITAUNA', 'ITATIAIUCU']:\n",
    "        return '51 CIA'\n",
    "    elif row['MUNICIPIO'] == 'CLAUDIO':\n",
    "        return '139 CIA'\n",
    "    elif '51 CIA' in row['NOM_UNID_RESPONSAVEL']:\n",
    "        return '51 CIA'\n",
    "    elif '53 CIA' in row['NOM_UNID_RESPONSAVEL']:\n",
    "        return '53 CIA'\n",
    "    elif '139 CIA' in row['NOM_UNID_RESPONSAVEL']:\n",
    "        return '139 CIA'\n",
    "    elif '142 CIA' in row['NOM_UNID_RESPONSAVEL']:\n",
    "        return '142 CIA'\n",
    "    else:\n",
    "        return 'INDEFINIDA'\n",
    "df_rat_23_pog['CIA_UNIDADE_DE_AREA'] = df_rat_23_pog.apply(lambda row: classifica_cia_por_unid_area(row), axis=1)"
   ]
  },
  {
   "cell_type": "code",
   "execution_count": 66,
   "id": "certain-briefs",
   "metadata": {},
   "outputs": [
    {
     "data": {
      "text/html": [
       "<div>\n",
       "<style scoped>\n",
       "    .dataframe tbody tr th:only-of-type {\n",
       "        vertical-align: middle;\n",
       "    }\n",
       "\n",
       "    .dataframe tbody tr th {\n",
       "        vertical-align: top;\n",
       "    }\n",
       "\n",
       "    .dataframe thead th {\n",
       "        text-align: right;\n",
       "    }\n",
       "</style>\n",
       "<table border=\"1\" class=\"dataframe\">\n",
       "  <thead>\n",
       "    <tr style=\"text-align: right;\">\n",
       "      <th></th>\n",
       "      <th>RAT.NUM_ATIVIDADE</th>\n",
       "      <th>TIPO_LOGRADOURO</th>\n",
       "      <th>LOGRADOURO</th>\n",
       "      <th>DES_ENDERECO</th>\n",
       "      <th>NUM_ENDERECO</th>\n",
       "      <th>COMPLEMENTO_ALFA</th>\n",
       "      <th>COMPLEMENTO_ENDERECO</th>\n",
       "      <th>NUM_COMPLEMENTAR</th>\n",
       "      <th>COD_BAIRRO</th>\n",
       "      <th>NOME_BAIRRO</th>\n",
       "      <th>TIPO_LOGRADOURO2</th>\n",
       "      <th>LOGRADOURO2</th>\n",
       "      <th>DES_ENDERECO2</th>\n",
       "      <th>MUNICIPIO</th>\n",
       "      <th>NOM_UNID_RESPONSAVEL</th>\n",
       "    </tr>\n",
       "  </thead>\n",
       "  <tbody>\n",
       "    <tr>\n",
       "      <th>1947</th>\n",
       "      <td>2021-002644793-001</td>\n",
       "      <td>AVENIDA</td>\n",
       "      <td>PARANA</td>\n",
       "      <td>PARANA</td>\n",
       "      <td>1797</td>\n",
       "      <td></td>\n",
       "      <td></td>\n",
       "      <td></td>\n",
       "      <td></td>\n",
       "      <td></td>\n",
       "      <td></td>\n",
       "      <td></td>\n",
       "      <td></td>\n",
       "      <td>DIVINOPOLIS</td>\n",
       "      <td>240 CIA TM/23 BPM/7 RPM</td>\n",
       "    </tr>\n",
       "    <tr>\n",
       "      <th>1948</th>\n",
       "      <td>2021-002645612-001</td>\n",
       "      <td>RUA</td>\n",
       "      <td>CRISTO REDENTOR</td>\n",
       "      <td>CRISTO REDENTOR</td>\n",
       "      <td>1681</td>\n",
       "      <td></td>\n",
       "      <td></td>\n",
       "      <td></td>\n",
       "      <td></td>\n",
       "      <td></td>\n",
       "      <td></td>\n",
       "      <td></td>\n",
       "      <td></td>\n",
       "      <td>DIVINOPOLIS</td>\n",
       "      <td>240 CIA TM/23 BPM/7 RPM</td>\n",
       "    </tr>\n",
       "    <tr>\n",
       "      <th>1950</th>\n",
       "      <td>2021-002646933-001</td>\n",
       "      <td>RUA</td>\n",
       "      <td>SANTA CLARA</td>\n",
       "      <td>SANTA CLARA</td>\n",
       "      <td>660</td>\n",
       "      <td></td>\n",
       "      <td></td>\n",
       "      <td></td>\n",
       "      <td></td>\n",
       "      <td></td>\n",
       "      <td></td>\n",
       "      <td></td>\n",
       "      <td></td>\n",
       "      <td>DIVINOPOLIS</td>\n",
       "      <td>240 CIA TM/23 BPM/7 RPM</td>\n",
       "    </tr>\n",
       "    <tr>\n",
       "      <th>4610</th>\n",
       "      <td>2021-005901823-001</td>\n",
       "      <td>ACESSO RURAL</td>\n",
       "      <td></td>\n",
       "      <td>CHACARAS BELO HORIZONTE</td>\n",
       "      <td></td>\n",
       "      <td></td>\n",
       "      <td></td>\n",
       "      <td></td>\n",
       "      <td></td>\n",
       "      <td></td>\n",
       "      <td></td>\n",
       "      <td></td>\n",
       "      <td></td>\n",
       "      <td>DIVINOPOLIS</td>\n",
       "      <td>240 CIA TM/23 BPM/7 RPM</td>\n",
       "    </tr>\n",
       "    <tr>\n",
       "      <th>6688</th>\n",
       "      <td>2021-009110130-001</td>\n",
       "      <td>ACESSO RURAL</td>\n",
       "      <td></td>\n",
       "      <td>CHACARAS BH</td>\n",
       "      <td>0</td>\n",
       "      <td></td>\n",
       "      <td></td>\n",
       "      <td></td>\n",
       "      <td></td>\n",
       "      <td></td>\n",
       "      <td></td>\n",
       "      <td></td>\n",
       "      <td></td>\n",
       "      <td>DIVINOPOLIS</td>\n",
       "      <td>23 BPM/7 RPM</td>\n",
       "    </tr>\n",
       "  </tbody>\n",
       "</table>\n",
       "</div>"
      ],
      "text/plain": [
       "       RAT.NUM_ATIVIDADE TIPO_LOGRADOURO       LOGRADOURO  \\\n",
       "1947  2021-002644793-001         AVENIDA           PARANA   \n",
       "1948  2021-002645612-001             RUA  CRISTO REDENTOR   \n",
       "1950  2021-002646933-001             RUA      SANTA CLARA   \n",
       "4610  2021-005901823-001    ACESSO RURAL                    \n",
       "6688  2021-009110130-001    ACESSO RURAL                    \n",
       "\n",
       "                 DES_ENDERECO NUM_ENDERECO COMPLEMENTO_ALFA  \\\n",
       "1947                   PARANA         1797                    \n",
       "1948          CRISTO REDENTOR         1681                    \n",
       "1950              SANTA CLARA          660                    \n",
       "4610  CHACARAS BELO HORIZONTE                                 \n",
       "6688              CHACARAS BH            0                    \n",
       "\n",
       "     COMPLEMENTO_ENDERECO NUM_COMPLEMENTAR COD_BAIRRO NOME_BAIRRO  \\\n",
       "1947                                                                \n",
       "1948                                                                \n",
       "1950                                                                \n",
       "4610                                                                \n",
       "6688                                                                \n",
       "\n",
       "     TIPO_LOGRADOURO2 LOGRADOURO2 DES_ENDERECO2    MUNICIPIO  \\\n",
       "1947                                             DIVINOPOLIS   \n",
       "1948                                             DIVINOPOLIS   \n",
       "1950                                             DIVINOPOLIS   \n",
       "4610                                             DIVINOPOLIS   \n",
       "6688                                             DIVINOPOLIS   \n",
       "\n",
       "         NOM_UNID_RESPONSAVEL  \n",
       "1947  240 CIA TM/23 BPM/7 RPM  \n",
       "1948  240 CIA TM/23 BPM/7 RPM  \n",
       "1950  240 CIA TM/23 BPM/7 RPM  \n",
       "4610  240 CIA TM/23 BPM/7 RPM  \n",
       "6688             23 BPM/7 RPM  "
      ]
     },
     "execution_count": 66,
     "metadata": {},
     "output_type": "execute_result"
    }
   ],
   "source": [
    "df_rat_23_pog[\n",
    "    df_rat_23_pog['CIA_UNIDADE_DE_AREA'] == 'INDEFINIDA'\n",
    "][\n",
    "    [\n",
    "        'RAT.NUM_ATIVIDADE', 'TIPO_LOGRADOURO',\n",
    "        'LOGRADOURO', 'DES_ENDERECO', 'NUM_ENDERECO', 'COMPLEMENTO_ALFA',\n",
    "        'COMPLEMENTO_ENDERECO', 'NUM_COMPLEMENTAR', 'COD_BAIRRO', 'NOME_BAIRRO',\n",
    "        'TIPO_LOGRADOURO2', 'LOGRADOURO2', 'DES_ENDERECO2',\n",
    "        'MUNICIPIO', 'NOM_UNID_RESPONSAVEL']\n",
    "]"
   ]
  },
  {
   "cell_type": "code",
   "execution_count": 67,
   "id": "industrial-clear",
   "metadata": {},
   "outputs": [],
   "source": [
    "classificador_ultimos = {\n",
    "    '2021-002644793-001': '139 CIA',\n",
    "    '2021-002645612-001': '139 CIA',\n",
    "    '2021-002646933-001': '142 CIA',\n",
    "    '2021-005901823-001': '142 CIA',\n",
    "    '2021-009110130-001': '142 CIA'\n",
    "}"
   ]
  },
  {
   "cell_type": "code",
   "execution_count": 68,
   "id": "floral-passing",
   "metadata": {},
   "outputs": [
    {
     "name": "stderr",
     "output_type": "stream",
     "text": [
      "<ipython-input-68-3ea280e0285d>:7: SettingWithCopyWarning: \n",
      "A value is trying to be set on a copy of a slice from a DataFrame.\n",
      "Try using .loc[row_indexer,col_indexer] = value instead\n",
      "\n",
      "See the caveats in the documentation: https://pandas.pydata.org/pandas-docs/stable/user_guide/indexing.html#returning-a-view-versus-a-copy\n",
      "  df_rat_23_pog['CIA_UNIDADE_DE_AREA'] = df_rat_23_pog.apply(lambda row: classifica_ultimos(row), axis=1)\n"
     ]
    }
   ],
   "source": [
    "def classifica_ultimos(row):\n",
    "    if row['CIA_UNIDADE_DE_AREA'] == 'INDEFINIDA':\n",
    "        return classificador_ultimos[row['RAT.NUM_ATIVIDADE']]\n",
    "    else:\n",
    "        return row['CIA_UNIDADE_DE_AREA']\n",
    "\n",
    "df_rat_23_pog['CIA_UNIDADE_DE_AREA'] = df_rat_23_pog.apply(lambda row: classifica_ultimos(row), axis=1)"
   ]
  },
  {
   "cell_type": "code",
   "execution_count": 69,
   "id": "optimum-energy",
   "metadata": {},
   "outputs": [
    {
     "data": {
      "text/html": [
       "<div>\n",
       "<style scoped>\n",
       "    .dataframe tbody tr th:only-of-type {\n",
       "        vertical-align: middle;\n",
       "    }\n",
       "\n",
       "    .dataframe tbody tr th {\n",
       "        vertical-align: top;\n",
       "    }\n",
       "\n",
       "    .dataframe thead tr th {\n",
       "        text-align: left;\n",
       "    }\n",
       "\n",
       "    .dataframe thead tr:last-of-type th {\n",
       "        text-align: right;\n",
       "    }\n",
       "</style>\n",
       "<table border=\"1\" class=\"dataframe\">\n",
       "  <thead>\n",
       "    <tr>\n",
       "      <th>ANO</th>\n",
       "      <th colspan=\"2\" halign=\"left\">2021</th>\n",
       "    </tr>\n",
       "    <tr>\n",
       "      <th>MES</th>\n",
       "      <th>1</th>\n",
       "      <th>2</th>\n",
       "    </tr>\n",
       "    <tr>\n",
       "      <th>CIA_UNIDADE_DE_AREA</th>\n",
       "      <th></th>\n",
       "      <th></th>\n",
       "    </tr>\n",
       "  </thead>\n",
       "  <tbody>\n",
       "    <tr>\n",
       "      <th>139 CIA</th>\n",
       "      <td>482</td>\n",
       "      <td>257</td>\n",
       "    </tr>\n",
       "    <tr>\n",
       "      <th>142 CIA</th>\n",
       "      <td>588</td>\n",
       "      <td>326</td>\n",
       "    </tr>\n",
       "    <tr>\n",
       "      <th>51 CIA</th>\n",
       "      <td>325</td>\n",
       "      <td>267</td>\n",
       "    </tr>\n",
       "    <tr>\n",
       "      <th>53 CIA</th>\n",
       "      <td>331</td>\n",
       "      <td>175</td>\n",
       "    </tr>\n",
       "  </tbody>\n",
       "</table>\n",
       "</div>"
      ],
      "text/plain": [
       "ANO                 2021     \n",
       "MES                    1    2\n",
       "CIA_UNIDADE_DE_AREA          \n",
       "139 CIA              482  257\n",
       "142 CIA              588  326\n",
       "51 CIA               325  267\n",
       "53 CIA               331  175"
      ]
     },
     "execution_count": 69,
     "metadata": {},
     "output_type": "execute_result"
    }
   ],
   "source": [
    "pd.pivot_table(df_rat_23_pog,index='CIA_UNIDADE_DE_AREA', columns=['ANO', 'MES'], values='RAT.NUM_ATIVIDADE', aggfunc='count')"
   ]
  }
 ],
 "metadata": {
  "kernelspec": {
   "display_name": "Python 3",
   "language": "python",
   "name": "python3"
  },
  "language_info": {
   "codemirror_mode": {
    "name": "ipython",
    "version": 3
   },
   "file_extension": ".py",
   "mimetype": "text/x-python",
   "name": "python",
   "nbconvert_exporter": "python",
   "pygments_lexer": "ipython3",
   "version": "3.9.2"
  }
 },
 "nbformat": 4,
 "nbformat_minor": 5
}
