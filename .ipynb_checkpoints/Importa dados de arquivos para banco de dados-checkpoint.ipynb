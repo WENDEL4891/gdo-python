{
 "cells": [
  {
   "cell_type": "code",
   "execution_count": 12,
   "id": "small-release",
   "metadata": {},
   "outputs": [],
   "source": [
    "from tratamento_de_arquivos_e_dados import dados_para_banco_de_dados.\n",
    "\n",
    "\n",
    "dados_para_banco_de_dados.dados_dos_arquivos_para_bd\n",
    "dados_dos_arquivos_para_bd(self, rat_ou_bos='RAT', tipo='geral', apenas_nao_importados='True')"
   ]
  },
  {
   "cell_type": "code",
   "execution_count": 13,
   "id": "advanced-archives",
   "metadata": {},
   "outputs": [
    {
     "name": "stderr",
     "output_type": "stream",
     "text": [
      "/usr/local/lib/python3.9/site-packages/IPython/core/interactiveshell.py:3357: DtypeWarning: Columns (25) have mixed types.Specify dtype option on import or set low_memory=False.\n",
      "  if (await self.run_code(code, result,  async_=asy)):\n"
     ]
    }
   ],
   "source": [
    "df_rats_23 = tratador_de_arquivos().read_files(files_names['rat'])"
   ]
  },
  {
   "cell_type": "code",
   "execution_count": 16,
   "id": "continental-bankruptcy",
   "metadata": {},
   "outputs": [
    {
     "data": {
      "text/plain": [
       "Index(['RAT.NUM_ATIVIDADE', 'NAT.CODIGO', 'NAT.DESCRICAO', 'DTA_HRA_INCLUSAO',\n",
       "       'DTA_INICIO', 'HRA_INICIO', 'DTA_TERMINO', 'HRA_TERMINO',\n",
       "       'DES_ALVO_EVENTO', 'DES_LUGAR', 'NOM_OPERACAO', 'COD_UNIDADE_SERVICO',\n",
       "       'NOM_UNID_RESPONSAVEL', 'TIPO_LOGRADOURO', 'LOGRADOURO', 'DES_ENDERECO',\n",
       "       'NUM_ENDERECO', 'COMPLEMENTO_ALFA', 'COMPLEMENTO_ENDERECO',\n",
       "       'NUM_COMPLEMENTAR', 'COD_BAIRRO', 'NOME_BAIRRO', 'TIPO_LOGRADOURO2',\n",
       "       'LOGRADOURO2', 'DES_ENDERECO2', 'COD_MUNICIPIO', 'MUNICIPIO',\n",
       "       'LATITUDE', 'LONGITUDE', 'COD_UNIDADE_AREA', 'NOM_UNIDADE_AREA',\n",
       "       'DIGITADOR'],\n",
       "      dtype='object')"
      ]
     },
     "execution_count": 16,
     "metadata": {},
     "output_type": "execute_result"
    }
   ],
   "source": [
    "df_rats_23.columns"
   ]
  }
 ],
 "metadata": {
  "kernelspec": {
   "display_name": "Python 3",
   "language": "python",
   "name": "python3"
  },
  "language_info": {
   "codemirror_mode": {
    "name": "ipython",
    "version": 3
   },
   "file_extension": ".py",
   "mimetype": "text/x-python",
   "name": "python",
   "nbconvert_exporter": "python",
   "pygments_lexer": "ipython3",
   "version": "3.9.2"
  }
 },
 "nbformat": 4,
 "nbformat_minor": 5
}
