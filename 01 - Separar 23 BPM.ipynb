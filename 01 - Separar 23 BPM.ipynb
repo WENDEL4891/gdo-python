{
 "cells": [
  {
   "cell_type": "code",
   "execution_count": 2,
   "id": "considered-pipeline",
   "metadata": {},
   "outputs": [
    {
     "name": "stderr",
     "output_type": "stream",
     "text": [
      "/usr/local/lib/python3.9/site-packages/pandas/core/strings/accessor.py:101: UserWarning: This pattern has match groups. To actually get the groups, use str.extract.\n",
      "  return func(self, *args, **kwargs)\n",
      "/usr/local/lib/python3.9/site-packages/pandas/core/strings/accessor.py:101: UserWarning: This pattern has match groups. To actually get the groups, use str.extract.\n",
      "  return func(self, *args, **kwargs)\n"
     ]
    }
   ],
   "source": [
    "from tratamento_de_arquivos_e_dados.tratador_de_arquivos import tratador_de_arquivos\n",
    "\n",
    "df_rat_gdo_23 = tratador_de_arquivos().get_rqv_23()"
   ]
  },
  {
   "cell_type": "code",
   "execution_count": 8,
   "id": "classified-clause",
   "metadata": {},
   "outputs": [
    {
     "data": {
      "text/html": [
       "<div>\n",
       "<style scoped>\n",
       "    .dataframe tbody tr th:only-of-type {\n",
       "        vertical-align: middle;\n",
       "    }\n",
       "\n",
       "    .dataframe tbody tr th {\n",
       "        vertical-align: top;\n",
       "    }\n",
       "\n",
       "    .dataframe thead tr th {\n",
       "        text-align: left;\n",
       "    }\n",
       "\n",
       "    .dataframe thead tr:last-of-type th {\n",
       "        text-align: right;\n",
       "    }\n",
       "</style>\n",
       "<table border=\"1\" class=\"dataframe\">\n",
       "  <thead>\n",
       "    <tr>\n",
       "      <th>ANO</th>\n",
       "      <th colspan=\"2\" halign=\"left\">2021</th>\n",
       "    </tr>\n",
       "    <tr>\n",
       "      <th>MES</th>\n",
       "      <th>1</th>\n",
       "      <th>2</th>\n",
       "    </tr>\n",
       "    <tr>\n",
       "      <th>CIA</th>\n",
       "      <th></th>\n",
       "      <th></th>\n",
       "    </tr>\n",
       "  </thead>\n",
       "  <tbody>\n",
       "    <tr>\n",
       "      <th>139 CIA</th>\n",
       "      <td>60</td>\n",
       "      <td>72</td>\n",
       "    </tr>\n",
       "    <tr>\n",
       "      <th>142 CIA</th>\n",
       "      <td>93</td>\n",
       "      <td>104</td>\n",
       "    </tr>\n",
       "    <tr>\n",
       "      <th>51 CIA</th>\n",
       "      <td>51</td>\n",
       "      <td>38</td>\n",
       "    </tr>\n",
       "    <tr>\n",
       "      <th>53 CIA</th>\n",
       "      <td>36</td>\n",
       "      <td>40</td>\n",
       "    </tr>\n",
       "    <tr>\n",
       "      <th>other</th>\n",
       "      <td>0</td>\n",
       "      <td>0</td>\n",
       "    </tr>\n",
       "  </tbody>\n",
       "</table>\n",
       "</div>"
      ],
      "text/plain": [
       "ANO     2021     \n",
       "MES        1    2\n",
       "CIA              \n",
       "139 CIA   60   72\n",
       "142 CIA   93  104\n",
       "51 CIA    51   38\n",
       "53 CIA    36   40\n",
       "other      0    0"
      ]
     },
     "execution_count": 8,
     "metadata": {},
     "output_type": "execute_result"
    }
   ],
   "source": [
    "import pandas as pd\n",
    "pd.pivot_table(df_rat_gdo_23[\n",
    "    ( df_rat_gdo_23['ANO'] == 2021 ) &\n",
    "    ( df_rat_gdo_23['NAT.CODIGO'].isin(['Y07001', 'Y07003', 'Y07004', 'Y07005']))\n",
    "], index='CIA', columns=['ANO', 'MES'], values='EFETIVIDADE', aggfunc='sum').fillna(0).astype('int64')"
   ]
  },
  {
   "cell_type": "code",
   "execution_count": 4,
   "id": "informed-philosophy",
   "metadata": {},
   "outputs": [
    {
     "data": {
      "text/plain": [
       "Y07001    2476\n",
       "Y07003      57\n",
       "Y07005      55\n",
       "Y07004      17\n",
       "Name: NAT.CODIGO, dtype: int64"
      ]
     },
     "execution_count": 4,
     "metadata": {},
     "output_type": "execute_result"
    }
   ],
   "source": [
    "df_rat_gdo_23['NAT.CODIGO'].value_counts()"
   ]
  },
  {
   "cell_type": "code",
   "execution_count": 2,
   "id": "considerable-darwin",
   "metadata": {},
   "outputs": [
    {
     "data": {
      "text/plain": [
       "Index(['NAT.CODIGO', 'NAT.DESCRICAO', 'DTA_HRA_INCLUSAO', 'DTA_INICIO',\n",
       "       'HRA_INICIO', 'DTA_TERMINO', 'HRA_TERMINO', 'DES_ALVO_EVENTO',\n",
       "       'DES_LUGAR', 'NOM_OPERACAO', 'COD_UNIDADE_SERVICO',\n",
       "       'NOM_UNID_RESPONSAVEL', 'TIPO_LOGRADOURO', 'LOGRADOURO', 'DES_ENDERECO',\n",
       "       'NUM_ENDERECO', 'COMPLEMENTO_ALFA', 'COMPLEMENTO_ENDERECO',\n",
       "       'NUM_COMPLEMENTAR', 'COD_BAIRRO', 'NOME_BAIRRO', 'TIPO_LOGRADOURO2',\n",
       "       'LOGRADOURO2', 'DES_ENDERECO2', 'COD_MUNICIPIO', 'MUNICIPIO',\n",
       "       'LATITUDE', 'LONGITUDE', 'COD_UNIDADE_AREA', 'NOM_UNIDADE_AREA',\n",
       "       'DIGITADOR', 'DATA_HORA_INICIO_DATE_TIME', 'DTA_HRA_TERMINO_DT',\n",
       "       'TEMPO_DATE_TIME', 'TEMPO_INTEIRO', 'DIA', 'MES', 'ANO', 'DEZENA',\n",
       "       'SETOR', 'CIA', 'VIATURAS', 'EFETIVO', 'EFETIVIDADE_PARCIAL',\n",
       "       'Qde de locais fiscalizados', 'Qde de pessoas abordadas',\n",
       "       'Qde de pessoas que sopraram o etilometro',\n",
       "       'Qde de veiculos fiscalizados', 'EFICIENCIA_E_EFICACIA', 'EFETIVIDADE'],\n",
       "      dtype='object')"
      ]
     },
     "execution_count": 2,
     "metadata": {},
     "output_type": "execute_result"
    }
   ],
   "source": [
    "df_rat_23.columns"
   ]
  },
  {
   "cell_type": "code",
   "execution_count": 2,
   "id": "musical-cotton",
   "metadata": {},
   "outputs": [],
   "source": [
    "import pandas as pd\n",
    "import sqlite3\n",
    "\n",
    "df_rats = pd.read_sql_table('tbl_rat_geral', 'sqlite:///gdo.db')"
   ]
  },
  {
   "cell_type": "code",
   "execution_count": 3,
   "id": "hundred-recognition",
   "metadata": {},
   "outputs": [],
   "source": [
    "df_rats_todo_estado = pd.read_csv('arquivos/RAT/REDS_RAT_20210101_20210110.csv', sep='|')"
   ]
  },
  {
   "cell_type": "code",
   "execution_count": 22,
   "id": "curious-wisdom",
   "metadata": {},
   "outputs": [],
   "source": [
    "df_rats_todo_estado_bm = df_rats_todo_estado[\n",
    "    df_rats_todo_estado['NOM_UNID_RESPONSAVEL'].str.contains('BM')\n",
    "]"
   ]
  },
  {
   "cell_type": "code",
   "execution_count": 30,
   "id": "available-stupid",
   "metadata": {},
   "outputs": [],
   "source": [
    "rats_bm = list(df_rats_todo_estado_bm['NOM_UNID_RESPONSAVEL'].value_counts().index)\n",
    "rats_bm.sort()"
   ]
  },
  {
   "cell_type": "code",
   "execution_count": 31,
   "id": "liquid-aluminum",
   "metadata": {},
   "outputs": [
    {
     "data": {
      "text/plain": [
       "['10BBM (DIVINOPOLIS) ',\n",
       " '10BBM/1CIA/1PEL ',\n",
       " '10BBM/1CIA/2PEL ',\n",
       " '10BBM/1CIA/3PEL ',\n",
       " '10BBM/1CIA/4PEL ',\n",
       " '10BBM/1CIA/5PEL(FORMIGA) ',\n",
       " '10BBM/1CIA/5PEL/PA BM(ARCOS) ',\n",
       " '10BBM/1CIA/6PEL(OLIVEIRA) ',\n",
       " '10BBM/1CIA/COMANDANTE ',\n",
       " '10BBM/2CIA/1PEL(PARA DE MINAS) ',\n",
       " '10BBM/2CIA/2PEL(ITAUNA) ',\n",
       " '10BBM/2CIA/3PEL(NOVA SERRANA) ',\n",
       " '10BBM/2CIA/3PEL/PA BM(BOM DESPACHO) ',\n",
       " '10BBM/3CIA PREV E VIST/CMT/SUBCMT ',\n",
       " '11BBM (IPATINGA) ',\n",
       " '11BBM/1CIA/2PEL ',\n",
       " '11BBM/1CIA/3PEL ',\n",
       " '11BBM/1CIA/5PEL(CEL FABRICIANO) ',\n",
       " '11BBM/1CIA/6PEL(ITABIRA) ',\n",
       " '11BBM/1CIA/7PEL(TIMOTEO) ',\n",
       " '11BBM/2CIA/1PEL(MANHUACU) ',\n",
       " '11BBM/2CIA/2PEL(CARATINGA) ',\n",
       " '11BBM/2CIA/2PEL/GPV(CARATINGA) ',\n",
       " '11BBM/2CIA/3PEL(PONTE NOVA) ',\n",
       " '12BBM/1CIA/1PEL ',\n",
       " '12BBM/1CIA/CICC(REPRESENTACAO DO CBMMG) ',\n",
       " '12BBM/2CIA/1PEL(UNAI) ',\n",
       " '12BBM/GABINETE/SUBCOMANDANTE ',\n",
       " '1BBM (BELO HORIZONTE) ',\n",
       " '1BBM/1CIA/1PEL ',\n",
       " '1BBM/1CIA/2PEL ',\n",
       " '1BBM/1CIA/3PEL ',\n",
       " '1BBM/1CIA/4PEL ',\n",
       " '1BBM/1CIA/5PEL(CENTRO) ',\n",
       " '1BBM/1CIA/6PEL(SAUDADE) ',\n",
       " '1BBM/1CIA/7PEL(SANTA LUCIA) ',\n",
       " '1BBM/2CIA/1PEL(OURO PRETO) ',\n",
       " '1BBM/2CIA/1PEL/PA BM(MARIANA) ',\n",
       " '1BBM/2CIA/2PEL(PONTE NOVA)(DESATIVADO) ',\n",
       " '1BBM/2CIA/COMANDANTE(OURO PRETO) ',\n",
       " '2BBM (CONTAGEM) ',\n",
       " '2BBM/1CIA/1PEL ',\n",
       " '2BBM/1CIA/2PEL ',\n",
       " '2BBM/1CIA/3PEL ',\n",
       " '2BBM/1CIA/4PEL ',\n",
       " '2BBM/1CIA/5PEL(CEASA) ',\n",
       " '2BBM/1CIA/6PEL(JUATUBA) ',\n",
       " '2BBM/1CIA/7PEL(BARREIRO) ',\n",
       " '2BBM/1CIA/8PEL(RIBEIRAO DAS NEVES) ',\n",
       " '2CIA IND/2CIA/1PEL/PA BM(CONGONHAS) ',\n",
       " '3BBM (BELO HORIZONTE) ',\n",
       " '3BBM/1CIA/1PEL ',\n",
       " '3BBM/1CIA/2PEL ',\n",
       " '3BBM/1CIA/3PEL ',\n",
       " '3BBM/1CIA/4PEL ',\n",
       " '3BBM/1CIA/5PEL(SABARA) ',\n",
       " '3BBM/1CIA/5PEL/PA BM(NOVA UNIAO) ',\n",
       " '3BBM/1CIA/6PEL(VESPASIANO) ',\n",
       " '3BBM/1CIA/6PEL/PA BM(LAGOA SANTA) ',\n",
       " '3BBM/1CIA/7PEL(VENDA NOVA) ',\n",
       " '3BBM/1CIA/7PEL/PA BM(CAMG) ',\n",
       " '3BBM/1CIA/7PEL/PA BM(SANTA LUZIA) ',\n",
       " '4BBM (JUIZ DE FORA) ',\n",
       " '4BBM/1CIA/1PEL ',\n",
       " '4BBM/1CIA/2PEL ',\n",
       " '4BBM/1CIA/3PEL ',\n",
       " '4BBM/1CIA/4PEL ',\n",
       " '4BBM/1CIA/6PEL(SUL) ',\n",
       " '4BBM/1CIA/7PEL(LEOPOLDINA) ',\n",
       " '4BBM/2CIA/1PEL(UBA) ',\n",
       " '4BBM/2CIA/2PEL(MURIAE) ',\n",
       " '4BBM/3CIA PREV VIST/CMT/SUBCMT/ANALISE ',\n",
       " '5BBM/1CIA/2PEL ',\n",
       " '5BBM/1CIA/3PEL ',\n",
       " '5BBM/1CIA/4PEL ',\n",
       " '5BBM/1CIA/5PEL(INDUSTRIAL) ',\n",
       " '5BBM/2CIA/1PEL(ARAGUARI) ',\n",
       " '5BBM/2CIA/2PEL(ITUIUTABA) ',\n",
       " '5BBM/2CIA/PEL PREV VISTORIA(ARAGUARI) ',\n",
       " '6BBM (GOVERNADOR VALADARES) ',\n",
       " '6BBM/1CIA/1PEL ',\n",
       " '6BBM/1CIA/2PEL ',\n",
       " '6BBM/1CIA/3PEL ',\n",
       " '6BBM/1CIA/4PEL ',\n",
       " '6BBM/1CIA/6PEL(RESPLENDOR) ',\n",
       " '6BBM/1CIA/7PEL/GPV(SAO JOAO EVANGELISTA) ',\n",
       " '6BBM/2CIA/1PEL(TEOFILO OTONI) ',\n",
       " '6BBM/2CIA/2PEL(ALMENARA) ',\n",
       " '7BBM (MONTES CLAROS) ',\n",
       " '7BBM/1CIA/1PEL ',\n",
       " '7BBM/1CIA/2PEL ',\n",
       " '7BBM/1CIA/3PEL ',\n",
       " '7BBM/1CIA/4PEL ',\n",
       " '7BBM/1CIA/5PEL(AEROPORTO) ',\n",
       " '7BBM/1CIA/6PEL(JANAUBA) ',\n",
       " '7BBM/1CIA/7PEL(JANUARIA) ',\n",
       " '7BBM/1CIA/8PEL(SALINAS) ',\n",
       " '7BBM/1CIA/CIAD ',\n",
       " '7BBM/1CIA/COMANDANTE ',\n",
       " '7BBM/1CIA/PA BM(FRANCISCO SA) ',\n",
       " '7BBM/1CIA/SOU ',\n",
       " '8BBM (UBERABA) ',\n",
       " '8BBM/1CIA/1PEL ',\n",
       " '8BBM/1CIA/2PEL ',\n",
       " '8BBM/1CIA/3PEL ',\n",
       " '8BBM/1CIA/4PEL ',\n",
       " '8BBM/1CIA/5PEL(PEMAD) ',\n",
       " '8BBM/1CIA/COMANDANTE ',\n",
       " '8BBM/2CIA/1PEL(ARAXA) ',\n",
       " '8BBM/2CIA/PA BM(CAMPOS ALTOS) ',\n",
       " '9BBM (VARGINHA) ',\n",
       " '9BBM/1CIA/3PEL ',\n",
       " '9BBM/1CIA/4PEL ',\n",
       " '9BBM/1CIA/PA BM(BOA ESPERANCA) ',\n",
       " '9BBM/2CIA/1PEL(LAVRAS) ',\n",
       " '9BBM/2CIA/2PEL(TRES CORACOES) ',\n",
       " '9BBM/2CIA/3PEL(SAO LOURENCO) ']"
      ]
     },
     "execution_count": 31,
     "metadata": {},
     "output_type": "execute_result"
    }
   ],
   "source": [
    "rats_bm"
   ]
  },
  {
   "cell_type": "code",
   "execution_count": 4,
   "id": "buried-marathon",
   "metadata": {},
   "outputs": [],
   "source": [
    "df_rats_todo_estado['RPM'] = df_rats_todo_estado['NOM_UNID_RESPONSAVEL'].apply(lambda un_registro: un_registro.split('/')[-1])"
   ]
  },
  {
   "cell_type": "code",
   "execution_count": 16,
   "id": "random-innocent",
   "metadata": {},
   "outputs": [],
   "source": [
    "rpms = list(df_rats_todo_estado['RPM'].value_counts().index)"
   ]
  },
  {
   "cell_type": "code",
   "execution_count": 20,
   "id": "introductory-suite",
   "metadata": {},
   "outputs": [
    {
     "data": {
      "text/plain": [
       "['1 RPM ',\n",
       " '10 RPM ',\n",
       " '10BBM (DIVINOPOLIS) ',\n",
       " '11 RPM ',\n",
       " '11BBM (IPATINGA) ',\n",
       " '12 RPM ',\n",
       " '13 RPM ',\n",
       " '14 RPM ',\n",
       " '15 CIA PM MAMB ',\n",
       " '15 RPM ',\n",
       " '16 RPM ',\n",
       " '17 RPM ',\n",
       " '18 BPM ',\n",
       " '18 RPM ',\n",
       " '19 RPM ',\n",
       " '1BBM (BELO HORIZONTE) ',\n",
       " '1COB (BELO HORIZONTE) ',\n",
       " '1PEL ',\n",
       " '1PEL(ALFENAS) ',\n",
       " '1PEL(ARAGUARI) ',\n",
       " '1PEL(ARAXA) ',\n",
       " '1PEL(CONSELHEIRO LAFAIETE) ',\n",
       " '1PEL(LAVRAS) ',\n",
       " '1PEL(MANHUACU) ',\n",
       " '1PEL(OURO PRETO) ',\n",
       " '1PEL(PARA DE MINAS) ',\n",
       " '1PEL(TEOFILO OTONI) ',\n",
       " '1PEL(UBA) ',\n",
       " '1PEL(UNAI) ',\n",
       " '2 BPE ',\n",
       " '2 CIA PM IND ',\n",
       " '2 RPM ',\n",
       " '29 BPM ',\n",
       " '2BBM (CONTAGEM) ',\n",
       " '2PEL ',\n",
       " '2PEL(ALMENARA) ',\n",
       " '2PEL(CARATINGA) ',\n",
       " '2PEL(ITAJUBA) ',\n",
       " '2PEL(ITAUNA) ',\n",
       " '2PEL(ITUIUTABA) ',\n",
       " '2PEL(MURIAE) ',\n",
       " '2PEL(PIRAPORA) ',\n",
       " '2PEL(PONTE NOVA)(DESATIVADO) ',\n",
       " '2PEL(S S DO PARAISO) ',\n",
       " '2PEL(SAO JOAO DEL REI) ',\n",
       " '2PEL(TRES CORACOES) ',\n",
       " '3 RPM ',\n",
       " '31 BPM ',\n",
       " '35 BPM ',\n",
       " '3BBM (BELO HORIZONTE) ',\n",
       " '3PEL ',\n",
       " '3PEL(CURVELO) ',\n",
       " '3PEL(NOVA SERRANA) ',\n",
       " '3PEL(PIUMHI) ',\n",
       " '3PEL(PONTE NOVA) ',\n",
       " '3PEL(SAO LOURENCO) ',\n",
       " '4 RPM ',\n",
       " '45 BPM ',\n",
       " '48 BPM ',\n",
       " '4BBM (JUIZ DE FORA) ',\n",
       " '4PEL ',\n",
       " '5 RPM ',\n",
       " '51 BPM ',\n",
       " '52 BPM ',\n",
       " '5PEL(AEROPORTO) ',\n",
       " '5PEL(CEASA) ',\n",
       " '5PEL(CEL FABRICIANO) ',\n",
       " '5PEL(CENTRO) ',\n",
       " '5PEL(FORMIGA) ',\n",
       " '5PEL(INDUSTRIAL) ',\n",
       " '5PEL(PEMAD) ',\n",
       " '5PEL(SABARA) ',\n",
       " '6 RPM ',\n",
       " '67 BPM ',\n",
       " '6BBM (GOVERNADOR VALADARES) ',\n",
       " '6PEL(ITABIRA) ',\n",
       " '6PEL(JANAUBA) ',\n",
       " '6PEL(JUATUBA) ',\n",
       " '6PEL(OLIVEIRA) ',\n",
       " '6PEL(RESPLENDOR) ',\n",
       " '6PEL(SAUDADE) ',\n",
       " '6PEL(SUL) ',\n",
       " '6PEL(VESPASIANO) ',\n",
       " '7 RPM ',\n",
       " '7BBM (MONTES CLAROS) ',\n",
       " '7PEL(BARREIRO) ',\n",
       " '7PEL(JANUARIA) ',\n",
       " '7PEL(LEOPOLDINA) ',\n",
       " '7PEL(SANTA LUCIA) ',\n",
       " '7PEL(TIMOTEO) ',\n",
       " '7PEL(VENDA NOVA) ',\n",
       " '8 RPM ',\n",
       " '8BBM (UBERABA) ',\n",
       " '8PEL(RIBEIRAO DAS NEVES) ',\n",
       " '8PEL(SALINAS) ',\n",
       " '9 RPM ',\n",
       " '9BBM (VARGINHA) ',\n",
       " 'ALMOX ',\n",
       " 'ANALISE ',\n",
       " 'APM ',\n",
       " 'BEMAD (BELO HORIZONTE) ',\n",
       " 'BOA (BELO HORIZONTE) ',\n",
       " 'BPM MAMB ',\n",
       " 'BPMAMB ',\n",
       " 'BPMRV ',\n",
       " 'BPRV ',\n",
       " 'CIAD ',\n",
       " 'CICC(REPRESENTACAO DO CBMMG) ',\n",
       " 'COMANDANTE ',\n",
       " 'COMANDANTE(OURO PRETO) ',\n",
       " 'COMAVE ',\n",
       " 'CPE ',\n",
       " 'CPMAMB ',\n",
       " 'CPRV ',\n",
       " 'DOP ',\n",
       " 'GPV(CARATINGA) ',\n",
       " 'GPV(SAO JOAO EVANGELISTA) ',\n",
       " 'NUCLEO ADMINISTRATIVO E DE FISCALIZACAO ',\n",
       " 'PA BM(ARCOS) ',\n",
       " 'PA BM(BOA ESPERANCA) ',\n",
       " 'PA BM(BOM DESPACHO) ',\n",
       " 'PA BM(CAMG) ',\n",
       " 'PA BM(CAMPOS ALTOS) ',\n",
       " 'PA BM(CONGONHAS) ',\n",
       " 'PA BM(FRANCISCO SA) ',\n",
       " 'PA BM(LAGOA SANTA) ',\n",
       " 'PA BM(MARIANA) ',\n",
       " 'PA BM(NOVA UNIAO) ',\n",
       " 'PA BM(SANTA LUZIA) ',\n",
       " 'PEL BUS SALVAMENTO-PBS ',\n",
       " 'PEL IN FLORESTAL-PCIF ',\n",
       " 'PEL PREV VISTORIA(ARAGUARI) ',\n",
       " 'PEL PREVENCAO E VISTORIA ',\n",
       " 'SEC OPERACIONAL ',\n",
       " 'SOU ',\n",
       " 'SUBCMT ',\n",
       " 'SUBCOMANDANTE ',\n",
       " 'TASA(DESATIVADO) ',\n",
       " 'UNIDADE REGIONAL - BRASILIA DE MINAS ',\n",
       " 'UNIDADE REGIONAL - MONTES CLAROS ',\n",
       " 'VISTORIADOR ']"
      ]
     },
     "execution_count": 20,
     "metadata": {},
     "output_type": "execute_result"
    }
   ],
   "source": [
    "rpms"
   ]
  },
  {
   "cell_type": "code",
   "execution_count": 4,
   "id": "innocent-receiver",
   "metadata": {},
   "outputs": [
    {
     "data": {
      "text/plain": [
       "Index(['NAT.CODIGO', 'NAT.DESCRICAO', 'DTA_HRA_INCLUSAO', 'DTA_INICIO',\n",
       "       'HRA_INICIO', 'DTA_TERMINO', 'HRA_TERMINO', 'DES_ALVO_EVENTO',\n",
       "       'DES_LUGAR', 'NOM_OPERACAO', 'COD_UNIDADE_SERVICO',\n",
       "       'NOM_UNID_RESPONSAVEL', 'TIPO_LOGRADOURO', 'LOGRADOURO', 'DES_ENDERECO',\n",
       "       'NUM_ENDERECO', 'COMPLEMENTO_ALFA', 'COMPLEMENTO_ENDERECO',\n",
       "       'NUM_COMPLEMENTAR', 'COD_BAIRRO', 'NOME_BAIRRO', 'TIPO_LOGRADOURO2',\n",
       "       'LOGRADOURO2', 'DES_ENDERECO2', 'COD_MUNICIPIO', 'MUNICIPIO',\n",
       "       'LATITUDE', 'LONGITUDE', 'COD_UNIDADE_AREA', 'NOM_UNIDADE_AREA',\n",
       "       'DIGITADOR', 'DATA_HORA_INICIO_DATE_TIME', 'DTA_HRA_TERMINO_DT',\n",
       "       'TEMPO_DATE_TIME', 'TEMPO_INTEIRO', 'DIA', 'MES', 'ANO', 'DEZENA',\n",
       "       'SETOR', 'CIA'],\n",
       "      dtype='object')"
      ]
     },
     "execution_count": 4,
     "metadata": {},
     "output_type": "execute_result"
    }
   ],
   "source": [
    "import pandas as pd\n",
    "\n",
    "import sqlite3\n",
    "\n",
    "lista_naturezas_rat_gdo = ['Y07001', 'Y07003', 'Y07004', 'Y07005', 'Y04012']\n",
    "string_naturezas_rat_gdo = \", \".join('\"{}\"'.format(item) for item in lista_naturezas_rat_gdo)\n",
    "\n",
    "with sqlite3.connect('gdo.db') as conn:\n",
    "            cursor = conn.cursor()\n",
    "            dados = cursor.execute('select * from \"tbl_rat_geral\" where \"NAT.CODIGO\" in ({})'.format(string_naturezas_rat_gdo)).fetchall()\n",
    "            colunas = [ description[0] for description in cursor.description ]\n",
    "            df_rat_gdo = pd.DataFrame(dados, columns = colunas)\n",
    "            \n",
    "        # df_rat_gdo = df_rat_gdo[\n",
    "        #     (df_rat_gdo['NAT.CODIGO'].str.contains('Y0700[1345]')) |\n",
    "        #     (df_rat_gdo['NAT.CODIGO'] == 'Y04012')  \n",
    "        # ]\n",
    "\n",
    "df_rat_gdo.set_index('RAT.NUM_ATIVIDADE', inplace=True)\n",
    "\n",
    "df_rat_gdo.columns"
   ]
  },
  {
   "cell_type": "code",
   "execution_count": 2,
   "id": "seventh-laser",
   "metadata": {},
   "outputs": [],
   "source": [
    "pog = pd.read_excel('files/01 - POG_Jan2021.xlsx', sheet_name='JAN-2021')"
   ]
  },
  {
   "cell_type": "code",
   "execution_count": 3,
   "id": "ready-snake",
   "metadata": {},
   "outputs": [],
   "source": [
    "pog[\n",
    "    (pog['UEOP'] == '23 BPM' )\n",
    "    &  ( ~ pog['RPM FINAL'].isin(['CPE', 'CPRV', 'CPMAMB']) )\n",
    "    &  ( ~ pog['UEOP REGISTRO'].str.contains('IND', na=False) )\n",
    "].to_excel('files/01 - POG_Jan2021_23BPM.xlsx')"
   ]
  }
 ],
 "metadata": {
  "kernelspec": {
   "display_name": "Python 3",
   "language": "python",
   "name": "python3"
  },
  "language_info": {
   "codemirror_mode": {
    "name": "ipython",
    "version": 3
   },
   "file_extension": ".py",
   "mimetype": "text/x-python",
   "name": "python",
   "nbconvert_exporter": "python",
   "pygments_lexer": "ipython3",
   "version": "3.9.2"
  }
 },
 "nbformat": 4,
 "nbformat_minor": 5
}
