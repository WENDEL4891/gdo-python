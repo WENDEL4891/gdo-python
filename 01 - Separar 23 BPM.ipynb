{
 "cells": [
  {
   "cell_type": "code",
   "execution_count": 1,
   "id": "considered-pipeline",
   "metadata": {},
   "outputs": [],
   "source": [
    "import pandas as pd"
   ]
  },
  {
   "cell_type": "code",
   "execution_count": 2,
   "id": "seventh-laser",
   "metadata": {},
   "outputs": [],
   "source": [
    "pog = pd.read_excel('files/01 - POG_Jan2021.xlsx', sheet_name='JAN-2021')"
   ]
  },
  {
   "cell_type": "code",
   "execution_count": 3,
   "id": "ready-snake",
   "metadata": {},
   "outputs": [],
   "source": [
    "pog[\n",
    "    (pog['UEOP'] == '23 BPM' )\n",
    "    &  ( ~ pog['RPM FINAL'].isin(['CPE', 'CPRV', 'CPMAMB']) )\n",
    "    &  ( ~ pog['UEOP REGISTRO'].str.contains('IND', na=False) )\n",
    "].to_excel('files/01 - POG_Jan2021_23BPM.xlsx')"
   ]
  }
 ],
 "metadata": {
  "kernelspec": {
   "display_name": "Python 3",
   "language": "python",
   "name": "python3"
  },
  "language_info": {
   "codemirror_mode": {
    "name": "ipython",
    "version": 3
   },
   "file_extension": ".py",
   "mimetype": "text/x-python",
   "name": "python",
   "nbconvert_exporter": "python",
   "pygments_lexer": "ipython3",
   "version": "3.9.2"
  }
 },
 "nbformat": 4,
 "nbformat_minor": 5
}
