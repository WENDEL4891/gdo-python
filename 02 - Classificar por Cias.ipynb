{
 "cells": [
  {
   "cell_type": "code",
   "execution_count": 1,
   "id": "considered-pipeline",
   "metadata": {},
   "outputs": [],
   "source": [
    "import pandas as pd"
   ]
  },
  {
   "cell_type": "code",
   "execution_count": 2,
   "id": "seventh-laser",
   "metadata": {},
   "outputs": [],
   "source": [
    "pog = pd.read_excel('files/01 - POG_Jan2021_23BPM.xlsx', sheet_name='Sheet1')"
   ]
  },
  {
   "cell_type": "code",
   "execution_count": 29,
   "id": "preliminary-official",
   "metadata": {},
   "outputs": [],
   "source": [
    "def classifica_cia(row):\n",
    "    if '51 CIA' in row['NOM_UNIDADE_AREA']:\n",
    "        return '51 CIA'\n",
    "    elif '53 CIA' in row['NOM_UNIDADE_AREA']:\n",
    "        return '53 CIA'\n",
    "    elif '139 CIA' in row['NOM_UNIDADE_AREA']:\n",
    "        return '139 CIA'\n",
    "    elif '142 CIA' in row['NOM_UNIDADE_AREA']:\n",
    "        return '142 CIA'\n",
    "    elif row['MUNICIPIO'] in ['CARMO DO CAJURU', 'SAO GONCALO DO PARA']:\n",
    "        return '142 CIA'\n",
    "    elif row['MUNICIPIO'] in ['ITAUNA', 'ITATIAIUCU']:\n",
    "        return '51 CIA'\n",
    "    elif row['MUNICIPIO'] == 'CLAUDIO':\n",
    "        return '139 CIA'\n",
    "    elif '51 CIA' in row['NOM_UNID_RESPONSAVEL']:\n",
    "        return '51 CIA'\n",
    "    elif '53 CIA' in row['NOM_UNID_RESPONSAVEL']:\n",
    "        return '53 CIA'\n",
    "    elif '139 CIA' in row['NOM_UNID_RESPONSAVEL']:\n",
    "        return '139 CIA'\n",
    "    elif '142 CIA' in row['NOM_UNID_RESPONSAVEL']:\n",
    "        return '142 CIA'\n",
    "    else:\n",
    "        return 'INDEFINIDA'\n",
    "pog['CIA'] = pog.apply(lambda row: classifica_cia(row), axis=1)"
   ]
  },
  {
   "cell_type": "code",
   "execution_count": 30,
   "id": "framed-services",
   "metadata": {},
   "outputs": [
    {
     "data": {
      "text/plain": [
       "142 CIA       566\n",
       "139 CIA       467\n",
       "51 CIA        318\n",
       "53 CIA        297\n",
       "INDEFINIDA      3\n",
       "Name: CIA, dtype: int64"
      ]
     },
     "execution_count": 30,
     "metadata": {},
     "output_type": "execute_result"
    }
   ],
   "source": [
    "pog['CIA'].value_counts()"
   ]
  },
  {
   "cell_type": "code",
   "execution_count": 45,
   "id": "failing-compression",
   "metadata": {},
   "outputs": [
    {
     "data": {
      "text/html": [
       "<div>\n",
       "<style scoped>\n",
       "    .dataframe tbody tr th:only-of-type {\n",
       "        vertical-align: middle;\n",
       "    }\n",
       "\n",
       "    .dataframe tbody tr th {\n",
       "        vertical-align: top;\n",
       "    }\n",
       "\n",
       "    .dataframe thead th {\n",
       "        text-align: right;\n",
       "    }\n",
       "</style>\n",
       "<table border=\"1\" class=\"dataframe\">\n",
       "  <thead>\n",
       "    <tr style=\"text-align: right;\">\n",
       "      <th></th>\n",
       "      <th>RAT.NUM_ATIVIDADE</th>\n",
       "      <th>TIPO_LOGRADOURO</th>\n",
       "      <th>LOGRADOURO</th>\n",
       "      <th>DES_ENDERECO</th>\n",
       "      <th>NUM_ENDERECO</th>\n",
       "      <th>COMPLEMENTO_ALFA</th>\n",
       "      <th>COMPLEMENTO_ENDERECO</th>\n",
       "      <th>NUM_COMPLEMENTAR</th>\n",
       "      <th>COD_BAIRRO</th>\n",
       "      <th>NOME_BAIRRO</th>\n",
       "      <th>TIPO_LOGRADOURO2</th>\n",
       "      <th>LOGRADOURO2</th>\n",
       "      <th>DES_ENDERECO2</th>\n",
       "      <th>COD_MUNICIPIO</th>\n",
       "      <th>COD_MG</th>\n",
       "      <th>MUNICIPIO</th>\n",
       "      <th>NOM_UNID_RESPONSAVEL</th>\n",
       "    </tr>\n",
       "  </thead>\n",
       "  <tbody>\n",
       "    <tr>\n",
       "      <th>878</th>\n",
       "      <td>2021-002644793-001</td>\n",
       "      <td>AVENIDA</td>\n",
       "      <td>PARANA</td>\n",
       "      <td>PARANA</td>\n",
       "      <td>1797</td>\n",
       "      <td></td>\n",
       "      <td></td>\n",
       "      <td></td>\n",
       "      <td></td>\n",
       "      <td></td>\n",
       "      <td></td>\n",
       "      <td></td>\n",
       "      <td></td>\n",
       "      <td>312230</td>\n",
       "      <td>31</td>\n",
       "      <td>DIVINOPOLIS</td>\n",
       "      <td>240 CIA TM/23 BPM/7 RPM</td>\n",
       "    </tr>\n",
       "    <tr>\n",
       "      <th>879</th>\n",
       "      <td>2021-002645612-001</td>\n",
       "      <td>RUA</td>\n",
       "      <td>CRISTO REDENTOR</td>\n",
       "      <td>CRISTO REDENTOR</td>\n",
       "      <td>1681</td>\n",
       "      <td></td>\n",
       "      <td></td>\n",
       "      <td></td>\n",
       "      <td></td>\n",
       "      <td></td>\n",
       "      <td></td>\n",
       "      <td></td>\n",
       "      <td></td>\n",
       "      <td>312230</td>\n",
       "      <td>31</td>\n",
       "      <td>DIVINOPOLIS</td>\n",
       "      <td>240 CIA TM/23 BPM/7 RPM</td>\n",
       "    </tr>\n",
       "    <tr>\n",
       "      <th>880</th>\n",
       "      <td>2021-002646933-001</td>\n",
       "      <td>RUA</td>\n",
       "      <td>SANTA CLARA</td>\n",
       "      <td>SANTA CLARA</td>\n",
       "      <td>660</td>\n",
       "      <td></td>\n",
       "      <td></td>\n",
       "      <td></td>\n",
       "      <td></td>\n",
       "      <td></td>\n",
       "      <td></td>\n",
       "      <td></td>\n",
       "      <td></td>\n",
       "      <td>312230</td>\n",
       "      <td>31</td>\n",
       "      <td>DIVINOPOLIS</td>\n",
       "      <td>240 CIA TM/23 BPM/7 RPM</td>\n",
       "    </tr>\n",
       "  </tbody>\n",
       "</table>\n",
       "</div>"
      ],
      "text/plain": [
       "      RAT.NUM_ATIVIDADE TIPO_LOGRADOURO       LOGRADOURO     DES_ENDERECO  \\\n",
       "878  2021-002644793-001         AVENIDA           PARANA           PARANA   \n",
       "879  2021-002645612-001             RUA  CRISTO REDENTOR  CRISTO REDENTOR   \n",
       "880  2021-002646933-001             RUA      SANTA CLARA      SANTA CLARA   \n",
       "\n",
       "    NUM_ENDERECO COMPLEMENTO_ALFA COMPLEMENTO_ENDERECO NUM_COMPLEMENTAR  \\\n",
       "878         1797                                                          \n",
       "879         1681                                                          \n",
       "880          660                                                          \n",
       "\n",
       "    COD_BAIRRO NOME_BAIRRO TIPO_LOGRADOURO2 LOGRADOURO2 DES_ENDERECO2  \\\n",
       "878                                                                     \n",
       "879                                                                     \n",
       "880                                                                     \n",
       "\n",
       "     COD_MUNICIPIO  COD_MG    MUNICIPIO     NOM_UNID_RESPONSAVEL  \n",
       "878         312230      31  DIVINOPOLIS  240 CIA TM/23 BPM/7 RPM  \n",
       "879         312230      31  DIVINOPOLIS  240 CIA TM/23 BPM/7 RPM  \n",
       "880         312230      31  DIVINOPOLIS  240 CIA TM/23 BPM/7 RPM  "
      ]
     },
     "execution_count": 45,
     "metadata": {},
     "output_type": "execute_result"
    }
   ],
   "source": [
    "pog[\n",
    "    pog['CIA'] == 'INDEFINIDA'\n",
    "][\n",
    "    ['RAT.NUM_ATIVIDADE', 'TIPO_LOGRADOURO',\n",
    "       'LOGRADOURO', 'DES_ENDERECO', 'NUM_ENDERECO', 'COMPLEMENTO_ALFA',\n",
    "       'COMPLEMENTO_ENDERECO', 'NUM_COMPLEMENTAR', 'COD_BAIRRO', 'NOME_BAIRRO',\n",
    "       'TIPO_LOGRADOURO2', 'LOGRADOURO2', 'DES_ENDERECO2', 'COD_MUNICIPIO',\n",
    "       'COD_MG', 'MUNICIPIO', 'NOM_UNID_RESPONSAVEL']\n",
    "]"
   ]
  },
  {
   "cell_type": "code",
   "execution_count": 31,
   "id": "measured-breeding",
   "metadata": {},
   "outputs": [],
   "source": [
    "classificador_ultimos = {\n",
    "    '2021-002644793-001': '139 CIA',\n",
    "    '2021-002645612-001': '139 CIA',\n",
    "    '2021-002646933-001': '142 CIA',\n",
    "    \n",
    "}"
   ]
  },
  {
   "cell_type": "code",
   "execution_count": 32,
   "id": "religious-annual",
   "metadata": {},
   "outputs": [],
   "source": [
    "def classifica_ultimos(row):\n",
    "    if row['CIA'] == 'INDEFINIDA':\n",
    "        return classificador_ultimos[row['RAT.NUM_ATIVIDADE']]\n",
    "    else:\n",
    "        return row['CIA']\n",
    "\n",
    "pog['CIA'] = pog.apply(lambda row: classifica_ultimos(row), axis=1)"
   ]
  },
  {
   "cell_type": "code",
   "execution_count": 33,
   "id": "scientific-lawrence",
   "metadata": {},
   "outputs": [
    {
     "data": {
      "text/plain": [
       "142 CIA    567\n",
       "139 CIA    469\n",
       "51 CIA     318\n",
       "53 CIA     297\n",
       "Name: CIA, dtype: int64"
      ]
     },
     "execution_count": 33,
     "metadata": {},
     "output_type": "execute_result"
    }
   ],
   "source": [
    "pog['CIA'].value_counts()"
   ]
  }
 ],
 "metadata": {
  "kernelspec": {
   "display_name": "Python 3",
   "language": "python",
   "name": "python3"
  },
  "language_info": {
   "codemirror_mode": {
    "name": "ipython",
    "version": 3
   },
   "file_extension": ".py",
   "mimetype": "text/x-python",
   "name": "python",
   "nbconvert_exporter": "python",
   "pygments_lexer": "ipython3",
   "version": "3.9.2"
  }
 },
 "nbformat": 4,
 "nbformat_minor": 5
}
