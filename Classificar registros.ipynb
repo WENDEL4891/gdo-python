{
 "cells": [
  {
   "cell_type": "code",
   "execution_count": 1,
   "metadata": {},
   "outputs": [],
   "source": [
    "import pandas as pd\n",
    "import numpy as np\n",
    "import gc, sqlite3\n",
    "from tratamento_de_arquivos_e_dados.tratador_de_arquivos import tratador_de_arquivos"
   ]
  },
  {
   "cell_type": "code",
   "execution_count": 33,
   "metadata": {},
   "outputs": [],
   "source": [
    "# bos ou rat\n",
    "tipo = 'bos'"
   ]
  },
  {
   "cell_type": "code",
   "execution_count": 34,
   "metadata": {},
   "outputs": [],
   "source": [
    "df_dados_para_classificar = tratador_de_arquivos().registros_para_classificar(rat_ou_bos=tipo)"
   ]
  },
  {
   "cell_type": "code",
   "execution_count": 35,
   "metadata": {
    "scrolled": true
   },
   "outputs": [
    {
     "data": {
      "text/html": [
       "<div>\n",
       "<style scoped>\n",
       "    .dataframe tbody tr th:only-of-type {\n",
       "        vertical-align: middle;\n",
       "    }\n",
       "\n",
       "    .dataframe tbody tr th {\n",
       "        vertical-align: top;\n",
       "    }\n",
       "\n",
       "    .dataframe thead th {\n",
       "        text-align: right;\n",
       "    }\n",
       "</style>\n",
       "<table border=\"1\" class=\"dataframe\">\n",
       "  <thead>\n",
       "    <tr style=\"text-align: right;\">\n",
       "      <th></th>\n",
       "      <th>RAT.NUM_ATIVIDADE</th>\n",
       "      <th>MUNICIPIO</th>\n",
       "      <th>LOGRADOURO</th>\n",
       "      <th>DES_ENDERECO</th>\n",
       "      <th>COMPLEMENTO_ENDERECO</th>\n",
       "      <th>NOME_BAIRRO</th>\n",
       "      <th>LOGRADOURO2</th>\n",
       "      <th>DES_ENDERECO2</th>\n",
       "      <th>SETOR</th>\n",
       "      <th>CIA</th>\n",
       "    </tr>\n",
       "  </thead>\n",
       "  <tbody>\n",
       "    <tr>\n",
       "      <th>0</th>\n",
       "      <td>2021-016430452-001</td>\n",
       "      <td>DIVINOPOLIS</td>\n",
       "      <td></td>\n",
       "      <td>ANTONIO GONCALVES JUNIOR</td>\n",
       "      <td></td>\n",
       "      <td></td>\n",
       "      <td></td>\n",
       "      <td></td>\n",
       "      <td>SETOR_INDEFINIDO</td>\n",
       "      <td>CIA_INDEFINIDA</td>\n",
       "    </tr>\n",
       "  </tbody>\n",
       "</table>\n",
       "</div>"
      ],
      "text/plain": [
       "    RAT.NUM_ATIVIDADE    MUNICIPIO LOGRADOURO              DES_ENDERECO  \\\n",
       "0  2021-016430452-001  DIVINOPOLIS             ANTONIO GONCALVES JUNIOR   \n",
       "\n",
       "  COMPLEMENTO_ENDERECO NOME_BAIRRO LOGRADOURO2 DES_ENDERECO2  \\\n",
       "0                                                              \n",
       "\n",
       "              SETOR             CIA  \n",
       "0  SETOR_INDEFINIDO  CIA_INDEFINIDA  "
      ]
     },
     "execution_count": 35,
     "metadata": {},
     "output_type": "execute_result"
    }
   ],
   "source": [
    "df_dados_para_classificar"
   ]
  },
  {
   "cell_type": "code",
   "execution_count": 39,
   "metadata": {},
   "outputs": [],
   "source": [
    "df_classificadores = tratador_de_arquivos().get_df_classif()\n",
    "df_dados_para_classificar.loc[:,'SETOR'] = df_dados_para_classificar.apply(\n",
    "    lambda row: tratador_de_arquivos().classifica_setor(row, df_classificadores), axis=1\n",
    ")\n",
    "tratador_de_arquivos().classifica_cia(df_dados_para_classificar)"
   ]
  },
  {
   "cell_type": "code",
   "execution_count": 40,
   "metadata": {},
   "outputs": [
    {
     "data": {
      "text/plain": [
       "[{'nrat': '2021-016430452-001', 'setor': 'NITEROI', 'cia': '142 CIA'}]"
      ]
     },
     "execution_count": 40,
     "metadata": {},
     "output_type": "execute_result"
    }
   ],
   "source": [
    "new_classif_dict = [\n",
    "    {\n",
    "        'nrat': dados_para_classificar_em_lista[0],\n",
    "        'setor': dados_para_classificar_em_lista[-2],\n",
    "        'cia': dados_para_classificar_em_lista[-1]\n",
    "    }\n",
    "    for dados_para_classificar_em_lista in df_dados_para_classificar.values\n",
    "    if (\n",
    "        dados_para_classificar_em_lista[-1] != 'CIA_INDEFINIDA' or\n",
    "        dados_para_classificar_em_lista[-2] != 'SETOR_INDEFINIDO'\n",
    "    )\n",
    "]\n",
    "\n",
    "new_classif_dict"
   ]
  },
  {
   "cell_type": "code",
   "execution_count": 41,
   "metadata": {},
   "outputs": [],
   "source": [
    "query_update = '''\n",
    "UPDATE tbl_{}_geral\n",
    "    SET \"SETOR\" = ?,\n",
    "    \"CIA\" == ?\n",
    "WHERE\n",
    "    \"RAT.NUM_ATIVIDADE\" = ?\n",
    "'''.format(tipo)\n",
    "\n",
    "with sqlite3.connect('gdo.db') as conn:\n",
    "    cursor = conn.cursor()\n",
    "    for dict_class in new_classif_dict:\n",
    "        cursor.execute(query_update, (dict_class['setor'], dict_class['cia'], dict_class['nrat']))\n",
    "        conn.commit()\n",
    "conn.close()"
   ]
  }
 ],
 "metadata": {
  "kernelspec": {
   "display_name": "Python 3 (ipykernel)",
   "language": "python",
   "name": "python3"
  },
  "language_info": {
   "codemirror_mode": {
    "name": "ipython",
    "version": 3
   },
   "file_extension": ".py",
   "mimetype": "text/x-python",
   "name": "python",
   "nbconvert_exporter": "python",
   "pygments_lexer": "ipython3",
   "version": "3.9.6"
  }
 },
 "nbformat": 4,
 "nbformat_minor": 2
}
