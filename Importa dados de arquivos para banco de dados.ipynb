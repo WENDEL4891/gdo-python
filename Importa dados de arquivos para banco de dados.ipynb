{
 "cells": [
  {
   "cell_type": "markdown",
   "id": "accessible-prize",
   "metadata": {},
   "source": [
    "# Importa dados apenas dos arquivos não importados ainda"
   ]
  },
  {
   "cell_type": "code",
   "execution_count": 1,
   "id": "green-velvet",
   "metadata": {},
   "outputs": [
    {
     "name": "stdout",
     "output_type": "stream",
     "text": [
      "[14/03/2021 - 18:16:57]\tIniciando método dados_para_bd().dados_dos_arquivos_para_bd.\n",
      "\n",
      "[14/03/2021 - 18:16:57]\tDados tipo rat - geral\n",
      "\n",
      "\t[14/03/2021 - 18:16:57]\tIniciando método tratador_de_arquivos().get_nomes_de_arquivos()\n",
      "\t[14/03/2021 - 18:16:57]\tFinalizando método tratador_de_arquivos().get_nomes_de_arquivos()\n",
      "\t[14/03/2021 - 18:16:57]\tIniciando método tratador_de_arquivos().ler_arquivos()\n",
      "\t[14/03/2021 - 18:16:58]\tFinalizando método tratador_de_arquivos().ler_arquivos()\n",
      "\t[14/03/2021 - 18:16:58]\tIniciando método tratador_de_arquivos().processa_dados()\n",
      "\t[14/03/2021 - 18:16:58]\tFinalizando método tratador_de_arquivos().processa_dados()\n",
      "\t[14/03/2021 - 18:16:58]\tIniciando método tratador_de_arquivos().get_classif() e tratador_de_arquivos().classifica_setor()\n",
      "\t[14/03/2021 - 18:16:58]\tFinalizando método tratador_de_arquivos().get_classif() e tratador_de_arquivos().classifica_setor()\n",
      "\t[14/03/2021 - 18:16:58]\tIniciando método tratador_de_arquivos().classifica_cia()\n",
      "\t[14/03/2021 - 18:16:58]\tFinalizando método tratador_de_arquivos().classifica_cia()\n",
      "dados exportados para o db ok\n",
      "\t[14/03/2021 - 18:16:59]\tdf deleted\n"
     ]
    },
    {
     "name": "stderr",
     "output_type": "stream",
     "text": [
      "/usr/local/lib/python3.9/site-packages/pandas/core/generic.py:2779: UserWarning: the 'timedelta' type is not supported, and will be written as integer values (ns frequency) to the database.\n",
      "  sql.to_sql(\n"
     ]
    },
    {
     "name": "stdout",
     "output_type": "stream",
     "text": [
      "\t[14/03/2021 - 18:16:59]\tIniciando a inclusão dos nomes dos arquivos importados no banco de dados\n",
      "\t[14/03/2021 - 18:16:59]\tFinalizando a inclusão dos nomes dos arquivos importados no banco de dados\n",
      "[14/03/2021 - 18:16:59]\tFinalizando método dados_para_bd().dados_dos_arquivos_para_bd.\n",
      "\n",
      "[14/03/2021 - 18:16:59]\tIniciando método dados_para_bd().dados_dos_arquivos_para_bd.\n",
      "\n",
      "[14/03/2021 - 18:16:59]\tDados tipo rat - viaturas\n",
      "\n",
      "\t[14/03/2021 - 18:16:59]\tIniciando método tratador_de_arquivos().get_nomes_de_arquivos()\n",
      "\t[14/03/2021 - 18:16:59]\tFinalizando método tratador_de_arquivos().get_nomes_de_arquivos()\n",
      "\t[14/03/2021 - 18:16:59]\tIniciando método tratador_de_arquivos().ler_arquivos()\n",
      "\t[14/03/2021 - 18:16:59]\tFinalizando método tratador_de_arquivos().ler_arquivos()\n",
      "dados exportados para o db ok\n",
      "\t[14/03/2021 - 18:16:59]\tdf deleted\n",
      "\t[14/03/2021 - 18:16:59]\tIniciando a inclusão dos nomes dos arquivos importados no banco de dados\n",
      "\t[14/03/2021 - 18:16:59]\tFinalizando a inclusão dos nomes dos arquivos importados no banco de dados\n",
      "[14/03/2021 - 18:16:59]\tFinalizando método dados_para_bd().dados_dos_arquivos_para_bd.\n",
      "\n",
      "[14/03/2021 - 18:16:59]\tIniciando método dados_para_bd().dados_dos_arquivos_para_bd.\n",
      "\n",
      "[14/03/2021 - 18:16:59]\tDados tipo rat - efetivo\n",
      "\n",
      "\t[14/03/2021 - 18:16:59]\tIniciando método tratador_de_arquivos().get_nomes_de_arquivos()\n",
      "\t[14/03/2021 - 18:16:59]\tFinalizando método tratador_de_arquivos().get_nomes_de_arquivos()\n",
      "\t[14/03/2021 - 18:16:59]\tIniciando método tratador_de_arquivos().ler_arquivos()\n",
      "\t[14/03/2021 - 18:16:59]\tFinalizando método tratador_de_arquivos().ler_arquivos()\n",
      "dados exportados para o db ok\n",
      "\t[14/03/2021 - 18:16:59]\tdf deleted\n",
      "\t[14/03/2021 - 18:16:59]\tIniciando a inclusão dos nomes dos arquivos importados no banco de dados\n",
      "\t[14/03/2021 - 18:16:59]\tFinalizando a inclusão dos nomes dos arquivos importados no banco de dados\n",
      "[14/03/2021 - 18:16:59]\tFinalizando método dados_para_bd().dados_dos_arquivos_para_bd.\n",
      "\n",
      "[14/03/2021 - 18:16:59]\tIniciando método dados_para_bd().dados_dos_arquivos_para_bd.\n",
      "\n",
      "[14/03/2021 - 18:16:59]\tDados tipo rat - produtividade\n",
      "\n",
      "\t[14/03/2021 - 18:16:59]\tIniciando método tratador_de_arquivos().get_nomes_de_arquivos()\n",
      "\t[14/03/2021 - 18:16:59]\tFinalizando método tratador_de_arquivos().get_nomes_de_arquivos()\n",
      "\t[14/03/2021 - 18:16:59]\tIniciando método tratador_de_arquivos().ler_arquivos()\n",
      "\t[14/03/2021 - 18:17:00]\tFinalizando método tratador_de_arquivos().ler_arquivos()\n",
      "dados exportados para o db ok\n",
      "\t[14/03/2021 - 18:17:00]\tdf deleted\n",
      "\t[14/03/2021 - 18:17:00]\tIniciando a inclusão dos nomes dos arquivos importados no banco de dados\n",
      "\t[14/03/2021 - 18:17:00]\tFinalizando a inclusão dos nomes dos arquivos importados no banco de dados\n",
      "[14/03/2021 - 18:17:00]\tFinalizando método dados_para_bd().dados_dos_arquivos_para_bd.\n",
      "\n",
      "[14/03/2021 - 18:17:00]\tIniciando método dados_para_bd().dados_dos_arquivos_para_bd.\n",
      "\n",
      "[14/03/2021 - 18:17:00]\tDados tipo bos - geral\n",
      "\n",
      "\t[14/03/2021 - 18:17:00]\tIniciando método tratador_de_arquivos().get_nomes_de_arquivos()\n",
      "\t[14/03/2021 - 18:17:00]\tFinalizando método tratador_de_arquivos().get_nomes_de_arquivos()\n",
      "\t[14/03/2021 - 18:17:00]\tIniciando método tratador_de_arquivos().ler_arquivos()\n"
     ]
    },
    {
     "ename": "Exception",
     "evalue": "Não há arquivos csv novos para serem inseridos no banco de dados.",
     "output_type": "error",
     "traceback": [
      "\u001b[0;31m---------------------------------------------------------------------------\u001b[0m",
      "\u001b[0;31mException\u001b[0m                                 Traceback (most recent call last)",
      "\u001b[0;32m<ipython-input-1-88475af2f322>\u001b[0m in \u001b[0;36m<module>\u001b[0;34m\u001b[0m\n\u001b[1;32m      5\u001b[0m \u001b[0mdados_para_bd\u001b[0m\u001b[0;34m(\u001b[0m\u001b[0;34m)\u001b[0m\u001b[0;34m.\u001b[0m\u001b[0mdados_dos_arquivos_para_bd\u001b[0m\u001b[0;34m(\u001b[0m\u001b[0mrat_ou_bos\u001b[0m\u001b[0;34m=\u001b[0m\u001b[0;34m'RAT'\u001b[0m\u001b[0;34m,\u001b[0m \u001b[0mtipo\u001b[0m\u001b[0;34m=\u001b[0m\u001b[0;34m'efetivo'\u001b[0m\u001b[0;34m,\u001b[0m \u001b[0mapenas_nao_importados\u001b[0m\u001b[0;34m=\u001b[0m\u001b[0;32mTrue\u001b[0m\u001b[0;34m)\u001b[0m\u001b[0;34m\u001b[0m\u001b[0;34m\u001b[0m\u001b[0m\n\u001b[1;32m      6\u001b[0m \u001b[0mdados_para_bd\u001b[0m\u001b[0;34m(\u001b[0m\u001b[0;34m)\u001b[0m\u001b[0;34m.\u001b[0m\u001b[0mdados_dos_arquivos_para_bd\u001b[0m\u001b[0;34m(\u001b[0m\u001b[0mrat_ou_bos\u001b[0m\u001b[0;34m=\u001b[0m\u001b[0;34m'RAT'\u001b[0m\u001b[0;34m,\u001b[0m \u001b[0mtipo\u001b[0m\u001b[0;34m=\u001b[0m\u001b[0;34m'produtividade'\u001b[0m\u001b[0;34m,\u001b[0m \u001b[0mapenas_nao_importados\u001b[0m\u001b[0;34m=\u001b[0m\u001b[0;32mTrue\u001b[0m\u001b[0;34m)\u001b[0m\u001b[0;34m\u001b[0m\u001b[0;34m\u001b[0m\u001b[0m\n\u001b[0;32m----> 7\u001b[0;31m \u001b[0mdados_para_bd\u001b[0m\u001b[0;34m(\u001b[0m\u001b[0;34m)\u001b[0m\u001b[0;34m.\u001b[0m\u001b[0mdados_dos_arquivos_para_bd\u001b[0m\u001b[0;34m(\u001b[0m\u001b[0mrat_ou_bos\u001b[0m\u001b[0;34m=\u001b[0m\u001b[0;34m'BOS'\u001b[0m\u001b[0;34m,\u001b[0m \u001b[0mtipo\u001b[0m\u001b[0;34m=\u001b[0m\u001b[0;34m'geral'\u001b[0m\u001b[0;34m,\u001b[0m \u001b[0mapenas_nao_importados\u001b[0m\u001b[0;34m=\u001b[0m\u001b[0;32mTrue\u001b[0m\u001b[0;34m)\u001b[0m\u001b[0;34m\u001b[0m\u001b[0;34m\u001b[0m\u001b[0m\n\u001b[0m",
      "\u001b[0;32m/app/tratamento_de_arquivos_e_dados/dados_para_banco_de_dados.py\u001b[0m in \u001b[0;36mdados_dos_arquivos_para_bd\u001b[0;34m(self, rat_ou_bos, tipo, apenas_nao_importados)\u001b[0m\n\u001b[1;32m     27\u001b[0m \u001b[0;34m\u001b[0m\u001b[0m\n\u001b[1;32m     28\u001b[0m         \u001b[0mlogs\u001b[0m\u001b[0;34m.\u001b[0m\u001b[0mlog\u001b[0m\u001b[0;34m(\u001b[0m\u001b[0;34m'Iniciando método tratador_de_arquivos().ler_arquivos()'\u001b[0m\u001b[0;34m)\u001b[0m\u001b[0;34m\u001b[0m\u001b[0;34m\u001b[0m\u001b[0m\n\u001b[0;32m---> 29\u001b[0;31m         \u001b[0mdf\u001b[0m \u001b[0;34m=\u001b[0m \u001b[0mtratador_de_arquivos\u001b[0m\u001b[0;34m(\u001b[0m\u001b[0;34m)\u001b[0m\u001b[0;34m.\u001b[0m\u001b[0mler_arquivos\u001b[0m\u001b[0;34m(\u001b[0m\u001b[0mnomes_de_arquivos\u001b[0m\u001b[0;34m[\u001b[0m\u001b[0;34m'{}_{}'\u001b[0m\u001b[0;34m.\u001b[0m\u001b[0mformat\u001b[0m\u001b[0;34m(\u001b[0m\u001b[0mrat_ou_bos_lower\u001b[0m\u001b[0;34m,\u001b[0m \u001b[0mtipo\u001b[0m\u001b[0;34m)\u001b[0m\u001b[0;34m]\u001b[0m\u001b[0;34m,\u001b[0m \u001b[0mrat_ou_bos\u001b[0m\u001b[0;34m=\u001b[0m\u001b[0mrat_ou_bos_lower\u001b[0m\u001b[0;34m,\u001b[0m \u001b[0mtipo_geral\u001b[0m\u001b[0;34m=\u001b[0m\u001b[0mtipo_geral_argumento\u001b[0m\u001b[0;34m)\u001b[0m\u001b[0;34m\u001b[0m\u001b[0;34m\u001b[0m\u001b[0m\n\u001b[0m\u001b[1;32m     30\u001b[0m         \u001b[0mlogs\u001b[0m\u001b[0;34m.\u001b[0m\u001b[0mlog\u001b[0m\u001b[0;34m(\u001b[0m\u001b[0;34m'Finalizando método tratador_de_arquivos().ler_arquivos()'\u001b[0m\u001b[0;34m)\u001b[0m\u001b[0;34m\u001b[0m\u001b[0;34m\u001b[0m\u001b[0m\n\u001b[1;32m     31\u001b[0m \u001b[0;34m\u001b[0m\u001b[0m\n",
      "\u001b[0;32m/app/tratamento_de_arquivos_e_dados/tratador_de_arquivos.py\u001b[0m in \u001b[0;36mler_arquivos\u001b[0;34m(self, nomes_de_arquivos, rat_ou_bos, tipo_geral)\u001b[0m\n\u001b[1;32m     58\u001b[0m             \u001b[0mnrat_ou_nbos_no_bd\u001b[0m \u001b[0;34m=\u001b[0m \u001b[0mself\u001b[0m\u001b[0;34m.\u001b[0m\u001b[0mget_nrat_ou_nbos_no_db\u001b[0m\u001b[0;34m(\u001b[0m\u001b[0mrat_ou_bos\u001b[0m\u001b[0;34m=\u001b[0m\u001b[0mrat_ou_bos\u001b[0m\u001b[0;34m.\u001b[0m\u001b[0mupper\u001b[0m\u001b[0;34m(\u001b[0m\u001b[0;34m)\u001b[0m\u001b[0;34m)\u001b[0m\u001b[0;34m\u001b[0m\u001b[0;34m\u001b[0m\u001b[0m\n\u001b[1;32m     59\u001b[0m         \u001b[0;32mif\u001b[0m \u001b[0mlen\u001b[0m\u001b[0;34m(\u001b[0m \u001b[0mnomes_de_arquivos\u001b[0m\u001b[0;34m)\u001b[0m \u001b[0;34m<\u001b[0m \u001b[0;36m1\u001b[0m\u001b[0;34m:\u001b[0m\u001b[0;34m\u001b[0m\u001b[0;34m\u001b[0m\u001b[0m\n\u001b[0;32m---> 60\u001b[0;31m             \u001b[0;32mraise\u001b[0m \u001b[0mException\u001b[0m\u001b[0;34m(\u001b[0m\u001b[0;34m'Não há arquivos csv novos para serem inseridos no banco de dados.'\u001b[0m\u001b[0;34m)\u001b[0m\u001b[0;34m\u001b[0m\u001b[0;34m\u001b[0m\u001b[0m\n\u001b[0m\u001b[1;32m     61\u001b[0m         \u001b[0;32mfor\u001b[0m \u001b[0mi\u001b[0m \u001b[0;32min\u001b[0m \u001b[0mrange\u001b[0m\u001b[0;34m(\u001b[0m \u001b[0mlen\u001b[0m\u001b[0;34m(\u001b[0m\u001b[0mnomes_de_arquivos\u001b[0m\u001b[0;34m)\u001b[0m \u001b[0;34m)\u001b[0m\u001b[0;34m:\u001b[0m\u001b[0;34m\u001b[0m\u001b[0;34m\u001b[0m\u001b[0m\n\u001b[1;32m     62\u001b[0m             \u001b[0;32mif\u001b[0m \u001b[0mi\u001b[0m \u001b[0;34m==\u001b[0m \u001b[0;36m0\u001b[0m\u001b[0;34m:\u001b[0m\u001b[0;34m\u001b[0m\u001b[0;34m\u001b[0m\u001b[0m\n",
      "\u001b[0;31mException\u001b[0m: Não há arquivos csv novos para serem inseridos no banco de dados."
     ]
    }
   ],
   "source": [
    "from tratamento_de_arquivos_e_dados.dados_para_banco_de_dados import dados_para_bd\n",
    "\n",
    "dados_para_bd().dados_dos_arquivos_para_bd(rat_ou_bos='RAT', tipo='geral', apenas_nao_importados=True)\n",
    "dados_para_bd().dados_dos_arquivos_para_bd(rat_ou_bos='RAT', tipo='viaturas', apenas_nao_importados=True)\n",
    "dados_para_bd().dados_dos_arquivos_para_bd(rat_ou_bos='RAT', tipo='efetivo', apenas_nao_importados=True)\n",
    "dados_para_bd().dados_dos_arquivos_para_bd(rat_ou_bos='RAT', tipo='produtividade', apenas_nao_importados=True)\n",
    "dados_para_bd().dados_dos_arquivos_para_bd(rat_ou_bos='BOS', tipo='geral', apenas_nao_importados=True)"
   ]
  },
  {
   "cell_type": "markdown",
   "id": "blank-murder",
   "metadata": {},
   "source": [
    "# Importa dados de todos os arquivos (renova banco de dados)"
   ]
  },
  {
   "cell_type": "code",
   "execution_count": 3,
   "id": "small-release",
   "metadata": {},
   "outputs": [
    {
     "name": "stdout",
     "output_type": "stream",
     "text": [
      "[14/03/2021 - 18:06:24]\tIniciando método dados_para_bd().dados_dos_arquivos_para_bd.\n",
      "\n",
      "[14/03/2021 - 18:06:24]\tDados tipo rat - geral\n",
      "\n",
      "\t[14/03/2021 - 18:06:24]\tIniciando método tratador_de_arquivos().get_nomes_de_arquivos()\n",
      "{'rat_geral': ['REDS_RAT_20210101_20210110.csv', 'REDS_RAT_20210111_20210120.csv', 'REDS_RAT_20210121_20210131.csv', 'REDS_RAT_20210201_20210210.csv', 'REDS_RAT_20210211_20210220.csv', 'REDS_RAT_20210221_20210228.csv'], 'rat_viaturas': ['REDS_RAT_VIATURAS_20210101_20210110.csv', 'REDS_RAT_VIATURAS_20210111_20210120.csv', 'REDS_RAT_VIATURAS_20210121_20210131.csv', 'REDS_RAT_VIATURAS_20210201_20210210.csv', 'REDS_RAT_VIATURAS_20210211_20210220.csv', 'REDS_RAT_VIATURAS_20210221_20210228.csv'], 'rat_efetivo': ['REDS_RAT_EFETIVOS_20210101_20210110.csv', 'REDS_RAT_EFETIVOS_20210111_20210120.csv', 'REDS_RAT_EFETIVOS_20210121_20210131.csv', 'REDS_RAT_EFETIVOS_20210201_20210210.csv', 'REDS_RAT_EFETIVOS_20210211_20210220.csv', 'REDS_RAT_EFETIVOS_20210221_20210228.csv'], 'rat_produtividade': ['REDS_RAT_Produtividade_20210101_20210110.csv', 'REDS_RAT_Produtividade_20210111_20210120.csv', 'REDS_RAT_Produtividade_20210121_20210131.csv', 'REDS_RAT_Produtividade_20210201_20210210.csv', 'REDS_RAT_Produtividade_20210211_20210220.csv', 'REDS_RAT_Produtividade_20210221_20210228.csv']}\n",
      "\t[14/03/2021 - 18:06:24]\tFinalizando método tratador_de_arquivos().get_nomes_de_arquivos()\n",
      "\t[14/03/2021 - 18:06:24]\tIniciando método tratador_de_arquivos().ler_arquivos()\n"
     ]
    },
    {
     "name": "stderr",
     "output_type": "stream",
     "text": [
      "/usr/local/lib/python3.9/site-packages/IPython/core/interactiveshell.py:3437: DtypeWarning: Columns (25) have mixed types.Specify dtype option on import or set low_memory=False.\n",
      "  exec(code_obj, self.user_global_ns, self.user_ns)\n"
     ]
    },
    {
     "name": "stdout",
     "output_type": "stream",
     "text": [
      "\t[14/03/2021 - 18:06:31]\tFinalizando método tratador_de_arquivos().ler_arquivos()\n",
      "\t[14/03/2021 - 18:06:31]\tIniciando método tratador_de_arquivos().processa_dados()\n",
      "\t[14/03/2021 - 18:06:31]\tFinalizando método tratador_de_arquivos().processa_dados()\n",
      "\t[14/03/2021 - 18:06:31]\tIniciando método tratador_de_arquivos().get_classif() e tratador_de_arquivos().classifica_setor()\n",
      "\t[14/03/2021 - 18:06:32]\tFinalizando método tratador_de_arquivos().get_classif() e tratador_de_arquivos().classifica_setor()\n",
      "\t[14/03/2021 - 18:06:32]\tIniciando método tratador_de_arquivos().classifica_cia()\n",
      "\t[14/03/2021 - 18:06:32]\tFinalizando método tratador_de_arquivos().classifica_cia()\n"
     ]
    },
    {
     "name": "stderr",
     "output_type": "stream",
     "text": [
      "/usr/local/lib/python3.9/site-packages/pandas/core/generic.py:2779: UserWarning: the 'timedelta' type is not supported, and will be written as integer values (ns frequency) to the database.\n",
      "  sql.to_sql(\n"
     ]
    },
    {
     "name": "stdout",
     "output_type": "stream",
     "text": [
      "dados exportados para o db ok\n",
      "\t[14/03/2021 - 18:06:32]\tdf_rat deleted\n",
      "\t[14/03/2021 - 18:06:32]\tIniciando a inclusão dos nomes dos arquivos importados no banco de dados\n",
      "\t[14/03/2021 - 18:06:32]\tFinalizando a inclusão dos nomes dos arquivos importados no banco de dados\n",
      "[14/03/2021 - 18:06:32]\tFinalizando método dados_para_bd().dados_dos_arquivos_para_bd.\n",
      "\n",
      "[14/03/2021 - 18:06:32]\tIniciando método dados_para_bd().dados_dos_arquivos_para_bd.\n",
      "\n",
      "[14/03/2021 - 18:06:32]\tDados tipo rat - viaturas\n",
      "\n",
      "\t[14/03/2021 - 18:06:32]\tIniciando método tratador_de_arquivos().get_nomes_de_arquivos()\n",
      "{'rat_geral': ['REDS_RAT_20210101_20210110.csv', 'REDS_RAT_20210111_20210120.csv', 'REDS_RAT_20210121_20210131.csv', 'REDS_RAT_20210201_20210210.csv', 'REDS_RAT_20210211_20210220.csv', 'REDS_RAT_20210221_20210228.csv'], 'rat_viaturas': ['REDS_RAT_VIATURAS_20210101_20210110.csv', 'REDS_RAT_VIATURAS_20210111_20210120.csv', 'REDS_RAT_VIATURAS_20210121_20210131.csv', 'REDS_RAT_VIATURAS_20210201_20210210.csv', 'REDS_RAT_VIATURAS_20210211_20210220.csv', 'REDS_RAT_VIATURAS_20210221_20210228.csv'], 'rat_efetivo': ['REDS_RAT_EFETIVOS_20210101_20210110.csv', 'REDS_RAT_EFETIVOS_20210111_20210120.csv', 'REDS_RAT_EFETIVOS_20210121_20210131.csv', 'REDS_RAT_EFETIVOS_20210201_20210210.csv', 'REDS_RAT_EFETIVOS_20210211_20210220.csv', 'REDS_RAT_EFETIVOS_20210221_20210228.csv'], 'rat_produtividade': ['REDS_RAT_Produtividade_20210101_20210110.csv', 'REDS_RAT_Produtividade_20210111_20210120.csv', 'REDS_RAT_Produtividade_20210121_20210131.csv', 'REDS_RAT_Produtividade_20210201_20210210.csv', 'REDS_RAT_Produtividade_20210211_20210220.csv', 'REDS_RAT_Produtividade_20210221_20210228.csv']}\n",
      "\t[14/03/2021 - 18:06:32]\tFinalizando método tratador_de_arquivos().get_nomes_de_arquivos()\n",
      "\t[14/03/2021 - 18:06:32]\tIniciando método tratador_de_arquivos().ler_arquivos()\n",
      "\t[14/03/2021 - 18:06:33]\tFinalizando método tratador_de_arquivos().ler_arquivos()\n",
      "dados exportados para o db ok\n",
      "\t[14/03/2021 - 18:06:33]\tdf_rat deleted\n",
      "\t[14/03/2021 - 18:06:33]\tIniciando a inclusão dos nomes dos arquivos importados no banco de dados\n",
      "\t[14/03/2021 - 18:06:33]\tFinalizando a inclusão dos nomes dos arquivos importados no banco de dados\n",
      "[14/03/2021 - 18:06:33]\tFinalizando método dados_para_bd().dados_dos_arquivos_para_bd.\n",
      "\n",
      "[14/03/2021 - 18:06:33]\tIniciando método dados_para_bd().dados_dos_arquivos_para_bd.\n",
      "\n",
      "[14/03/2021 - 18:06:33]\tDados tipo rat - efetivo\n",
      "\n",
      "\t[14/03/2021 - 18:06:33]\tIniciando método tratador_de_arquivos().get_nomes_de_arquivos()\n",
      "{'rat_geral': ['REDS_RAT_20210101_20210110.csv', 'REDS_RAT_20210111_20210120.csv', 'REDS_RAT_20210121_20210131.csv', 'REDS_RAT_20210201_20210210.csv', 'REDS_RAT_20210211_20210220.csv', 'REDS_RAT_20210221_20210228.csv'], 'rat_viaturas': ['REDS_RAT_VIATURAS_20210101_20210110.csv', 'REDS_RAT_VIATURAS_20210111_20210120.csv', 'REDS_RAT_VIATURAS_20210121_20210131.csv', 'REDS_RAT_VIATURAS_20210201_20210210.csv', 'REDS_RAT_VIATURAS_20210211_20210220.csv', 'REDS_RAT_VIATURAS_20210221_20210228.csv'], 'rat_efetivo': ['REDS_RAT_EFETIVOS_20210101_20210110.csv', 'REDS_RAT_EFETIVOS_20210111_20210120.csv', 'REDS_RAT_EFETIVOS_20210121_20210131.csv', 'REDS_RAT_EFETIVOS_20210201_20210210.csv', 'REDS_RAT_EFETIVOS_20210211_20210220.csv', 'REDS_RAT_EFETIVOS_20210221_20210228.csv'], 'rat_produtividade': ['REDS_RAT_Produtividade_20210101_20210110.csv', 'REDS_RAT_Produtividade_20210111_20210120.csv', 'REDS_RAT_Produtividade_20210121_20210131.csv', 'REDS_RAT_Produtividade_20210201_20210210.csv', 'REDS_RAT_Produtividade_20210211_20210220.csv', 'REDS_RAT_Produtividade_20210221_20210228.csv']}\n",
      "\t[14/03/2021 - 18:06:33]\tFinalizando método tratador_de_arquivos().get_nomes_de_arquivos()\n",
      "\t[14/03/2021 - 18:06:33]\tIniciando método tratador_de_arquivos().ler_arquivos()\n",
      "\t[14/03/2021 - 18:06:36]\tFinalizando método tratador_de_arquivos().ler_arquivos()\n",
      "dados exportados para o db ok\n",
      "\t[14/03/2021 - 18:06:36]\tdf_rat deleted\n",
      "\t[14/03/2021 - 18:06:36]\tIniciando a inclusão dos nomes dos arquivos importados no banco de dados\n",
      "\t[14/03/2021 - 18:06:36]\tFinalizando a inclusão dos nomes dos arquivos importados no banco de dados\n",
      "[14/03/2021 - 18:06:36]\tFinalizando método dados_para_bd().dados_dos_arquivos_para_bd.\n",
      "\n",
      "[14/03/2021 - 18:06:36]\tIniciando método dados_para_bd().dados_dos_arquivos_para_bd.\n",
      "\n",
      "[14/03/2021 - 18:06:36]\tDados tipo rat - produtividade\n",
      "\n",
      "\t[14/03/2021 - 18:06:36]\tIniciando método tratador_de_arquivos().get_nomes_de_arquivos()\n",
      "{'rat_geral': ['REDS_RAT_20210101_20210110.csv', 'REDS_RAT_20210111_20210120.csv', 'REDS_RAT_20210121_20210131.csv', 'REDS_RAT_20210201_20210210.csv', 'REDS_RAT_20210211_20210220.csv', 'REDS_RAT_20210221_20210228.csv'], 'rat_viaturas': ['REDS_RAT_VIATURAS_20210101_20210110.csv', 'REDS_RAT_VIATURAS_20210111_20210120.csv', 'REDS_RAT_VIATURAS_20210121_20210131.csv', 'REDS_RAT_VIATURAS_20210201_20210210.csv', 'REDS_RAT_VIATURAS_20210211_20210220.csv', 'REDS_RAT_VIATURAS_20210221_20210228.csv'], 'rat_efetivo': ['REDS_RAT_EFETIVOS_20210101_20210110.csv', 'REDS_RAT_EFETIVOS_20210111_20210120.csv', 'REDS_RAT_EFETIVOS_20210121_20210131.csv', 'REDS_RAT_EFETIVOS_20210201_20210210.csv', 'REDS_RAT_EFETIVOS_20210211_20210220.csv', 'REDS_RAT_EFETIVOS_20210221_20210228.csv'], 'rat_produtividade': ['REDS_RAT_Produtividade_20210101_20210110.csv', 'REDS_RAT_Produtividade_20210111_20210120.csv', 'REDS_RAT_Produtividade_20210121_20210131.csv', 'REDS_RAT_Produtividade_20210201_20210210.csv', 'REDS_RAT_Produtividade_20210211_20210220.csv', 'REDS_RAT_Produtividade_20210221_20210228.csv']}\n",
      "\t[14/03/2021 - 18:06:36]\tFinalizando método tratador_de_arquivos().get_nomes_de_arquivos()\n",
      "\t[14/03/2021 - 18:06:36]\tIniciando método tratador_de_arquivos().ler_arquivos()\n",
      "\t[14/03/2021 - 18:06:38]\tFinalizando método tratador_de_arquivos().ler_arquivos()\n",
      "dados exportados para o db ok\n",
      "\t[14/03/2021 - 18:06:38]\tdf_rat deleted\n",
      "\t[14/03/2021 - 18:06:38]\tIniciando a inclusão dos nomes dos arquivos importados no banco de dados\n",
      "\t[14/03/2021 - 18:06:38]\tFinalizando a inclusão dos nomes dos arquivos importados no banco de dados\n",
      "[14/03/2021 - 18:06:38]\tFinalizando método dados_para_bd().dados_dos_arquivos_para_bd.\n",
      "\n",
      "[14/03/2021 - 18:06:38]\tIniciando método dados_para_bd().dados_dos_arquivos_para_bd.\n",
      "\n",
      "[14/03/2021 - 18:06:38]\tDados tipo bos - geral\n",
      "\n",
      "\t[14/03/2021 - 18:06:38]\tIniciando método tratador_de_arquivos().get_nomes_de_arquivos()\n",
      "{'bos_geral': ['REDS_BOS_20210101_20210110.csv', 'REDS_BOS_20210111_20210120.csv', 'REDS_BOS_20210121_20210131.csv', 'REDS_BOS_20210201_20210210.csv', 'REDS_BOS_20210211_20210220.csv', 'REDS_BOS_20210221_20210228.csv', 'REDS_BOS_20210301_20210310.csv'], 'bos_viaturas': [], 'bos_efetivo': [], 'bos_produtividade': []}\n",
      "\t[14/03/2021 - 18:06:38]\tFinalizando método tratador_de_arquivos().get_nomes_de_arquivos()\n",
      "\t[14/03/2021 - 18:06:38]\tIniciando método tratador_de_arquivos().ler_arquivos()\n",
      "\t[14/03/2021 - 18:06:43]\tFinalizando método tratador_de_arquivos().ler_arquivos()\n",
      "\t[14/03/2021 - 18:06:43]\tIniciando método tratador_de_arquivos().processa_dados()\n",
      "\t[14/03/2021 - 18:06:43]\tFinalizando método tratador_de_arquivos().processa_dados()\n",
      "\t[14/03/2021 - 18:06:43]\tIniciando método tratador_de_arquivos().get_classif() e tratador_de_arquivos().classifica_setor()\n",
      "\t[14/03/2021 - 18:06:43]\tFinalizando método tratador_de_arquivos().get_classif() e tratador_de_arquivos().classifica_setor()\n",
      "\t[14/03/2021 - 18:06:43]\tIniciando método tratador_de_arquivos().classifica_cia()\n",
      "\t[14/03/2021 - 18:06:43]\tFinalizando método tratador_de_arquivos().classifica_cia()\n"
     ]
    },
    {
     "name": "stderr",
     "output_type": "stream",
     "text": [
      "/usr/local/lib/python3.9/site-packages/pandas/core/generic.py:2779: UserWarning: the 'timedelta' type is not supported, and will be written as integer values (ns frequency) to the database.\n",
      "  sql.to_sql(\n"
     ]
    },
    {
     "name": "stdout",
     "output_type": "stream",
     "text": [
      "dados exportados para o db ok\n",
      "\t[14/03/2021 - 18:06:43]\tdf_rat deleted\n",
      "\t[14/03/2021 - 18:06:43]\tIniciando a inclusão dos nomes dos arquivos importados no banco de dados\n",
      "\t[14/03/2021 - 18:06:43]\tFinalizando a inclusão dos nomes dos arquivos importados no banco de dados\n",
      "[14/03/2021 - 18:06:43]\tFinalizando método dados_para_bd().dados_dos_arquivos_para_bd.\n",
      "\n"
     ]
    }
   ],
   "source": [
    "from tratamento_de_arquivos_e_dados.dados_para_banco_de_dados import dados_para_bd\n",
    "\n",
    "dados_para_bd().dados_dos_arquivos_para_bd(rat_ou_bos='RAT', tipo='geral', apenas_nao_importados=False)\n",
    "dados_para_bd().dados_dos_arquivos_para_bd(rat_ou_bos='RAT', tipo='viaturas', apenas_nao_importados=False)\n",
    "dados_para_bd().dados_dos_arquivos_para_bd(rat_ou_bos='RAT', tipo='efetivo', apenas_nao_importados=False)\n",
    "dados_para_bd().dados_dos_arquivos_para_bd(rat_ou_bos='RAT', tipo='produtividade', apenas_nao_importados=False)\n",
    "dados_para_bd().dados_dos_arquivos_para_bd(rat_ou_bos='BOS', tipo='geral', apenas_nao_importados=False)"
   ]
  }
 ],
 "metadata": {
  "kernelspec": {
   "display_name": "Python 3",
   "language": "python",
   "name": "python3"
  },
  "language_info": {
   "codemirror_mode": {
    "name": "ipython",
    "version": 3
   },
   "file_extension": ".py",
   "mimetype": "text/x-python",
   "name": "python",
   "nbconvert_exporter": "python",
   "pygments_lexer": "ipython3",
   "version": "3.9.2"
  }
 },
 "nbformat": 4,
 "nbformat_minor": 5
}
