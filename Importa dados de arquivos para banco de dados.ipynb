{
 "cells": [
  {
   "cell_type": "code",
   "execution_count": 4,
   "id": "small-release",
   "metadata": {},
   "outputs": [
    {
     "name": "stdout",
     "output_type": "stream",
     "text": [
      "[08/03/2021 - 19:38:26]\tIniciando método dados_para_bd().dados_dos_arquivos_para_bd.\n",
      "\n",
      "\t[08/03/2021 - 19:38:26]\tIniciando método tratador_de_arquivos().get_nomes_de_arquivos()\n",
      "\t[08/03/2021 - 19:38:26]\tFinalizando método tratador_de_arquivos().get_nomes_de_arquivos()\n",
      "\t[08/03/2021 - 19:38:26]\tIniciando método tratador_de_arquivos().ler_arquivos()\n"
     ]
    },
    {
     "ename": "NameError",
     "evalue": "name 'get_nrat_ou_nbos_no_db' is not defined",
     "output_type": "error",
     "traceback": [
      "\u001b[0;31m---------------------------------------------------------------------------\u001b[0m",
      "\u001b[0;31mNameError\u001b[0m                                 Traceback (most recent call last)",
      "\u001b[0;32m<ipython-input-4-33e3d63e0d65>\u001b[0m in \u001b[0;36m<module>\u001b[0;34m\u001b[0m\n\u001b[1;32m      2\u001b[0m \u001b[0;34m\u001b[0m\u001b[0m\n\u001b[1;32m      3\u001b[0m \u001b[0;31m# dados_para_bd().dados_dos_arquivos_para_bd(rat_ou_bos='RAT', tipo='geral', apenas_nao_importados=False)\u001b[0m\u001b[0;34m\u001b[0m\u001b[0;34m\u001b[0m\u001b[0;34m\u001b[0m\u001b[0m\n\u001b[0;32m----> 4\u001b[0;31m \u001b[0mdados_para_bd\u001b[0m\u001b[0;34m(\u001b[0m\u001b[0;34m)\u001b[0m\u001b[0;34m.\u001b[0m\u001b[0mdados_dos_arquivos_para_bd\u001b[0m\u001b[0;34m(\u001b[0m\u001b[0mrat_ou_bos\u001b[0m\u001b[0;34m=\u001b[0m\u001b[0;34m'RAT'\u001b[0m\u001b[0;34m,\u001b[0m \u001b[0mtipo\u001b[0m\u001b[0;34m=\u001b[0m\u001b[0;34m'viaturas'\u001b[0m\u001b[0;34m,\u001b[0m \u001b[0mapenas_nao_importados\u001b[0m\u001b[0;34m=\u001b[0m\u001b[0;32mFalse\u001b[0m\u001b[0;34m)\u001b[0m\u001b[0;34m\u001b[0m\u001b[0;34m\u001b[0m\u001b[0m\n\u001b[0m\u001b[1;32m      5\u001b[0m \u001b[0;31m# dados_para_bd().dados_dos_arquivos_para_bd(rat_ou_bos='RAT', tipo='efetivo', apenas_nao_importados=False)\u001b[0m\u001b[0;34m\u001b[0m\u001b[0;34m\u001b[0m\u001b[0;34m\u001b[0m\u001b[0m\n\u001b[1;32m      6\u001b[0m \u001b[0;31m# dados_para_bd().dados_dos_arquivos_para_bd(rat_ou_bos='RAT', tipo='produtividade', apenas_nao_importados=False)\u001b[0m\u001b[0;34m\u001b[0m\u001b[0;34m\u001b[0m\u001b[0;34m\u001b[0m\u001b[0m\n",
      "\u001b[0;32m/app/tratamento_de_arquivos_e_dados/dados_para_banco_de_dados.py\u001b[0m in \u001b[0;36mdados_dos_arquivos_para_bd\u001b[0;34m(self, rat_ou_bos, tipo, apenas_nao_importados)\u001b[0m\n\u001b[1;32m     26\u001b[0m \u001b[0;34m\u001b[0m\u001b[0m\n\u001b[1;32m     27\u001b[0m         \u001b[0mlogs\u001b[0m\u001b[0;34m.\u001b[0m\u001b[0mlog\u001b[0m\u001b[0;34m(\u001b[0m\u001b[0;34m'Iniciando método tratador_de_arquivos().ler_arquivos()'\u001b[0m\u001b[0;34m)\u001b[0m\u001b[0;34m\u001b[0m\u001b[0;34m\u001b[0m\u001b[0m\n\u001b[0;32m---> 28\u001b[0;31m         \u001b[0mdf_rat\u001b[0m \u001b[0;34m=\u001b[0m \u001b[0mtratador_de_arquivos\u001b[0m\u001b[0;34m(\u001b[0m\u001b[0;34m)\u001b[0m\u001b[0;34m.\u001b[0m\u001b[0mler_arquivos\u001b[0m\u001b[0;34m(\u001b[0m\u001b[0mnomes_de_arquivos\u001b[0m\u001b[0;34m[\u001b[0m\u001b[0;34m'rat_{}'\u001b[0m\u001b[0;34m.\u001b[0m\u001b[0mformat\u001b[0m\u001b[0;34m(\u001b[0m\u001b[0mtipo\u001b[0m\u001b[0;34m)\u001b[0m\u001b[0;34m]\u001b[0m\u001b[0;34m,\u001b[0m \u001b[0mrat_ou_bos\u001b[0m\u001b[0;34m=\u001b[0m\u001b[0mrat_ou_bos_lower\u001b[0m\u001b[0;34m,\u001b[0m \u001b[0mtipo_geral\u001b[0m\u001b[0;34m=\u001b[0m\u001b[0mtipo_geral_argumento\u001b[0m\u001b[0;34m)\u001b[0m\u001b[0;34m\u001b[0m\u001b[0;34m\u001b[0m\u001b[0m\n\u001b[0m\u001b[1;32m     29\u001b[0m         \u001b[0mlogs\u001b[0m\u001b[0;34m.\u001b[0m\u001b[0mlog\u001b[0m\u001b[0;34m(\u001b[0m\u001b[0;34m'Finalizando método tratador_de_arquivos().ler_arquivos()'\u001b[0m\u001b[0;34m)\u001b[0m\u001b[0;34m\u001b[0m\u001b[0;34m\u001b[0m\u001b[0m\n\u001b[1;32m     30\u001b[0m \u001b[0;34m\u001b[0m\u001b[0m\n",
      "\u001b[0;32m/app/tratamento_de_arquivos_e_dados/tratador_de_arquivos.py\u001b[0m in \u001b[0;36mler_arquivos\u001b[0;34m(self, nomes_de_arquivos, rat_ou_bos, tipo_geral)\u001b[0m\n\u001b[1;32m     58\u001b[0m         '''\n\u001b[1;32m     59\u001b[0m         \u001b[0;32mif\u001b[0m \u001b[0;32mnot\u001b[0m \u001b[0mtipo_geral\u001b[0m\u001b[0;34m:\u001b[0m\u001b[0;34m\u001b[0m\u001b[0;34m\u001b[0m\u001b[0m\n\u001b[0;32m---> 60\u001b[0;31m             \u001b[0mnrat_ou_nbos_no_bd\u001b[0m \u001b[0;34m=\u001b[0m \u001b[0mget_nrat_ou_nbos_no_db\u001b[0m\u001b[0;34m(\u001b[0m\u001b[0;34m)\u001b[0m\u001b[0;34m\u001b[0m\u001b[0;34m\u001b[0m\u001b[0m\n\u001b[0m\u001b[1;32m     61\u001b[0m         \u001b[0;32mif\u001b[0m \u001b[0mlen\u001b[0m\u001b[0;34m(\u001b[0m \u001b[0mnomes_de_arquivos\u001b[0m\u001b[0;34m)\u001b[0m \u001b[0;34m<\u001b[0m \u001b[0;36m1\u001b[0m\u001b[0;34m:\u001b[0m\u001b[0;34m\u001b[0m\u001b[0;34m\u001b[0m\u001b[0m\n\u001b[1;32m     62\u001b[0m             \u001b[0;32mraise\u001b[0m \u001b[0mException\u001b[0m\u001b[0;34m(\u001b[0m\u001b[0;34m'Não há arquivos csv novos para serem inseridos no banco de dados.'\u001b[0m\u001b[0;34m)\u001b[0m\u001b[0;34m\u001b[0m\u001b[0;34m\u001b[0m\u001b[0m\n",
      "\u001b[0;31mNameError\u001b[0m: name 'get_nrat_ou_nbos_no_db' is not defined"
     ]
    }
   ],
   "source": [
    "from tratamento_de_arquivos_e_dados.dados_para_banco_de_dados import dados_para_bd\n",
    "\n",
    "# dados_para_bd().dados_dos_arquivos_para_bd(rat_ou_bos='RAT', tipo='geral', apenas_nao_importados=False)\n",
    "dados_para_bd().dados_dos_arquivos_para_bd(rat_ou_bos='RAT', tipo='viaturas', apenas_nao_importados=False)\n",
    "# dados_para_bd().dados_dos_arquivos_para_bd(rat_ou_bos='RAT', tipo='efetivo', apenas_nao_importados=False)\n",
    "# dados_para_bd().dados_dos_arquivos_para_bd(rat_ou_bos='RAT', tipo='produtividade', apenas_nao_importados=False)"
   ]
  },
  {
   "cell_type": "code",
   "execution_count": 13,
   "id": "advanced-archives",
   "metadata": {},
   "outputs": [
    {
     "name": "stderr",
     "output_type": "stream",
     "text": [
      "/usr/local/lib/python3.9/site-packages/IPython/core/interactiveshell.py:3357: DtypeWarning: Columns (25) have mixed types.Specify dtype option on import or set low_memory=False.\n",
      "  if (await self.run_code(code, result,  async_=asy)):\n"
     ]
    }
   ],
   "source": [
    "df_rats_23 = tratador_de_arquivos().read_files(files_names['rat'])"
   ]
  },
  {
   "cell_type": "code",
   "execution_count": 16,
   "id": "continental-bankruptcy",
   "metadata": {},
   "outputs": [
    {
     "data": {
      "text/plain": [
       "Index(['RAT.NUM_ATIVIDADE', 'NAT.CODIGO', 'NAT.DESCRICAO', 'DTA_HRA_INCLUSAO',\n",
       "       'DTA_INICIO', 'HRA_INICIO', 'DTA_TERMINO', 'HRA_TERMINO',\n",
       "       'DES_ALVO_EVENTO', 'DES_LUGAR', 'NOM_OPERACAO', 'COD_UNIDADE_SERVICO',\n",
       "       'NOM_UNID_RESPONSAVEL', 'TIPO_LOGRADOURO', 'LOGRADOURO', 'DES_ENDERECO',\n",
       "       'NUM_ENDERECO', 'COMPLEMENTO_ALFA', 'COMPLEMENTO_ENDERECO',\n",
       "       'NUM_COMPLEMENTAR', 'COD_BAIRRO', 'NOME_BAIRRO', 'TIPO_LOGRADOURO2',\n",
       "       'LOGRADOURO2', 'DES_ENDERECO2', 'COD_MUNICIPIO', 'MUNICIPIO',\n",
       "       'LATITUDE', 'LONGITUDE', 'COD_UNIDADE_AREA', 'NOM_UNIDADE_AREA',\n",
       "       'DIGITADOR'],\n",
       "      dtype='object')"
      ]
     },
     "execution_count": 16,
     "metadata": {},
     "output_type": "execute_result"
    }
   ],
   "source": [
    "df_rats_23.columns"
   ]
  }
 ],
 "metadata": {
  "kernelspec": {
   "display_name": "Python 3",
   "language": "python",
   "name": "python3"
  },
  "language_info": {
   "codemirror_mode": {
    "name": "ipython",
    "version": 3
   },
   "file_extension": ".py",
   "mimetype": "text/x-python",
   "name": "python",
   "nbconvert_exporter": "python",
   "pygments_lexer": "ipython3",
   "version": "3.9.2"
  }
 },
 "nbformat": 4,
 "nbformat_minor": 5
}
