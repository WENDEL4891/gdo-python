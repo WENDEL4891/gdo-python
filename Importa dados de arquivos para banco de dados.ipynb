{
 "cells": [
  {
   "cell_type": "markdown",
   "id": "accessible-prize",
   "metadata": {},
   "source": [
    "# Importa dados apenas dos arquivos não importados ainda"
   ]
  },
  {
   "cell_type": "code",
   "execution_count": 1,
   "id": "green-velvet",
   "metadata": {
    "collapsed": true
   },
   "outputs": [
    {
     "name": "stdout",
     "output_type": "stream",
     "text": [
      "[05/07/2021 - 16:59:17]\tIniciando método dados_para_bd().dados_dos_arquivos_para_bd.\n",
      "\n",
      "[05/07/2021 - 16:59:17]\tDados tipo rat - geral\n",
      "\n",
      "\t[05/07/2021 - 16:59:17]\tIniciando método tratador_de_arquivos().get_nomes_de_arquivos()\n"
     ]
    },
    {
     "ename": "ValueError",
     "evalue": "Table tbl_arquivos_importados_rat not found",
     "output_type": "error",
     "traceback": [
      "\u001b[0;31m---------------------------------------------------------------------------\u001b[0m",
      "\u001b[0;31mInvalidRequestError\u001b[0m                       Traceback (most recent call last)",
      "\u001b[0;32m/usr/local/lib/python3.9/site-packages/pandas/io/sql.py\u001b[0m in \u001b[0;36mread_sql_table\u001b[0;34m(table_name, con, schema, index_col, coerce_float, parse_dates, columns, chunksize)\u001b[0m\n\u001b[1;32m    319\u001b[0m     \u001b[0;32mtry\u001b[0m\u001b[0;34m:\u001b[0m\u001b[0;34m\u001b[0m\u001b[0;34m\u001b[0m\u001b[0m\n\u001b[0;32m--> 320\u001b[0;31m         \u001b[0mmeta\u001b[0m\u001b[0;34m.\u001b[0m\u001b[0mreflect\u001b[0m\u001b[0;34m(\u001b[0m\u001b[0monly\u001b[0m\u001b[0;34m=\u001b[0m\u001b[0;34m[\u001b[0m\u001b[0mtable_name\u001b[0m\u001b[0;34m]\u001b[0m\u001b[0;34m,\u001b[0m \u001b[0mviews\u001b[0m\u001b[0;34m=\u001b[0m\u001b[0;32mTrue\u001b[0m\u001b[0;34m)\u001b[0m\u001b[0;34m\u001b[0m\u001b[0;34m\u001b[0m\u001b[0m\n\u001b[0m\u001b[1;32m    321\u001b[0m     \u001b[0;32mexcept\u001b[0m \u001b[0msqlalchemy\u001b[0m\u001b[0;34m.\u001b[0m\u001b[0mexc\u001b[0m\u001b[0;34m.\u001b[0m\u001b[0mInvalidRequestError\u001b[0m \u001b[0;32mas\u001b[0m \u001b[0merr\u001b[0m\u001b[0;34m:\u001b[0m\u001b[0;34m\u001b[0m\u001b[0;34m\u001b[0m\u001b[0m\n",
      "\u001b[0;32m/usr/local/lib/python3.9/site-packages/sqlalchemy/sql/schema.py\u001b[0m in \u001b[0;36mreflect\u001b[0;34m(self, bind, schema, views, only, extend_existing, autoload_replace, resolve_fks, **dialect_kwargs)\u001b[0m\n\u001b[1;32m   4698\u001b[0m                     \u001b[0ms\u001b[0m \u001b[0;34m=\u001b[0m \u001b[0mschema\u001b[0m \u001b[0;32mand\u001b[0m \u001b[0;34m(\u001b[0m\u001b[0;34m\" schema '%s'\"\u001b[0m \u001b[0;34m%\u001b[0m \u001b[0mschema\u001b[0m\u001b[0;34m)\u001b[0m \u001b[0;32mor\u001b[0m \u001b[0;34m\"\"\u001b[0m\u001b[0;34m\u001b[0m\u001b[0;34m\u001b[0m\u001b[0m\n\u001b[0;32m-> 4699\u001b[0;31m                     raise exc.InvalidRequestError(\n\u001b[0m\u001b[1;32m   4700\u001b[0m                         \u001b[0;34m\"Could not reflect: requested table(s) not available \"\u001b[0m\u001b[0;34m\u001b[0m\u001b[0;34m\u001b[0m\u001b[0m\n",
      "\u001b[0;31mInvalidRequestError\u001b[0m: Could not reflect: requested table(s) not available in Engine(sqlite:///gdo.db): (tbl_arquivos_importados_rat)",
      "\nThe above exception was the direct cause of the following exception:\n",
      "\u001b[0;31mValueError\u001b[0m                                Traceback (most recent call last)",
      "\u001b[0;32m/tmp/ipykernel_9/3310641632.py\u001b[0m in \u001b[0;36m<module>\u001b[0;34m\u001b[0m\n\u001b[1;32m      1\u001b[0m \u001b[0;32mfrom\u001b[0m \u001b[0mtratamento_de_arquivos_e_dados\u001b[0m\u001b[0;34m.\u001b[0m\u001b[0mdados_para_banco_de_dados\u001b[0m \u001b[0;32mimport\u001b[0m \u001b[0mdados_para_bd\u001b[0m\u001b[0;34m\u001b[0m\u001b[0;34m\u001b[0m\u001b[0m\n\u001b[1;32m      2\u001b[0m \u001b[0;34m\u001b[0m\u001b[0m\n\u001b[0;32m----> 3\u001b[0;31m \u001b[0mdados_para_bd\u001b[0m\u001b[0;34m(\u001b[0m\u001b[0;34m)\u001b[0m\u001b[0;34m.\u001b[0m\u001b[0mdados_dos_arquivos_para_bd\u001b[0m\u001b[0;34m(\u001b[0m\u001b[0mrat_ou_bos\u001b[0m\u001b[0;34m=\u001b[0m\u001b[0;34m'RAT'\u001b[0m\u001b[0;34m,\u001b[0m \u001b[0mtipo\u001b[0m\u001b[0;34m=\u001b[0m\u001b[0;34m'geral'\u001b[0m\u001b[0;34m,\u001b[0m \u001b[0mapenas_nao_importados\u001b[0m\u001b[0;34m=\u001b[0m\u001b[0;32mTrue\u001b[0m\u001b[0;34m)\u001b[0m\u001b[0;34m\u001b[0m\u001b[0;34m\u001b[0m\u001b[0m\n\u001b[0m\u001b[1;32m      4\u001b[0m \u001b[0mdados_para_bd\u001b[0m\u001b[0;34m(\u001b[0m\u001b[0;34m)\u001b[0m\u001b[0;34m.\u001b[0m\u001b[0mdados_dos_arquivos_para_bd\u001b[0m\u001b[0;34m(\u001b[0m\u001b[0mrat_ou_bos\u001b[0m\u001b[0;34m=\u001b[0m\u001b[0;34m'RAT'\u001b[0m\u001b[0;34m,\u001b[0m \u001b[0mtipo\u001b[0m\u001b[0;34m=\u001b[0m\u001b[0;34m'viaturas'\u001b[0m\u001b[0;34m,\u001b[0m \u001b[0mapenas_nao_importados\u001b[0m\u001b[0;34m=\u001b[0m\u001b[0;32mTrue\u001b[0m\u001b[0;34m)\u001b[0m\u001b[0;34m\u001b[0m\u001b[0;34m\u001b[0m\u001b[0m\n\u001b[1;32m      5\u001b[0m \u001b[0mdados_para_bd\u001b[0m\u001b[0;34m(\u001b[0m\u001b[0;34m)\u001b[0m\u001b[0;34m.\u001b[0m\u001b[0mdados_dos_arquivos_para_bd\u001b[0m\u001b[0;34m(\u001b[0m\u001b[0mrat_ou_bos\u001b[0m\u001b[0;34m=\u001b[0m\u001b[0;34m'RAT'\u001b[0m\u001b[0;34m,\u001b[0m \u001b[0mtipo\u001b[0m\u001b[0;34m=\u001b[0m\u001b[0;34m'efetivo'\u001b[0m\u001b[0;34m,\u001b[0m \u001b[0mapenas_nao_importados\u001b[0m\u001b[0;34m=\u001b[0m\u001b[0;32mTrue\u001b[0m\u001b[0;34m)\u001b[0m\u001b[0;34m\u001b[0m\u001b[0;34m\u001b[0m\u001b[0m\n",
      "\u001b[0;32m/app/tratamento_de_arquivos_e_dados/dados_para_banco_de_dados.py\u001b[0m in \u001b[0;36mdados_dos_arquivos_para_bd\u001b[0;34m(self, rat_ou_bos, tipo, apenas_nao_importados)\u001b[0m\n\u001b[1;32m     21\u001b[0m         \u001b[0mlogs\u001b[0m\u001b[0;34m.\u001b[0m\u001b[0mlog_inicio_fim_metodo\u001b[0m\u001b[0;34m(\u001b[0m\u001b[0;34m'Dados tipo {} - {}'\u001b[0m\u001b[0;34m.\u001b[0m\u001b[0mformat\u001b[0m\u001b[0;34m(\u001b[0m\u001b[0mrat_ou_bos_lower\u001b[0m\u001b[0;34m,\u001b[0m \u001b[0mtipo\u001b[0m\u001b[0;34m.\u001b[0m\u001b[0mlower\u001b[0m\u001b[0;34m(\u001b[0m\u001b[0;34m)\u001b[0m\u001b[0;34m)\u001b[0m\u001b[0;34m)\u001b[0m\u001b[0;34m\u001b[0m\u001b[0;34m\u001b[0m\u001b[0m\n\u001b[1;32m     22\u001b[0m         \u001b[0mlogs\u001b[0m\u001b[0;34m.\u001b[0m\u001b[0mlog\u001b[0m\u001b[0;34m(\u001b[0m\u001b[0;34m'Iniciando método tratador_de_arquivos().get_nomes_de_arquivos()'\u001b[0m\u001b[0;34m)\u001b[0m\u001b[0;34m\u001b[0m\u001b[0;34m\u001b[0m\u001b[0m\n\u001b[0;32m---> 23\u001b[0;31m         \u001b[0mnomes_de_arquivos\u001b[0m \u001b[0;34m=\u001b[0m \u001b[0mtratador_de_arquivos\u001b[0m\u001b[0;34m(\u001b[0m\u001b[0;34m)\u001b[0m\u001b[0;34m.\u001b[0m\u001b[0mget_nomes_de_arquivos\u001b[0m\u001b[0;34m(\u001b[0m\u001b[0mrat_ou_bos\u001b[0m\u001b[0;34m=\u001b[0m\u001b[0mrat_ou_bos_upper\u001b[0m\u001b[0;34m,\u001b[0m \u001b[0mapenas_nao_importados\u001b[0m\u001b[0;34m=\u001b[0m\u001b[0mapenas_nao_importados\u001b[0m\u001b[0;34m)\u001b[0m\u001b[0;34m\u001b[0m\u001b[0;34m\u001b[0m\u001b[0m\n\u001b[0m\u001b[1;32m     24\u001b[0m         \u001b[0mlogs\u001b[0m\u001b[0;34m.\u001b[0m\u001b[0mlog\u001b[0m\u001b[0;34m(\u001b[0m\u001b[0;34m'Finalizando método tratador_de_arquivos().get_nomes_de_arquivos()'\u001b[0m\u001b[0;34m)\u001b[0m\u001b[0;34m\u001b[0m\u001b[0;34m\u001b[0m\u001b[0m\n\u001b[1;32m     25\u001b[0m \u001b[0;34m\u001b[0m\u001b[0m\n",
      "\u001b[0;32m/app/tratamento_de_arquivos_e_dados/tratador_de_arquivos.py\u001b[0m in \u001b[0;36mget_nomes_de_arquivos\u001b[0;34m(self, rat_ou_bos, apenas_nao_importados)\u001b[0m\n\u001b[1;32m     19\u001b[0m \u001b[0;34m\u001b[0m\u001b[0m\n\u001b[1;32m     20\u001b[0m         \u001b[0;32mif\u001b[0m \u001b[0mapenas_nao_importados\u001b[0m\u001b[0;34m:\u001b[0m\u001b[0;34m\u001b[0m\u001b[0;34m\u001b[0m\u001b[0m\n\u001b[0;32m---> 21\u001b[0;31m             \u001b[0mdf_arquivos_importados\u001b[0m \u001b[0;34m=\u001b[0m \u001b[0mpd\u001b[0m\u001b[0;34m.\u001b[0m\u001b[0mread_sql_table\u001b[0m\u001b[0;34m(\u001b[0m\u001b[0;34m'tbl_arquivos_importados_{}'\u001b[0m\u001b[0;34m.\u001b[0m\u001b[0mformat\u001b[0m\u001b[0;34m(\u001b[0m\u001b[0mrat_ou_bos_lower\u001b[0m\u001b[0;34m)\u001b[0m\u001b[0;34m,\u001b[0m \u001b[0;34m'sqlite:///gdo.db'\u001b[0m\u001b[0;34m)\u001b[0m\u001b[0;34m\u001b[0m\u001b[0;34m\u001b[0m\u001b[0m\n\u001b[0m\u001b[1;32m     22\u001b[0m             \u001b[0mnomes_de_arquivos\u001b[0m \u001b[0;34m=\u001b[0m \u001b[0;34m[\u001b[0m\u001b[0mnome_de_arquivo\u001b[0m \u001b[0;32mfor\u001b[0m \u001b[0mnome_de_arquivo\u001b[0m \u001b[0;32min\u001b[0m \u001b[0mnomes_de_arquivos\u001b[0m \u001b[0;32mif\u001b[0m \u001b[0mnome_de_arquivo\u001b[0m \u001b[0;32mnot\u001b[0m \u001b[0;32min\u001b[0m \u001b[0mdf_arquivos_importados\u001b[0m\u001b[0;34m[\u001b[0m\u001b[0;34m'0'\u001b[0m\u001b[0;34m]\u001b[0m\u001b[0;34m.\u001b[0m\u001b[0mvalues\u001b[0m \u001b[0;34m]\u001b[0m\u001b[0;34m\u001b[0m\u001b[0;34m\u001b[0m\u001b[0m\n\u001b[1;32m     23\u001b[0m \u001b[0;34m\u001b[0m\u001b[0m\n",
      "\u001b[0;32m/usr/local/lib/python3.9/site-packages/pandas/io/sql.py\u001b[0m in \u001b[0;36mread_sql_table\u001b[0;34m(table_name, con, schema, index_col, coerce_float, parse_dates, columns, chunksize)\u001b[0m\n\u001b[1;32m    320\u001b[0m         \u001b[0mmeta\u001b[0m\u001b[0;34m.\u001b[0m\u001b[0mreflect\u001b[0m\u001b[0;34m(\u001b[0m\u001b[0monly\u001b[0m\u001b[0;34m=\u001b[0m\u001b[0;34m[\u001b[0m\u001b[0mtable_name\u001b[0m\u001b[0;34m]\u001b[0m\u001b[0;34m,\u001b[0m \u001b[0mviews\u001b[0m\u001b[0;34m=\u001b[0m\u001b[0;32mTrue\u001b[0m\u001b[0;34m)\u001b[0m\u001b[0;34m\u001b[0m\u001b[0;34m\u001b[0m\u001b[0m\n\u001b[1;32m    321\u001b[0m     \u001b[0;32mexcept\u001b[0m \u001b[0msqlalchemy\u001b[0m\u001b[0;34m.\u001b[0m\u001b[0mexc\u001b[0m\u001b[0;34m.\u001b[0m\u001b[0mInvalidRequestError\u001b[0m \u001b[0;32mas\u001b[0m \u001b[0merr\u001b[0m\u001b[0;34m:\u001b[0m\u001b[0;34m\u001b[0m\u001b[0;34m\u001b[0m\u001b[0m\n\u001b[0;32m--> 322\u001b[0;31m         \u001b[0;32mraise\u001b[0m \u001b[0mValueError\u001b[0m\u001b[0;34m(\u001b[0m\u001b[0;34mf\"Table {table_name} not found\"\u001b[0m\u001b[0;34m)\u001b[0m \u001b[0;32mfrom\u001b[0m \u001b[0merr\u001b[0m\u001b[0;34m\u001b[0m\u001b[0;34m\u001b[0m\u001b[0m\n\u001b[0m\u001b[1;32m    323\u001b[0m \u001b[0;34m\u001b[0m\u001b[0m\n\u001b[1;32m    324\u001b[0m     \u001b[0mpandas_sql\u001b[0m \u001b[0;34m=\u001b[0m \u001b[0mSQLDatabase\u001b[0m\u001b[0;34m(\u001b[0m\u001b[0mcon\u001b[0m\u001b[0;34m,\u001b[0m \u001b[0mmeta\u001b[0m\u001b[0;34m=\u001b[0m\u001b[0mmeta\u001b[0m\u001b[0;34m)\u001b[0m\u001b[0;34m\u001b[0m\u001b[0;34m\u001b[0m\u001b[0m\n",
      "\u001b[0;31mValueError\u001b[0m: Table tbl_arquivos_importados_rat not found"
     ]
    }
   ],
   "source": [
    "from tratamento_de_arquivos_e_dados.dados_para_banco_de_dados import dados_para_bd\n",
    "\n",
    "dados_para_bd().dados_dos_arquivos_para_bd(rat_ou_bos='RAT', tipo='geral', apenas_nao_importados=True)\n",
    "dados_para_bd().dados_dos_arquivos_para_bd(rat_ou_bos='RAT', tipo='viaturas', apenas_nao_importados=True)\n",
    "dados_para_bd().dados_dos_arquivos_para_bd(rat_ou_bos='RAT', tipo='efetivo', apenas_nao_importados=True)\n",
    "dados_para_bd().dados_dos_arquivos_para_bd(rat_ou_bos='RAT', tipo='produtividade', apenas_nao_importados=True)\n",
    "dados_para_bd().dados_dos_arquivos_para_bd(rat_ou_bos='BOS', tipo='geral', apenas_nao_importados=True)"
   ]
  },
  {
   "cell_type": "markdown",
   "id": "blank-murder",
   "metadata": {},
   "source": [
    "# Importa dados de todos os arquivos (renova banco de dados)"
   ]
  },
  {
   "cell_type": "code",
   "execution_count": 1,
   "id": "small-release",
   "metadata": {},
   "outputs": [
    {
     "name": "stdout",
     "output_type": "stream",
     "text": [
      "[05/07/2021 - 17:19:00]\tIniciando método dados_para_bd().dados_dos_arquivos_para_bd.\n",
      "\n",
      "[05/07/2021 - 17:19:00]\tDados tipo bos - geral\n",
      "\n",
      "\t[05/07/2021 - 17:19:00]\tIniciando método tratador_de_arquivos().get_nomes_de_arquivos()\n",
      "\t[05/07/2021 - 17:19:00]\tFinalizando método tratador_de_arquivos().get_nomes_de_arquivos()\n",
      "\t[05/07/2021 - 17:19:00]\tIniciando método tratador_de_arquivos().ler_arquivos()\n"
     ]
    },
    {
     "name": "stderr",
     "output_type": "stream",
     "text": [
      "/app/tratamento_de_arquivos_e_dados/dados_para_banco_de_dados.py:29: FutureWarning: The error_bad_lines argument has been deprecated and will be removed in a future version.\n",
      "\n",
      "\n",
      "  df = tratador_de_arquivos().ler_arquivos(nomes_de_arquivos['{}_{}'.format(rat_ou_bos_lower, tipo)], rat_ou_bos=rat_ou_bos_lower, tipo_geral=tipo_geral_argumento)\n",
      "b'Skipping line 21984: expected 31 fields, saw 32\\n'\n"
     ]
    },
    {
     "name": "stdout",
     "output_type": "stream",
     "text": [
      "\t[05/07/2021 - 17:19:15]\tFinalizando método tratador_de_arquivos().ler_arquivos()\n",
      "\t[05/07/2021 - 17:19:15]\tIniciando método tratador_de_arquivos().processa_dados()\n",
      "\t[05/07/2021 - 17:19:15]\tFinalizando método tratador_de_arquivos().processa_dados()\n",
      "\t[05/07/2021 - 17:19:15]\tIniciando método tratador_de_arquivos().get_classif() e tratador_de_arquivos().classifica_setor()\n",
      "\t[05/07/2021 - 17:19:16]\tFinalizando método tratador_de_arquivos().get_classif() e tratador_de_arquivos().classifica_setor()\n",
      "\t[05/07/2021 - 17:19:16]\tIniciando método tratador_de_arquivos().classifica_cia()\n",
      "\t[05/07/2021 - 17:19:16]\tFinalizando método tratador_de_arquivos().classifica_cia()\n"
     ]
    },
    {
     "name": "stderr",
     "output_type": "stream",
     "text": [
      "/usr/local/lib/python3.9/site-packages/pandas/io/sql.py:717: UserWarning: the 'timedelta' type is not supported, and will be written as integer values (ns frequency) to the database.\n",
      "  pandas_sql.to_sql(\n"
     ]
    },
    {
     "name": "stdout",
     "output_type": "stream",
     "text": [
      "dados exportados para o db ok\n",
      "\t[05/07/2021 - 17:19:17]\tdf deleted\n",
      "\t[05/07/2021 - 17:19:17]\tIniciando a inclusão dos nomes dos arquivos importados no banco de dados\n",
      "\t[05/07/2021 - 17:19:17]\tFinalizando a inclusão dos nomes dos arquivos importados no banco de dados\n",
      "[05/07/2021 - 17:19:17]\tFinalizando método dados_para_bd().dados_dos_arquivos_para_bd.\n",
      "\n"
     ]
    }
   ],
   "source": [
    "from tratamento_de_arquivos_e_dados.dados_para_banco_de_dados import dados_para_bd\n",
    "\n",
    "# dados_para_bd().dados_dos_arquivos_para_bd(rat_ou_bos='RAT', tipo='geral', apenas_nao_importados=False)\n",
    "# dados_para_bd().dados_dos_arquivos_para_bd(rat_ou_bos='RAT', tipo='viaturas', apenas_nao_importados=False)\n",
    "# dados_para_bd().dados_dos_arquivos_para_bd(rat_ou_bos='RAT', tipo='efetivo', apenas_nao_importados=False)\n",
    "# dados_para_bd().dados_dos_arquivos_para_bd(rat_ou_bos='RAT', tipo='produtividade', apenas_nao_importados=False)\n",
    "dados_para_bd().dados_dos_arquivos_para_bd(rat_ou_bos='BOS', tipo='geral', apenas_nao_importados=False)"
   ]
  }
 ],
 "metadata": {
  "kernelspec": {
   "display_name": "Python 3 (ipykernel)",
   "language": "python",
   "name": "python3"
  },
  "language_info": {
   "codemirror_mode": {
    "name": "ipython",
    "version": 3
   },
   "file_extension": ".py",
   "mimetype": "text/x-python",
   "name": "python",
   "nbconvert_exporter": "python",
   "pygments_lexer": "ipython3",
   "version": "3.9.6"
  }
 },
 "nbformat": 4,
 "nbformat_minor": 5
}
