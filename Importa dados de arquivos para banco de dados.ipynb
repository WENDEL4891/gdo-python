{
 "cells": [
  {
   "cell_type": "code",
   "execution_count": 1,
   "id": "small-release",
   "metadata": {},
   "outputs": [
    {
     "name": "stdout",
     "output_type": "stream",
     "text": [
      "[11/03/2021 - 09:21:00]\tIniciando método dados_para_bd().dados_dos_arquivos_para_bd.\n",
      "\n",
      "[11/03/2021 - 09:21:00]\tDados tipo rat - geral\n",
      "\n",
      "\t[11/03/2021 - 09:21:00]\tIniciando método tratador_de_arquivos().get_nomes_de_arquivos()\n",
      "\t[11/03/2021 - 09:21:00]\tFinalizando método tratador_de_arquivos().get_nomes_de_arquivos()\n",
      "\t[11/03/2021 - 09:21:00]\tIniciando método tratador_de_arquivos().ler_arquivos()\n"
     ]
    },
    {
     "name": "stderr",
     "output_type": "stream",
     "text": [
      "/usr/local/lib/python3.9/site-packages/IPython/core/interactiveshell.py:3437: DtypeWarning: Columns (25) have mixed types.Specify dtype option on import or set low_memory=False.\n",
      "  exec(code_obj, self.user_global_ns, self.user_ns)\n"
     ]
    },
    {
     "name": "stdout",
     "output_type": "stream",
     "text": [
      "\t[11/03/2021 - 09:21:09]\tFinalizando método tratador_de_arquivos().ler_arquivos()\n",
      "\t[11/03/2021 - 09:21:09]\tIniciando método tratador_de_arquivos().processa_dados()\n",
      "\t[11/03/2021 - 09:21:09]\tFinalizando método tratador_de_arquivos().processa_dados()\n",
      "\t[11/03/2021 - 09:21:09]\tIniciando método tratador_de_arquivos().get_classif() e tratador_de_arquivos().classifica_setor()\n",
      "\t[11/03/2021 - 09:21:09]\tFinalizando método tratador_de_arquivos().get_classif() e tratador_de_arquivos().classifica_setor()\n",
      "\t[11/03/2021 - 09:21:09]\tIniciando método tratador_de_arquivos().classifica_cia()\n",
      "\t[11/03/2021 - 09:21:09]\tFinalizando método tratador_de_arquivos().classifica_cia()\n"
     ]
    },
    {
     "name": "stderr",
     "output_type": "stream",
     "text": [
      "/usr/local/lib/python3.9/site-packages/pandas/core/generic.py:2779: UserWarning: the 'timedelta' type is not supported, and will be written as integer values (ns frequency) to the database.\n",
      "  sql.to_sql(\n"
     ]
    },
    {
     "name": "stdout",
     "output_type": "stream",
     "text": [
      "dados exportados para o db ok\n",
      "\t[11/03/2021 - 09:21:10]\tdf_rat deleted\n",
      "\t[11/03/2021 - 09:21:10]\tIniciando a inclusão dos nomes dos arquivos importados no banco de dados\n",
      "\t[11/03/2021 - 09:21:10]\tFinalizando a inclusão dos nomes dos arquivos importados no banco de dados\n",
      "[11/03/2021 - 09:21:10]\tFinalizando método dados_para_bd().dados_dos_arquivos_para_bd.\n",
      "\n",
      "[11/03/2021 - 09:21:10]\tIniciando método dados_para_bd().dados_dos_arquivos_para_bd.\n",
      "\n",
      "[11/03/2021 - 09:21:10]\tDados tipo rat - viaturas\n",
      "\n",
      "\t[11/03/2021 - 09:21:10]\tIniciando método tratador_de_arquivos().get_nomes_de_arquivos()\n",
      "\t[11/03/2021 - 09:21:10]\tFinalizando método tratador_de_arquivos().get_nomes_de_arquivos()\n",
      "\t[11/03/2021 - 09:21:10]\tIniciando método tratador_de_arquivos().ler_arquivos()\n",
      "\t[11/03/2021 - 09:21:12]\tFinalizando método tratador_de_arquivos().ler_arquivos()\n",
      "dados exportados para o db ok\n",
      "\t[11/03/2021 - 09:21:12]\tdf_rat deleted\n",
      "\t[11/03/2021 - 09:21:12]\tIniciando a inclusão dos nomes dos arquivos importados no banco de dados\n",
      "\t[11/03/2021 - 09:21:12]\tFinalizando a inclusão dos nomes dos arquivos importados no banco de dados\n",
      "[11/03/2021 - 09:21:12]\tFinalizando método dados_para_bd().dados_dos_arquivos_para_bd.\n",
      "\n",
      "[11/03/2021 - 09:21:12]\tIniciando método dados_para_bd().dados_dos_arquivos_para_bd.\n",
      "\n",
      "[11/03/2021 - 09:21:12]\tDados tipo rat - efetivo\n",
      "\n",
      "\t[11/03/2021 - 09:21:12]\tIniciando método tratador_de_arquivos().get_nomes_de_arquivos()\n",
      "\t[11/03/2021 - 09:21:12]\tFinalizando método tratador_de_arquivos().get_nomes_de_arquivos()\n",
      "\t[11/03/2021 - 09:21:12]\tIniciando método tratador_de_arquivos().ler_arquivos()\n",
      "\t[11/03/2021 - 09:21:17]\tFinalizando método tratador_de_arquivos().ler_arquivos()\n",
      "dados exportados para o db ok\n",
      "\t[11/03/2021 - 09:21:17]\tdf_rat deleted\n",
      "\t[11/03/2021 - 09:21:17]\tIniciando a inclusão dos nomes dos arquivos importados no banco de dados\n",
      "\t[11/03/2021 - 09:21:17]\tFinalizando a inclusão dos nomes dos arquivos importados no banco de dados\n",
      "[11/03/2021 - 09:21:17]\tFinalizando método dados_para_bd().dados_dos_arquivos_para_bd.\n",
      "\n",
      "[11/03/2021 - 09:21:17]\tIniciando método dados_para_bd().dados_dos_arquivos_para_bd.\n",
      "\n",
      "[11/03/2021 - 09:21:17]\tDados tipo rat - produtividade\n",
      "\n",
      "\t[11/03/2021 - 09:21:17]\tIniciando método tratador_de_arquivos().get_nomes_de_arquivos()\n",
      "\t[11/03/2021 - 09:21:17]\tFinalizando método tratador_de_arquivos().get_nomes_de_arquivos()\n",
      "\t[11/03/2021 - 09:21:17]\tIniciando método tratador_de_arquivos().ler_arquivos()\n",
      "\t[11/03/2021 - 09:21:19]\tFinalizando método tratador_de_arquivos().ler_arquivos()\n",
      "dados exportados para o db ok\n",
      "\t[11/03/2021 - 09:21:20]\tdf_rat deleted\n",
      "\t[11/03/2021 - 09:21:20]\tIniciando a inclusão dos nomes dos arquivos importados no banco de dados\n",
      "\t[11/03/2021 - 09:21:20]\tFinalizando a inclusão dos nomes dos arquivos importados no banco de dados\n",
      "[11/03/2021 - 09:21:20]\tFinalizando método dados_para_bd().dados_dos_arquivos_para_bd.\n",
      "\n",
      "[11/03/2021 - 09:21:20]\tIniciando método dados_para_bd().dados_dos_arquivos_para_bd.\n",
      "\n",
      "[11/03/2021 - 09:21:20]\tDados tipo bos - geral\n",
      "\n",
      "\t[11/03/2021 - 09:21:20]\tIniciando método tratador_de_arquivos().get_nomes_de_arquivos()\n",
      "\t[11/03/2021 - 09:21:20]\tFinalizando método tratador_de_arquivos().get_nomes_de_arquivos()\n",
      "\t[11/03/2021 - 09:21:20]\tIniciando método tratador_de_arquivos().ler_arquivos()\n",
      "\t[11/03/2021 - 09:21:25]\tFinalizando método tratador_de_arquivos().ler_arquivos()\n",
      "\t[11/03/2021 - 09:21:25]\tIniciando método tratador_de_arquivos().processa_dados()\n",
      "\t[11/03/2021 - 09:21:25]\tFinalizando método tratador_de_arquivos().processa_dados()\n",
      "\t[11/03/2021 - 09:21:25]\tIniciando método tratador_de_arquivos().get_classif() e tratador_de_arquivos().classifica_setor()\n",
      "\t[11/03/2021 - 09:21:26]\tFinalizando método tratador_de_arquivos().get_classif() e tratador_de_arquivos().classifica_setor()\n",
      "\t[11/03/2021 - 09:21:26]\tIniciando método tratador_de_arquivos().classifica_cia()\n",
      "\t[11/03/2021 - 09:21:26]\tFinalizando método tratador_de_arquivos().classifica_cia()\n"
     ]
    },
    {
     "name": "stderr",
     "output_type": "stream",
     "text": [
      "/usr/local/lib/python3.9/site-packages/pandas/core/generic.py:2779: UserWarning: the 'timedelta' type is not supported, and will be written as integer values (ns frequency) to the database.\n",
      "  sql.to_sql(\n"
     ]
    },
    {
     "name": "stdout",
     "output_type": "stream",
     "text": [
      "dados exportados para o db ok\n",
      "\t[11/03/2021 - 09:21:26]\tdf_rat deleted\n",
      "\t[11/03/2021 - 09:21:26]\tIniciando a inclusão dos nomes dos arquivos importados no banco de dados\n",
      "\t[11/03/2021 - 09:21:26]\tFinalizando a inclusão dos nomes dos arquivos importados no banco de dados\n",
      "[11/03/2021 - 09:21:26]\tFinalizando método dados_para_bd().dados_dos_arquivos_para_bd.\n",
      "\n"
     ]
    }
   ],
   "source": [
    "from tratamento_de_arquivos_e_dados.dados_para_banco_de_dados import dados_para_bd\n",
    "\n",
    "dados_para_bd().dados_dos_arquivos_para_bd(rat_ou_bos='RAT', tipo='geral', apenas_nao_importados=False)\n",
    "dados_para_bd().dados_dos_arquivos_para_bd(rat_ou_bos='RAT', tipo='viaturas', apenas_nao_importados=False)\n",
    "dados_para_bd().dados_dos_arquivos_para_bd(rat_ou_bos='RAT', tipo='efetivo', apenas_nao_importados=False)\n",
    "dados_para_bd().dados_dos_arquivos_para_bd(rat_ou_bos='RAT', tipo='produtividade', apenas_nao_importados=False)\n",
    "dados_para_bd().dados_dos_arquivos_para_bd(rat_ou_bos='BOS', tipo='geral', apenas_nao_importados=False)"
   ]
  }
 ],
 "metadata": {
  "kernelspec": {
   "display_name": "Python 3",
   "language": "python",
   "name": "python3"
  },
  "language_info": {
   "codemirror_mode": {
    "name": "ipython",
    "version": 3
   },
   "file_extension": ".py",
   "mimetype": "text/x-python",
   "name": "python",
   "nbconvert_exporter": "python",
   "pygments_lexer": "ipython3",
   "version": "3.9.2"
  }
 },
 "nbformat": 4,
 "nbformat_minor": 5
}
