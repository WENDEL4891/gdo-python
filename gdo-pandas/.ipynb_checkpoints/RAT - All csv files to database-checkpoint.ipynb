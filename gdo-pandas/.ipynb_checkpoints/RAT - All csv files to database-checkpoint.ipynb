{
 "cells": [
  {
   "cell_type": "markdown",
   "metadata": {},
   "source": [
    "<h1 style='color:#008'>Read all RAT csv insert data on database</h1>"
   ]
  },
  {
   "cell_type": "code",
   "execution_count": 3,
   "metadata": {},
   "outputs": [
    {
     "name": "stdout",
     "output_type": "stream",
     "text": [
      "files ok\n",
      "nomes dos arquivos importados, já inseridos no db\n",
      "CPU times: user 46.6 ms, sys: 7.87 ms, total: 54.4 ms\n",
      "Wall time: 307 ms\n"
     ]
    }
   ],
   "source": [
    "%%time\n",
    "import pandas as pd\n",
    "import funcs, gc\n",
    "\n",
    "files_names = funcs.get_files_names(only_not_imported=False)\n",
    "print('files ok')\n",
    "\n",
    "df_rat = funcs.read_files(files_names['rat'])\n",
    "print('files lidos ok')\n",
    "\n",
    "df_rat = funcs.data_rat_processing(df_rat)\n",
    "print('processing df ok')\n",
    "\n",
    "df_classif = funcs.get_df_classif()\n",
    "df_rat['SETOR'] = df_rat.apply(lambda row: funcs.classifica_setor(row, df_classif), axis=1)\n",
    "print('classificação setores ok')\n",
    "\n",
    "funcs.classifica_cia(df_rat=df_rat)\n",
    "print('classificação cias ok')\n",
    "\n",
    "df_rat.to_sql('tbl_rat', 'sqlite:///gdo.db', if_exists='replace', index=False)\n",
    "print('dados exportados para o db ok')\n",
    "\n",
    "del df_rat\n",
    "print('df_rat deleted')\n",
    "gc.collect()\n",
    "\n",
    "pd.DataFrame(files_names['rat']).to_sql('tbl_imported_files', 'sqlite:///gdo.db', if_exists='replace', index=False)\n",
    "print('nomes dos arquivos importados, já inseridos no db')"
   ]
  },
  {
   "cell_type": "markdown",
   "metadata": {},
   "source": [
    "<h1 style='color:#008'>Read all RAT_VIATURA csv insert data on database</h1>"
   ]
  },
  {
   "cell_type": "code",
   "execution_count": 5,
   "metadata": {
    "scrolled": true
   },
   "outputs": [
    {
     "data": {
      "text/html": [
       "<div>\n",
       "<style scoped>\n",
       "    .dataframe tbody tr th:only-of-type {\n",
       "        vertical-align: middle;\n",
       "    }\n",
       "\n",
       "    .dataframe tbody tr th {\n",
       "        vertical-align: top;\n",
       "    }\n",
       "\n",
       "    .dataframe thead th {\n",
       "        text-align: right;\n",
       "    }\n",
       "</style>\n",
       "<table border=\"1\" class=\"dataframe\">\n",
       "  <thead>\n",
       "    <tr style=\"text-align: right;\">\n",
       "      <th></th>\n",
       "      <th>NUM_ATIVIDADE</th>\n",
       "      <th>NUM_SEQ_RECURSO</th>\n",
       "      <th>NUM_PLACA</th>\n",
       "      <th>NUM_PREFIXO</th>\n",
       "    </tr>\n",
       "  </thead>\n",
       "  <tbody>\n",
       "    <tr>\n",
       "      <th>217</th>\n",
       "      <td>2018-046472984-001</td>\n",
       "      <td>1.0</td>\n",
       "      <td>PYW3528</td>\n",
       "      <td>25043</td>\n",
       "    </tr>\n",
       "    <tr>\n",
       "      <th>234</th>\n",
       "      <td>2018-046878708-001</td>\n",
       "      <td>1.0</td>\n",
       "      <td>PYT0241</td>\n",
       "      <td>24453</td>\n",
       "    </tr>\n",
       "    <tr>\n",
       "      <th>237</th>\n",
       "      <td>2018-047006854-001</td>\n",
       "      <td>1.0</td>\n",
       "      <td>PYT0241</td>\n",
       "      <td>24453</td>\n",
       "    </tr>\n",
       "    <tr>\n",
       "      <th>291</th>\n",
       "      <td>2018-048663517-001</td>\n",
       "      <td>1.0</td>\n",
       "      <td>OLW8026</td>\n",
       "      <td>19912</td>\n",
       "    </tr>\n",
       "    <tr>\n",
       "      <th>304</th>\n",
       "      <td>2018-049254756-001</td>\n",
       "      <td>1.0</td>\n",
       "      <td>HNO5472</td>\n",
       "      <td>18298</td>\n",
       "    </tr>\n",
       "    <tr>\n",
       "      <th>...</th>\n",
       "      <td>...</td>\n",
       "      <td>...</td>\n",
       "      <td>...</td>\n",
       "      <td>...</td>\n",
       "    </tr>\n",
       "    <tr>\n",
       "      <th>76484</th>\n",
       "      <td>2020-025927897-001</td>\n",
       "      <td>1.0</td>\n",
       "      <td>QMV1934</td>\n",
       "      <td>28496</td>\n",
       "    </tr>\n",
       "    <tr>\n",
       "      <th>76487</th>\n",
       "      <td>2020-025927950-001</td>\n",
       "      <td>1.0</td>\n",
       "      <td>OQM9213</td>\n",
       "      <td>20904</td>\n",
       "    </tr>\n",
       "    <tr>\n",
       "      <th>76650</th>\n",
       "      <td>2020-025934297-001</td>\n",
       "      <td>1.0</td>\n",
       "      <td>OQM9213</td>\n",
       "      <td>20904</td>\n",
       "    </tr>\n",
       "    <tr>\n",
       "      <th>76667</th>\n",
       "      <td>2020-025934923-001</td>\n",
       "      <td>1.0</td>\n",
       "      <td>QUS2230</td>\n",
       "      <td>28884</td>\n",
       "    </tr>\n",
       "    <tr>\n",
       "      <th>77179</th>\n",
       "      <td>2020-025951190-001</td>\n",
       "      <td>1.0</td>\n",
       "      <td>PUE9253</td>\n",
       "      <td>25669</td>\n",
       "    </tr>\n",
       "  </tbody>\n",
       "</table>\n",
       "<p>55731 rows × 4 columns</p>\n",
       "</div>"
      ],
      "text/plain": [
       "            NUM_ATIVIDADE  NUM_SEQ_RECURSO NUM_PLACA NUM_PREFIXO\n",
       "217    2018-046472984-001              1.0   PYW3528       25043\n",
       "234    2018-046878708-001              1.0   PYT0241       24453\n",
       "237    2018-047006854-001              1.0   PYT0241       24453\n",
       "291    2018-048663517-001              1.0   OLW8026       19912\n",
       "304    2018-049254756-001              1.0   HNO5472       18298\n",
       "...                   ...              ...       ...         ...\n",
       "76484  2020-025927897-001              1.0   QMV1934       28496\n",
       "76487  2020-025927950-001              1.0   OQM9213       20904\n",
       "76650  2020-025934297-001              1.0   OQM9213       20904\n",
       "76667  2020-025934923-001              1.0   QUS2230       28884\n",
       "77179  2020-025951190-001              1.0   PUE9253       25669\n",
       "\n",
       "[55731 rows x 4 columns]"
      ]
     },
     "execution_count": 5,
     "metadata": {},
     "output_type": "execute_result"
    }
   ],
   "source": [
    "%%time\n",
    "import pandas as pd\n",
    "import numpy as np\n",
    "import funcs, gc\n",
    "\n",
    "files_names = funcs.get_files_names(only_not_imported=False)\n",
    "print('files ok')\n",
    "\n",
    "df_ratv = funcs.read_files(files_names['ratv'], rat_data=False)\n",
    "print('files lidos ok')\n",
    "\n",
    "\n",
    "df_ratv.to_sql('tbl_rat_viaturas', 'sqlite:///gdo.db', if_exists='replace', index=False)\n",
    "print('dados exportados para o db ok')\n",
    "\n",
    "del df_ratv\n",
    "print('df_ratv deleted')\n",
    "gc.collect()\n",
    "\n",
    "df_names_files = pd.read_sql_table('tbl_imported_files', 'sqlite:///gdo.db')\n",
    "\n",
    "df_names_files = df_names_files[\n",
    "    ~ df_names_files['0'].str.contains('REDS_RAT_V')\n",
    "]\n",
    "\n",
    "pd.DataFrame(files_names['ratv']).to_sql('tbl_imported_files', 'sqlite:///gdo.db', if_exists='append', index=False)\n",
    "print('nomes dos arquivos importados, já inseridos no db')"
   ]
  },
  {
   "cell_type": "markdown",
   "metadata": {},
   "source": [
    "<h1 style='color:#008'>Read all RAT_EFETIVO csv insert data on database</h1>"
   ]
  },
  {
   "cell_type": "code",
   "execution_count": 5,
   "metadata": {},
   "outputs": [
    {
     "name": "stdout",
     "output_type": "stream",
     "text": [
      "files ok\n",
      "nomes dos arquivos importados, já inseridos no db\n",
      "CPU times: user 9.68 ms, sys: 11.9 ms, total: 21.5 ms\n",
      "Wall time: 215 ms\n"
     ]
    }
   ],
   "source": [
    "%%time\n",
    "import pandas as pd\n",
    "import numpy as np\n",
    "import funcs, gc\n",
    "\n",
    "files_names = funcs.get_files_names(only_not_imported=False)\n",
    "print('files ok')\n",
    "\n",
    "df_rate = funcs.read_files(files_names['rate'], rat_data=False)\n",
    "print('files lidos ok')\n",
    "\n",
    "df_rate.to_sql('tbl_rat_efetivo', 'sqlite:///gdo.db', if_exists='replace', index=False)\n",
    "print('dados exportados para o db ok')\n",
    "\n",
    "del df_rate\n",
    "print('df_rate deleted')\n",
    "gc.collect()\n",
    "\n",
    "df_names_files = pd.read_sql_table('tbl_imported_files', 'sqlite:///gdo.db')\n",
    "\n",
    "df_names_files = df_names_files[\n",
    "    ~ df_names_files['0'].str.contains('REDS_RAT_E')\n",
    "]\n",
    "\n",
    "pd.DataFrame(files_names['rate']).to_sql('tbl_imported_files', 'sqlite:///gdo.db', if_exists='append', index=False)\n",
    "print('nomes dos arquivos importados, já inseridos no db')"
   ]
  },
  {
   "cell_type": "markdown",
   "metadata": {},
   "source": [
    "<h1 style='color:#008'>Read all RAT_PRODUTIVIDADE csv insert data on database</h1>"
   ]
  },
  {
   "cell_type": "code",
   "execution_count": 6,
   "metadata": {},
   "outputs": [
    {
     "name": "stdout",
     "output_type": "stream",
     "text": [
      "files ok\n",
      "nomes dos arquivos importados, já inseridos no db\n",
      "CPU times: user 6.48 ms, sys: 7.77 ms, total: 14.3 ms\n",
      "Wall time: 156 ms\n"
     ]
    }
   ],
   "source": [
    "%%time\n",
    "import pandas as pd\n",
    "import numpy as np\n",
    "import funcs, gc\n",
    "\n",
    "files_names = funcs.get_files_names(only_not_imported=False)\n",
    "print('files ok')\n",
    "\n",
    "df_ratp = funcs.read_files(files_names['ratp'], rat_data=False)\n",
    "print('files lidos ok')\n",
    "\n",
    "df_ratp.to_sql('tbl_rat_produtividade', 'sqlite:///gdo.db', if_exists='replace', index=False)\n",
    "print('dados exportados para o db ok')\n",
    "\n",
    "del df_ratp\n",
    "print('df_ratp deleted')\n",
    "gc.collect()\n",
    "\n",
    "df_names_files = pd.read_sql_table('tbl_imported_files', 'sqlite:///gdo.db')\n",
    "\n",
    "df_names_files = df_names_files[\n",
    "    ~ df_names_files['0'].str.contains('REDS_RAT_P')\n",
    "]\n",
    "\n",
    "pd.DataFrame(files_names['ratp']).to_sql('tbl_imported_files', 'sqlite:///gdo.db', if_exists='append', index=False)\n",
    "print('nomes dos arquivos importados, já inseridos no db')"
   ]
  }
 ],
 "metadata": {
  "celltoolbar": "Raw Cell Format",
  "kernelspec": {
   "display_name": "Python 3",
   "language": "python",
   "name": "python3"
  },
  "language_info": {
   "codemirror_mode": {
    "name": "ipython",
    "version": 3
   },
   "file_extension": ".py",
   "mimetype": "text/x-python",
   "name": "python",
   "nbconvert_exporter": "python",
   "pygments_lexer": "ipython3",
   "version": "3.9.2"
  }
 },
 "nbformat": 4,
 "nbformat_minor": 2
}
