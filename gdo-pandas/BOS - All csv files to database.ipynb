{
 "cells": [
  {
   "cell_type": "markdown",
   "metadata": {},
   "source": [
    "<h1 style='color:#008'>Read all BOS csv insert data on database</h1>"
   ]
  },
  {
   "cell_type": "code",
   "execution_count": 1,
   "metadata": {},
   "outputs": [
    {
     "name": "stdout",
     "output_type": "stream",
     "text": [
      "files ok\n"
     ]
    },
    {
     "name": "stderr",
     "output_type": "stream",
     "text": [
      "/home/p323bpm/.asdf/installs/python/anaconda3-2020.02/lib/python3.7/site-packages/IPython/core/magic.py:187: DtypeWarning: Columns (24) have mixed types.Specify dtype option on import or set low_memory=False.\n",
      "  call = lambda f, *a, **k: f(*a, **k)\n"
     ]
    },
    {
     "name": "stdout",
     "output_type": "stream",
     "text": [
      "files lidos ok\n",
      "processing df ok\n",
      "classificação setores ok\n",
      "classificação cias ok\n"
     ]
    },
    {
     "name": "stderr",
     "output_type": "stream",
     "text": [
      "/home/p323bpm/.asdf/installs/python/anaconda3-2020.02/lib/python3.7/site-packages/pandas/core/generic.py:2663: UserWarning: the 'timedelta' type is not supported, and will be written as integer values (ns frequency) to the database.\n",
      "  method=method,\n"
     ]
    },
    {
     "name": "stdout",
     "output_type": "stream",
     "text": [
      "dados exportados para o db ok\n",
      "bos deleted\n",
      "nomes dos arquivos importados, já inseridos no db\n",
      "CPU times: user 13.5 s, sys: 439 ms, total: 14 s\n",
      "Wall time: 14.8 s\n"
     ]
    }
   ],
   "source": [
    "%%time\n",
    "import pandas as pd\n",
    "import funcs_bos, gc\n",
    "\n",
    "files_names = funcs_bos.get_files_names(only_not_imported=False)\n",
    "print('files ok')\n",
    "files_names\n",
    "\n",
    "bos = funcs_bos.read_files(files_names)\n",
    "print('files lidos ok')\n",
    "\n",
    "bos = funcs_bos.data_bos_processing(bos)\n",
    "print('processing df ok')\n",
    "\n",
    "classificadores = funcs_bos.get_classificadores()\n",
    "bos['SETOR'] = bos.apply(lambda row: funcs_bos.classifica_setor(row, classificadores), axis=1)\n",
    "print('classificação setores ok')\n",
    "\n",
    "funcs_bos.classifica_cia(df_bos=bos)\n",
    "print('classificação cias ok')\n",
    "\n",
    "bos.to_sql('tbl_bos', 'sqlite:///gdo.db', if_exists='replace', index=False)\n",
    "print('dados exportados para o db ok')\n",
    "\n",
    "del bos\n",
    "print('bos deleted')\n",
    "gc.collect()\n",
    "\n",
    "pd.DataFrame(files_names).to_sql('tbl_imported_files_bos', 'sqlite:///gdo.db', if_exists='replace', index=False)\n",
    "print('nomes dos arquivos importados, já inseridos no db')"
   ]
  },
  {
   "cell_type": "code",
   "execution_count": 2,
   "metadata": {},
   "outputs": [],
   "source": [
    "bos = pd.read_sql('select * from tbl_bos', 'sqlite:///gdo.db')"
   ]
  },
  {
   "cell_type": "code",
   "execution_count": 3,
   "metadata": {},
   "outputs": [],
   "source": [
    "reunioes = bos[\n",
    "    ( bos['ANO'] == 2020 )\n",
    "    & ( bos['NAT.CODIGO'].str.contains('A19') )\n",
    "].groupby(['CIA', 'MES']).count()['RAT.NUM_ATIVIDADE'].unstack('MES')\n",
    "reunioes.loc['TOTAL'] = reunioes.sum()\n",
    "reunioes.loc[:,'ACUM'] = reunioes.sum(1)\n",
    "reunioes.to_excel('reunioes.xlsx')"
   ]
  },
  {
   "cell_type": "code",
   "execution_count": 4,
   "metadata": {},
   "outputs": [
    {
     "data": {
      "text/plain": [
       "CIA\n",
       "139 CIA     58\n",
       "142 CIA     94\n",
       "51 CIA      91\n",
       "53 CIA      50\n",
       "other        1\n",
       "TOTAL      294\n",
       "Name: RAT.NUM_ATIVIDADE, dtype: int64"
      ]
     },
     "execution_count": 4,
     "metadata": {},
     "output_type": "execute_result"
    }
   ],
   "source": [
    "table_bos = dict()\n",
    "table_bos['mes'] = bos[\n",
    "    ( bos['MES'] == 6 )\n",
    "    & ( bos['NAT.CODIGO'].str.contains('A19') )\n",
    "    & ( bos['ANO'] == 2020 )\n",
    "].groupby('CIA').count()['RAT.NUM_ATIVIDADE']\n",
    "table_bos['mes'].loc['TOTAL'] = table_bos['mes'].sum()\n",
    "table_bos['mes']\n",
    "\n",
    "table_bos['acum'] = bos[\n",
    "    ( bos['MES'] <= 4 )\n",
    "    & ( bos['NAT.CODIGO'].str.contains('A19') )\n",
    "    & ( bos['ANO'] == 2020 )\n",
    "].groupby('CIA').count()['RAT.NUM_ATIVIDADE']\n",
    "table_bos['acum'].loc['TOTAL'] = table_bos['acum'].sum()\n",
    "table_bos['acum']"
   ]
  },
  {
   "cell_type": "code",
   "execution_count": 5,
   "metadata": {},
   "outputs": [
    {
     "data": {
      "text/html": [
       "<div>\n",
       "<style scoped>\n",
       "    .dataframe tbody tr th:only-of-type {\n",
       "        vertical-align: middle;\n",
       "    }\n",
       "\n",
       "    .dataframe tbody tr th {\n",
       "        vertical-align: top;\n",
       "    }\n",
       "\n",
       "    .dataframe thead th {\n",
       "        text-align: right;\n",
       "    }\n",
       "</style>\n",
       "<table border=\"1\" class=\"dataframe\">\n",
       "  <thead>\n",
       "    <tr style=\"text-align: right;\">\n",
       "      <th></th>\n",
       "      <th>RAT.NUM_ATIVIDADE</th>\n",
       "      <th>MUNICIPIO</th>\n",
       "      <th>LOGRADOURO</th>\n",
       "      <th>DES_ENDERECO</th>\n",
       "      <th>COMPLEMENTO_ENDERECO</th>\n",
       "      <th>NOME_BAIRRO</th>\n",
       "      <th>LOGRADOURO2</th>\n",
       "      <th>DES_ENDERECO2</th>\n",
       "    </tr>\n",
       "  </thead>\n",
       "  <tbody>\n",
       "    <tr>\n",
       "      <th>4755</th>\n",
       "      <td>2020-014269725-001</td>\n",
       "      <td>DIVINOPOLIS</td>\n",
       "      <td>PERNAMBUCO</td>\n",
       "      <td>PERNAMBUCO</td>\n",
       "      <td></td>\n",
       "      <td></td>\n",
       "      <td></td>\n",
       "      <td></td>\n",
       "    </tr>\n",
       "    <tr>\n",
       "      <th>7940</th>\n",
       "      <td>2020-021182674-001</td>\n",
       "      <td>DIVINOPOLIS</td>\n",
       "      <td></td>\n",
       "      <td>DULPHE PINTO DE AGUIAR</td>\n",
       "      <td></td>\n",
       "      <td></td>\n",
       "      <td></td>\n",
       "      <td></td>\n",
       "    </tr>\n",
       "    <tr>\n",
       "      <th>7982</th>\n",
       "      <td>2020-021323080-001</td>\n",
       "      <td>DIVINOPOLIS</td>\n",
       "      <td>A</td>\n",
       "      <td>A</td>\n",
       "      <td></td>\n",
       "      <td></td>\n",
       "      <td></td>\n",
       "      <td></td>\n",
       "    </tr>\n",
       "    <tr>\n",
       "      <th>9189</th>\n",
       "      <td>2020-025629373-001</td>\n",
       "      <td>DIVINOPOLIS</td>\n",
       "      <td>PERNAMBUCO</td>\n",
       "      <td>PERNAMBUCO</td>\n",
       "      <td></td>\n",
       "      <td></td>\n",
       "      <td></td>\n",
       "      <td></td>\n",
       "    </tr>\n",
       "  </tbody>\n",
       "</table>\n",
       "</div>"
      ],
      "text/plain": [
       "       RAT.NUM_ATIVIDADE    MUNICIPIO  LOGRADOURO            DES_ENDERECO  \\\n",
       "4755  2020-014269725-001  DIVINOPOLIS  PERNAMBUCO              PERNAMBUCO   \n",
       "7940  2020-021182674-001  DIVINOPOLIS              DULPHE PINTO DE AGUIAR   \n",
       "7982  2020-021323080-001  DIVINOPOLIS           A                       A   \n",
       "9189  2020-025629373-001  DIVINOPOLIS  PERNAMBUCO              PERNAMBUCO   \n",
       "\n",
       "     COMPLEMENTO_ENDERECO NOME_BAIRRO LOGRADOURO2 DES_ENDERECO2  \n",
       "4755                                                             \n",
       "7940                                                             \n",
       "7982                                                             \n",
       "9189                                                             "
      ]
     },
     "execution_count": 5,
     "metadata": {},
     "output_type": "execute_result"
    }
   ],
   "source": [
    "bos[\n",
    "    ( bos['NAT.CODIGO'].str.contains('A19') )\n",
    "    & ( bos['SETOR'] == 'other' )\n",
    "][[\n",
    "    'RAT.NUM_ATIVIDADE',\n",
    "    'MUNICIPIO',\n",
    "    'LOGRADOURO',\n",
    "    'DES_ENDERECO',\n",
    "    'COMPLEMENTO_ENDERECO',\n",
    "    'NOME_BAIRRO',\n",
    "    'LOGRADOURO2',\n",
    "    'DES_ENDERECO2'\n",
    "]]"
   ]
  }
 ],
 "metadata": {
  "celltoolbar": "Raw Cell Format",
  "kernelspec": {
   "display_name": "Python 3",
   "language": "python",
   "name": "python3"
  },
  "language_info": {
   "codemirror_mode": {
    "name": "ipython",
    "version": 3
   },
   "file_extension": ".py",
   "mimetype": "text/x-python",
   "name": "python",
   "nbconvert_exporter": "python",
   "pygments_lexer": "ipython3",
   "version": "3.7.6"
  }
 },
 "nbformat": 4,
 "nbformat_minor": 2
}
