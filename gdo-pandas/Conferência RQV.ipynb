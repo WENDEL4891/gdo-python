{
 "cells": [
  {
   "cell_type": "code",
   "execution_count": 5,
   "metadata": {},
   "outputs": [],
   "source": [
    "import pandas as pd\n",
    "import numpy as np"
   ]
  },
  {
   "cell_type": "code",
   "execution_count": 1,
   "metadata": {
    "collapsed": true
   },
   "outputs": [
    {
     "name": "stdout",
     "output_type": "stream",
     "text": [
      "CPU times: user 2.7 s, sys: 112 ms, total: 2.81 s\n",
      "Wall time: 2.81 s\n"
     ]
    },
    {
     "data": {
      "text/html": [
       "<div>\n",
       "<style scoped>\n",
       "    .dataframe tbody tr th:only-of-type {\n",
       "        vertical-align: middle;\n",
       "    }\n",
       "\n",
       "    .dataframe tbody tr th {\n",
       "        vertical-align: top;\n",
       "    }\n",
       "\n",
       "    .dataframe thead th {\n",
       "        text-align: right;\n",
       "    }\n",
       "</style>\n",
       "<table border=\"1\" class=\"dataframe\">\n",
       "  <thead>\n",
       "    <tr style=\"text-align: right;\">\n",
       "      <th></th>\n",
       "      <th>NAT.CODIGO</th>\n",
       "      <th>NAT.DESCRICAO</th>\n",
       "      <th>DTA_HRA_INCLUSAO</th>\n",
       "      <th>DTA_INICIO</th>\n",
       "      <th>HRA_INICIO</th>\n",
       "      <th>DTA_TERMINO</th>\n",
       "      <th>HRA_TERMINO</th>\n",
       "      <th>DES_ALVO_EVENTO</th>\n",
       "      <th>DES_LUGAR</th>\n",
       "      <th>NOM_OPERACAO</th>\n",
       "      <th>...</th>\n",
       "      <th>CIA</th>\n",
       "      <th>VIATURAS</th>\n",
       "      <th>EFETIVO</th>\n",
       "      <th>EFETIVIDADE_PARCIAL</th>\n",
       "      <th>Qde de locais fiscalizados</th>\n",
       "      <th>Qde de pessoas abordadas</th>\n",
       "      <th>Qde de pessoas que sopraram o etilometro</th>\n",
       "      <th>Qde de veiculos fiscalizados</th>\n",
       "      <th>EFICIENCIA_E_EFICACIA</th>\n",
       "      <th>EFETIVIDADE</th>\n",
       "    </tr>\n",
       "    <tr>\n",
       "      <th>RAT.NUM_ATIVIDADE</th>\n",
       "      <th></th>\n",
       "      <th></th>\n",
       "      <th></th>\n",
       "      <th></th>\n",
       "      <th></th>\n",
       "      <th></th>\n",
       "      <th></th>\n",
       "      <th></th>\n",
       "      <th></th>\n",
       "      <th></th>\n",
       "      <th></th>\n",
       "      <th></th>\n",
       "      <th></th>\n",
       "      <th></th>\n",
       "      <th></th>\n",
       "      <th></th>\n",
       "      <th></th>\n",
       "      <th></th>\n",
       "      <th></th>\n",
       "      <th></th>\n",
       "      <th></th>\n",
       "    </tr>\n",
       "  </thead>\n",
       "  <tbody>\n",
       "    <tr>\n",
       "      <td>2018-046472984-001</td>\n",
       "      <td>Y07001</td>\n",
       "      <td>OPERACAO DE BATIDA POLICIAL</td>\n",
       "      <td>17/10/2018</td>\n",
       "      <td>17/10/2018</td>\n",
       "      <td>18:43</td>\n",
       "      <td>17/10/2018</td>\n",
       "      <td>19:00</td>\n",
       "      <td>TRANSEUNTE</td>\n",
       "      <td>VIA DE ACESSO PUBLICA</td>\n",
       "      <td></td>\n",
       "      <td>...</td>\n",
       "      <td>139 CIA</td>\n",
       "      <td>1</td>\n",
       "      <td>2</td>\n",
       "      <td>0</td>\n",
       "      <td>0</td>\n",
       "      <td>0</td>\n",
       "      <td>0</td>\n",
       "      <td>0</td>\n",
       "      <td>0</td>\n",
       "      <td>0</td>\n",
       "    </tr>\n",
       "    <tr>\n",
       "      <td>2018-051709149-001</td>\n",
       "      <td>Y07001</td>\n",
       "      <td>OPERACAO DE BATIDA POLICIAL</td>\n",
       "      <td>20/11/2018</td>\n",
       "      <td>20/11/2018</td>\n",
       "      <td>05:25</td>\n",
       "      <td>20/11/2018</td>\n",
       "      <td>07:15</td>\n",
       "      <td>TRANSEUNTE</td>\n",
       "      <td>METALURGICA / SIDERURGICA</td>\n",
       "      <td></td>\n",
       "      <td>...</td>\n",
       "      <td>142 CIA</td>\n",
       "      <td>1</td>\n",
       "      <td>2</td>\n",
       "      <td>0</td>\n",
       "      <td>0</td>\n",
       "      <td>0</td>\n",
       "      <td>0</td>\n",
       "      <td>0</td>\n",
       "      <td>0</td>\n",
       "      <td>0</td>\n",
       "    </tr>\n",
       "    <tr>\n",
       "      <td>2018-052156427-001</td>\n",
       "      <td>Y07001</td>\n",
       "      <td>OPERACAO DE BATIDA POLICIAL</td>\n",
       "      <td>22/11/2018</td>\n",
       "      <td>22/11/2018</td>\n",
       "      <td>20:20</td>\n",
       "      <td>22/11/2018</td>\n",
       "      <td>20:45</td>\n",
       "      <td>TRANSEUNTE</td>\n",
       "      <td>VIA DE ACESSO PUBLICA</td>\n",
       "      <td></td>\n",
       "      <td>...</td>\n",
       "      <td>142 CIA</td>\n",
       "      <td>1</td>\n",
       "      <td>2</td>\n",
       "      <td>0</td>\n",
       "      <td>0</td>\n",
       "      <td>0</td>\n",
       "      <td>0</td>\n",
       "      <td>0</td>\n",
       "      <td>0</td>\n",
       "      <td>0</td>\n",
       "    </tr>\n",
       "  </tbody>\n",
       "</table>\n",
       "<p>3 rows × 50 columns</p>\n",
       "</div>"
      ],
      "text/plain": [
       "                   NAT.CODIGO                NAT.DESCRICAO DTA_HRA_INCLUSAO  \\\n",
       "RAT.NUM_ATIVIDADE                                                             \n",
       "2018-046472984-001     Y07001  OPERACAO DE BATIDA POLICIAL       17/10/2018   \n",
       "2018-051709149-001     Y07001  OPERACAO DE BATIDA POLICIAL       20/11/2018   \n",
       "2018-052156427-001     Y07001  OPERACAO DE BATIDA POLICIAL       22/11/2018   \n",
       "\n",
       "                    DTA_INICIO HRA_INICIO DTA_TERMINO HRA_TERMINO  \\\n",
       "RAT.NUM_ATIVIDADE                                                   \n",
       "2018-046472984-001  17/10/2018      18:43  17/10/2018       19:00   \n",
       "2018-051709149-001  20/11/2018      05:25  20/11/2018       07:15   \n",
       "2018-052156427-001  22/11/2018      20:20  22/11/2018       20:45   \n",
       "\n",
       "                   DES_ALVO_EVENTO                  DES_LUGAR NOM_OPERACAO  \\\n",
       "RAT.NUM_ATIVIDADE                                                            \n",
       "2018-046472984-001      TRANSEUNTE      VIA DE ACESSO PUBLICA                \n",
       "2018-051709149-001      TRANSEUNTE  METALURGICA / SIDERURGICA                \n",
       "2018-052156427-001      TRANSEUNTE      VIA DE ACESSO PUBLICA                \n",
       "\n",
       "                    ...      CIA VIATURAS EFETIVO EFETIVIDADE_PARCIAL  \\\n",
       "RAT.NUM_ATIVIDADE   ...                                                 \n",
       "2018-046472984-001  ...  139 CIA        1       2                   0   \n",
       "2018-051709149-001  ...  142 CIA        1       2                   0   \n",
       "2018-052156427-001  ...  142 CIA        1       2                   0   \n",
       "\n",
       "                   Qde de locais fiscalizados Qde de pessoas abordadas  \\\n",
       "RAT.NUM_ATIVIDADE                                                        \n",
       "2018-046472984-001                          0                        0   \n",
       "2018-051709149-001                          0                        0   \n",
       "2018-052156427-001                          0                        0   \n",
       "\n",
       "                   Qde de pessoas que sopraram o etilometro  \\\n",
       "RAT.NUM_ATIVIDADE                                             \n",
       "2018-046472984-001                                        0   \n",
       "2018-051709149-001                                        0   \n",
       "2018-052156427-001                                        0   \n",
       "\n",
       "                   Qde de veiculos fiscalizados EFICIENCIA_E_EFICACIA  \\\n",
       "RAT.NUM_ATIVIDADE                                                       \n",
       "2018-046472984-001                            0                     0   \n",
       "2018-051709149-001                            0                     0   \n",
       "2018-052156427-001                            0                     0   \n",
       "\n",
       "                   EFETIVIDADE  \n",
       "RAT.NUM_ATIVIDADE               \n",
       "2018-046472984-001           0  \n",
       "2018-051709149-001           0  \n",
       "2018-052156427-001           0  \n",
       "\n",
       "[3 rows x 50 columns]"
      ]
     },
     "execution_count": 1,
     "metadata": {},
     "output_type": "execute_result"
    }
   ],
   "source": [
    "%%time\n",
    "import funcs\n",
    "\n",
    "rats_gdo = funcs.get_rats_gdo()\n",
    "rats_gdo.head(3)"
   ]
  },
  {
   "cell_type": "code",
   "execution_count": 4,
   "metadata": {},
   "outputs": [],
   "source": [
    "# rqv_cinds = pd.read_excel('files/PLANILHA RQV ATE 20ABR20.xlsx', sheet_name='DADOS', index_col='RAT.NUM_ATIVIDADE')\n",
    "# rqv_cinds['NOM_UNID_RESPONSAVEL'].fillna('', inplace=True)"
   ]
  },
  {
   "cell_type": "code",
   "execution_count": 9,
   "metadata": {},
   "outputs": [],
   "source": [
    "# import funcs\n",
    "\n",
    "# rqv_cinds = rqv_cinds[\n",
    "#     ( ~ rqv_cinds['NOM_UNID_RESPONSAVEL'].str.contains('IND PE')) &\n",
    "#     ( ~ rqv_cinds['NOM_UNID_RESPONSAVEL'].str.contains('BPE')) &\n",
    "#     ( ~ rqv_cinds['NOM_UNID_RESPONSAVEL'].str.contains('CPE'))\n",
    "# ]\n",
    "\n",
    "# rqv_cinds = funcs.filter_23(rqv_cinds)"
   ]
  },
  {
   "cell_type": "code",
   "execution_count": 10,
   "metadata": {},
   "outputs": [],
   "source": [
    "# rqv_pandas = df_rat[\n",
    "#     (df_rat['NAT.CODIGO'].str.contains('Y0700[1345]')) &\n",
    "#     ( ~ df_rat['NOM_UNID_RESPONSAVEL'].str.contains('IND PE')) &\n",
    "#     ( ~ df_rat['NOM_UNID_RESPONSAVEL'].str.contains('BPE')) &\n",
    "#     ( ~ df_rat['NOM_UNID_RESPONSAVEL'].str.contains('CPE')) &\n",
    "#     (df_rat['ANO'] == 2020) &\n",
    "#     ~ (\n",
    "#         (df_rat['MES'] == 4) &\n",
    "#         (df_rat['DEZENA'] == 3)\n",
    "#     )\n",
    "# ]"
   ]
  },
  {
   "cell_type": "code",
   "execution_count": 11,
   "metadata": {},
   "outputs": [
    {
     "data": {
      "text/plain": [
       "(1006, 27)"
      ]
     },
     "execution_count": 11,
     "metadata": {},
     "output_type": "execute_result"
    }
   ],
   "source": [
    "rqv_cinds[\n",
    "    rqv_cinds['EFETIVIDADE'] == 1.\n",
    "].shape"
   ]
  },
  {
   "cell_type": "code",
   "execution_count": 12,
   "metadata": {},
   "outputs": [
    {
     "data": {
      "text/plain": [
       "(1007, 50)"
      ]
     },
     "execution_count": 12,
     "metadata": {},
     "output_type": "execute_result"
    }
   ],
   "source": [
    "rqv_pandas[\n",
    "    rqv_pandas['EFETIVIDADE'] == 1\n",
    "].shape"
   ]
  },
  {
   "cell_type": "code",
   "execution_count": 13,
   "metadata": {},
   "outputs": [
    {
     "data": {
      "text/plain": [
       "Index(['2020-018686348-001', '2020-018932160-001', '2020-019172850-001'], dtype='object', name='RAT.NUM_ATIVIDADE')"
      ]
     },
     "execution_count": 13,
     "metadata": {},
     "output_type": "execute_result"
    }
   ],
   "source": [
    "rqv_pandas[\n",
    "    rqv_pandas['EFETIVIDADE'] == 1\n",
    "].index.difference(rqv_cinds[\n",
    "    rqv_cinds['EFETIVIDADE'] == 1.\n",
    "].index)"
   ]
  },
  {
   "cell_type": "code",
   "execution_count": 18,
   "metadata": {},
   "outputs": [
    {
     "data": {
      "text/plain": [
       "Index(['2020-017273099-001', '2020-017298810-001'], dtype='object', name='RAT.NUM_ATIVIDADE')"
      ]
     },
     "execution_count": 18,
     "metadata": {},
     "output_type": "execute_result"
    }
   ],
   "source": [
    "rqv_cinds[\n",
    "    rqv_cinds['EFETIVIDADE'] == 1\n",
    "].index.difference(rqv_pandas[\n",
    "    rqv_pandas['EFETIVIDADE'] == 1.\n",
    "].index)"
   ]
  },
  {
   "cell_type": "code",
   "execution_count": 29,
   "metadata": {},
   "outputs": [
    {
     "data": {
      "text/html": [
       "<div>\n",
       "<style scoped>\n",
       "    .dataframe tbody tr th:only-of-type {\n",
       "        vertical-align: middle;\n",
       "    }\n",
       "\n",
       "    .dataframe tbody tr th {\n",
       "        vertical-align: top;\n",
       "    }\n",
       "\n",
       "    .dataframe thead th {\n",
       "        text-align: right;\n",
       "    }\n",
       "</style>\n",
       "<table border=\"1\" class=\"dataframe\">\n",
       "  <thead>\n",
       "    <tr style=\"text-align: right;\">\n",
       "      <th></th>\n",
       "      <th>NAT.CODIGO</th>\n",
       "      <th>TEMPO_INT</th>\n",
       "      <th>EFETIVO</th>\n",
       "      <th>VIATURAS</th>\n",
       "      <th>Qde de veiculos fiscalizados</th>\n",
       "      <th>Qde de pessoas abordadas</th>\n",
       "      <th>Qde de locais fiscalizados</th>\n",
       "      <th>Qde de pessoas que sopraram o etilometro</th>\n",
       "    </tr>\n",
       "    <tr>\n",
       "      <th>RAT.NUM_ATIVIDADE</th>\n",
       "      <th></th>\n",
       "      <th></th>\n",
       "      <th></th>\n",
       "      <th></th>\n",
       "      <th></th>\n",
       "      <th></th>\n",
       "      <th></th>\n",
       "      <th></th>\n",
       "    </tr>\n",
       "  </thead>\n",
       "  <tbody>\n",
       "    <tr>\n",
       "      <td>2020-018686348-001</td>\n",
       "      <td>Y07001</td>\n",
       "      <td>398</td>\n",
       "      <td>2</td>\n",
       "      <td>1</td>\n",
       "      <td>5</td>\n",
       "      <td>12</td>\n",
       "      <td>3</td>\n",
       "      <td>0</td>\n",
       "    </tr>\n",
       "    <tr>\n",
       "      <td>2020-018932160-001</td>\n",
       "      <td>Y07001</td>\n",
       "      <td>60</td>\n",
       "      <td>2</td>\n",
       "      <td>1</td>\n",
       "      <td>2</td>\n",
       "      <td>13</td>\n",
       "      <td>0</td>\n",
       "      <td>0</td>\n",
       "    </tr>\n",
       "    <tr>\n",
       "      <td>2020-019172850-001</td>\n",
       "      <td>Y07001</td>\n",
       "      <td>515</td>\n",
       "      <td>2</td>\n",
       "      <td>2</td>\n",
       "      <td>4</td>\n",
       "      <td>13</td>\n",
       "      <td>2</td>\n",
       "      <td>0</td>\n",
       "    </tr>\n",
       "  </tbody>\n",
       "</table>\n",
       "</div>"
      ],
      "text/plain": [
       "                   NAT.CODIGO  TEMPO_INT  EFETIVO  VIATURAS  \\\n",
       "RAT.NUM_ATIVIDADE                                             \n",
       "2020-018686348-001     Y07001        398        2         1   \n",
       "2020-018932160-001     Y07001         60        2         1   \n",
       "2020-019172850-001     Y07001        515        2         2   \n",
       "\n",
       "                    Qde de veiculos fiscalizados  Qde de pessoas abordadas  \\\n",
       "RAT.NUM_ATIVIDADE                                                            \n",
       "2020-018686348-001                             5                        12   \n",
       "2020-018932160-001                             2                        13   \n",
       "2020-019172850-001                             4                        13   \n",
       "\n",
       "                    Qde de locais fiscalizados  \\\n",
       "RAT.NUM_ATIVIDADE                                \n",
       "2020-018686348-001                           3   \n",
       "2020-018932160-001                           0   \n",
       "2020-019172850-001                           2   \n",
       "\n",
       "                    Qde de pessoas que sopraram o etilometro  \n",
       "RAT.NUM_ATIVIDADE                                             \n",
       "2020-018686348-001                                         0  \n",
       "2020-018932160-001                                         0  \n",
       "2020-019172850-001                                         0  "
      ]
     },
     "execution_count": 29,
     "metadata": {},
     "output_type": "execute_result"
    }
   ],
   "source": [
    "rqv_pandas.loc[['2020-018686348-001', '2020-018932160-001', '2020-019172850-001']][[\n",
    "    'NAT.CODIGO',\n",
    "    'TEMPO_INT',\n",
    "    'EFETIVO',\n",
    "    'VIATURAS',\n",
    "    'Qde de veiculos fiscalizados',\n",
    "    'Qde de pessoas abordadas',\n",
    "    'Qde de locais fiscalizados',\n",
    "    'Qde de pessoas que sopraram o etilometro'\n",
    "]]"
   ]
  },
  {
   "cell_type": "code",
   "execution_count": 20,
   "metadata": {},
   "outputs": [
    {
     "data": {
      "text/html": [
       "<div>\n",
       "<style scoped>\n",
       "    .dataframe tbody tr th:only-of-type {\n",
       "        vertical-align: middle;\n",
       "    }\n",
       "\n",
       "    .dataframe tbody tr th {\n",
       "        vertical-align: top;\n",
       "    }\n",
       "\n",
       "    .dataframe thead th {\n",
       "        text-align: right;\n",
       "    }\n",
       "</style>\n",
       "<table border=\"1\" class=\"dataframe\">\n",
       "  <thead>\n",
       "    <tr style=\"text-align: right;\">\n",
       "      <th></th>\n",
       "      <th>DTA_INICIO</th>\n",
       "      <th>NATUREZA</th>\n",
       "      <th>EFETIVO</th>\n",
       "      <th>VIATURA</th>\n",
       "      <th>VEICULOS</th>\n",
       "      <th>PESSOAS</th>\n",
       "      <th>LOCAIS</th>\n",
       "    </tr>\n",
       "    <tr>\n",
       "      <th>RAT.NUM_ATIVIDADE</th>\n",
       "      <th></th>\n",
       "      <th></th>\n",
       "      <th></th>\n",
       "      <th></th>\n",
       "      <th></th>\n",
       "      <th></th>\n",
       "      <th></th>\n",
       "    </tr>\n",
       "  </thead>\n",
       "  <tbody>\n",
       "    <tr>\n",
       "      <td>2020-017273099-001</td>\n",
       "      <td>2020-04-10 00:00:00</td>\n",
       "      <td>Y07001</td>\n",
       "      <td>8.0</td>\n",
       "      <td>3.0</td>\n",
       "      <td>1.0</td>\n",
       "      <td>6.0</td>\n",
       "      <td>2.0</td>\n",
       "    </tr>\n",
       "    <tr>\n",
       "      <td>2020-017298810-001</td>\n",
       "      <td>2020-04-10 00:00:00</td>\n",
       "      <td>Y07001</td>\n",
       "      <td>8.0</td>\n",
       "      <td>3.0</td>\n",
       "      <td>1.0</td>\n",
       "      <td>9.0</td>\n",
       "      <td>3.0</td>\n",
       "    </tr>\n",
       "  </tbody>\n",
       "</table>\n",
       "</div>"
      ],
      "text/plain": [
       "                             DTA_INICIO NATUREZA  EFETIVO  VIATURA  VEICULOS  \\\n",
       "RAT.NUM_ATIVIDADE                                                              \n",
       "2020-017273099-001  2020-04-10 00:00:00   Y07001      8.0      3.0       1.0   \n",
       "2020-017298810-001  2020-04-10 00:00:00   Y07001      8.0      3.0       1.0   \n",
       "\n",
       "                    PESSOAS  LOCAIS  \n",
       "RAT.NUM_ATIVIDADE                    \n",
       "2020-017273099-001      6.0     2.0  \n",
       "2020-017298810-001      9.0     3.0  "
      ]
     },
     "execution_count": 20,
     "metadata": {},
     "output_type": "execute_result"
    }
   ],
   "source": [
    "rqv_cinds.loc[['2020-017273099-001', '2020-017298810-001']][[\n",
    "    'DTA_INICIO',\n",
    "    'NATUREZA',\n",
    "    'EFETIVO',\n",
    "    'VIATURA',\n",
    "    'VEICULOS',\n",
    "    'PESSOAS',\n",
    "    'LOCAIS'    \n",
    "]]"
   ]
  },
  {
   "cell_type": "code",
   "execution_count": 34,
   "metadata": {
    "collapsed": true
   },
   "outputs": [
    {
     "data": {
      "text/plain": [
       "RAT.NUM_ATIVIDADE                       2020-017298810-001\n",
       "NAT.CODIGO                                          Y04012\n",
       "NAT.DESCRICAO                            OPERACAO LEI SECA\n",
       "DTA_HRA_INCLUSAO                                10/04/2020\n",
       "DTA_INICIO                                      10/04/2020\n",
       "HRA_INICIO                                           17:30\n",
       "DTA_TERMINO                                     10/04/2020\n",
       "HRA_TERMINO                                          18:40\n",
       "DES_ALVO_EVENTO         PROPRIETARIO / CONDUTOR DE VEICULO\n",
       "DES_LUGAR                            VIA DE ACESSO PUBLICA\n",
       "NOM_OPERACAO                                              \n",
       "COD_UNIDADE_SERVICO                                  M7342\n",
       "NOM_UNID_RESPONSAVEL               240 CIA TM/23 BPM/7 RPM\n",
       "TIPO_LOGRADOURO                                    AVENIDA\n",
       "LOGRADOURO                                    MONTE LIBANO\n",
       "DES_ENDERECO                                  MONTE LIBANO\n",
       "NUM_ENDERECO                                           792\n",
       "COMPLEMENTO_ALFA                                          \n",
       "COMPLEMENTO_ENDERECO                                      \n",
       "NUM_COMPLEMENTAR                                          \n",
       "COD_BAIRRO                                           10216\n",
       "NOME_BAIRRO                                       SAO LUIZ\n",
       "TIPO_LOGRADOURO2                                          \n",
       "LOGRADOURO2                                               \n",
       "DES_ENDERECO2                                             \n",
       "COD_MUNICIPIO                                       312230\n",
       "MUNICIPIO                                      DIVINOPOLIS\n",
       "LATITUDE                                       -20.1432811\n",
       "LONGITUDE                                       -44.870515\n",
       "COD_UNIDADE_AREA                                     M2572\n",
       "NOM_UNIDADE_AREA                   142 CIA PM/23 BPM/7 RPM\n",
       "DIGITADOR                                        PM1617489\n",
       "DTA_HRA_INICIO_DT                      2020-04-10 17:30:00\n",
       "DTA_HRA_TERMINO_DT                     2020-04-10 18:40:00\n",
       "TEMPO_DT                                           4.2e+12\n",
       "TEMPO_INT                                               70\n",
       "DIA                                                     10\n",
       "MES                                                      4\n",
       "ANO                                                   2020\n",
       "DEZENA                                                   1\n",
       "SETOR                                              NITEROI\n",
       "CIA                                                142 CIA\n",
       "Name: 46555, dtype: object"
      ]
     },
     "execution_count": 34,
     "metadata": {},
     "output_type": "execute_result"
    }
   ],
   "source": [
    "df_rat[\n",
    "    df_rat['RAT.NUM_ATIVIDADE'] == '2020-017298810-001'\n",
    "].iloc[0]"
   ]
  }
 ],
 "metadata": {
  "kernelspec": {
   "display_name": "Python 3",
   "language": "python",
   "name": "python3"
  },
  "language_info": {
   "codemirror_mode": {
    "name": "ipython",
    "version": 3
   },
   "file_extension": ".py",
   "mimetype": "text/x-python",
   "name": "python",
   "nbconvert_exporter": "python",
   "pygments_lexer": "ipython3",
   "version": "3.7.4"
  }
 },
 "nbformat": 4,
 "nbformat_minor": 2
}
