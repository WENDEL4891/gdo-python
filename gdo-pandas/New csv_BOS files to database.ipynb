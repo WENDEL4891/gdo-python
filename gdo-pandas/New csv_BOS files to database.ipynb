{
 "cells": [
  {
   "cell_type": "markdown",
   "metadata": {},
   "source": [
    "<h1 style='color:#008'>Read new BOS csv and insert data on database</h1>"
   ]
  },
  {
   "cell_type": "code",
   "execution_count": 14,
   "metadata": {},
   "outputs": [
    {
     "name": "stdout",
     "output_type": "stream",
     "text": [
      "files ok\n"
     ]
    },
    {
     "ename": "Exception",
     "evalue": "Não há arquivos csv novos para serem inseridos no banco de dados.",
     "output_type": "error",
     "traceback": [
      "\u001b[0;31m---------------------------------------------------------------------------\u001b[0m",
      "\u001b[0;31mException\u001b[0m                                 Traceback (most recent call last)",
      "\u001b[0;32m<ipython-input-14-46d80af8fa70>\u001b[0m in \u001b[0;36m<module>\u001b[0;34m\u001b[0m\n\u001b[1;32m      6\u001b[0m \u001b[0mfiles_names\u001b[0m\u001b[0;34m\u001b[0m\u001b[0;34m\u001b[0m\u001b[0m\n\u001b[1;32m      7\u001b[0m \u001b[0;34m\u001b[0m\u001b[0m\n\u001b[0;32m----> 8\u001b[0;31m \u001b[0mbos\u001b[0m \u001b[0;34m=\u001b[0m \u001b[0mfuncs_bos\u001b[0m\u001b[0;34m.\u001b[0m\u001b[0mread_files\u001b[0m\u001b[0;34m(\u001b[0m\u001b[0mfiles_names\u001b[0m\u001b[0;34m)\u001b[0m\u001b[0;34m\u001b[0m\u001b[0;34m\u001b[0m\u001b[0m\n\u001b[0m\u001b[1;32m      9\u001b[0m \u001b[0mprint\u001b[0m\u001b[0;34m(\u001b[0m\u001b[0;34m'files lidos ok'\u001b[0m\u001b[0;34m)\u001b[0m\u001b[0;34m\u001b[0m\u001b[0;34m\u001b[0m\u001b[0m\n\u001b[1;32m     10\u001b[0m \u001b[0;34m\u001b[0m\u001b[0m\n",
      "\u001b[0;32m~/Projects/python/gdo-pandas/funcs_bos.py\u001b[0m in \u001b[0;36mread_files\u001b[0;34m(files_names)\u001b[0m\n\u001b[1;32m     47\u001b[0m \u001b[0;32mdef\u001b[0m \u001b[0mread_files\u001b[0m\u001b[0;34m(\u001b[0m\u001b[0mfiles_names\u001b[0m\u001b[0;34m)\u001b[0m\u001b[0;34m:\u001b[0m\u001b[0;34m\u001b[0m\u001b[0;34m\u001b[0m\u001b[0m\n\u001b[1;32m     48\u001b[0m     \u001b[0;32mif\u001b[0m \u001b[0mlen\u001b[0m\u001b[0;34m(\u001b[0m \u001b[0mfiles_names\u001b[0m\u001b[0;34m)\u001b[0m \u001b[0;34m<\u001b[0m \u001b[0;36m1\u001b[0m\u001b[0;34m:\u001b[0m\u001b[0;34m\u001b[0m\u001b[0;34m\u001b[0m\u001b[0m\n\u001b[0;32m---> 49\u001b[0;31m         \u001b[0;32mraise\u001b[0m \u001b[0mException\u001b[0m\u001b[0;34m(\u001b[0m\u001b[0;34m'Não há arquivos csv novos para serem inseridos no banco de dados.'\u001b[0m\u001b[0;34m)\u001b[0m\u001b[0;34m\u001b[0m\u001b[0;34m\u001b[0m\u001b[0m\n\u001b[0m\u001b[1;32m     50\u001b[0m     \u001b[0;32mfor\u001b[0m \u001b[0mi\u001b[0m \u001b[0;32min\u001b[0m \u001b[0mrange\u001b[0m\u001b[0;34m(\u001b[0m \u001b[0mlen\u001b[0m\u001b[0;34m(\u001b[0m\u001b[0mfiles_names\u001b[0m\u001b[0;34m)\u001b[0m \u001b[0;34m)\u001b[0m\u001b[0;34m:\u001b[0m\u001b[0;34m\u001b[0m\u001b[0;34m\u001b[0m\u001b[0m\n\u001b[1;32m     51\u001b[0m         \u001b[0;32mif\u001b[0m \u001b[0mi\u001b[0m \u001b[0;34m==\u001b[0m \u001b[0;36m0\u001b[0m\u001b[0;34m:\u001b[0m\u001b[0;34m\u001b[0m\u001b[0;34m\u001b[0m\u001b[0m\n",
      "\u001b[0;31mException\u001b[0m: Não há arquivos csv novos para serem inseridos no banco de dados."
     ]
    }
   ],
   "source": [
    "import pandas as pd\n",
    "import funcs_bos, gc\n",
    "\n",
    "files_names = funcs_bos.get_files_names(only_not_imported=True)\n",
    "print('files ok')\n",
    "files_names\n",
    "\n",
    "bos = funcs_bos.read_files(files_names)\n",
    "print('files lidos ok')\n",
    "\n",
    "bos = funcs_bos.data_bos_processing(bos)\n",
    "print('processing df ok')\n",
    "\n",
    "classificadores = funcs_bos.get_classificadores()\n",
    "bos['SETOR'] = bos.apply(lambda row: funcs_bos.classifica_setor(row, classificadores), axis=1)\n",
    "print('classificação setores ok')\n",
    "\n",
    "funcs_bos.classifica_cia(df_bos=bos)\n",
    "print('classificação cias ok')\n",
    "\n",
    "bos_db = pd.read_sql_table('tbl_bos', 'sqlite:///gdo.db')\n",
    "bos_db['TEMPO_DT']  = bos_db['DTA_HRA_TERMINO_DT'] - bos_db['DTA_HRA_INICIO_DT']\n",
    "print('bos_db criado')\n",
    "\n",
    "bos_total = pd.concat([bos_db, bos])\n",
    "bos_total = bos_total.drop_duplicates(subset='RAT.NUM_ATIVIDADE', keep='last')\n",
    "\n",
    "bos_total.to_sql('tbl_bos', 'sqlite:///gdo.db', if_exists='replace', index=False)\n",
    "print('dados exportados para o db ok')\n",
    "\n",
    "pd.DataFrame(files_names).to_sql('tbl_imported_files_bos', 'sqlite:///gdo.db', if_exists='append', index=False)\n",
    "print('nomes dos arquivos importados, já inseridos no db')\n",
    "\n",
    "del bos, bos_total\n",
    "print('bos deleted')\n",
    "gc.collect()"
   ]
  }
 ],
 "metadata": {
  "celltoolbar": "Raw Cell Format",
  "kernelspec": {
   "display_name": "Python 3",
   "language": "python",
   "name": "python3"
  },
  "language_info": {
   "codemirror_mode": {
    "name": "ipython",
    "version": 3
   },
   "file_extension": ".py",
   "mimetype": "text/x-python",
   "name": "python",
   "nbconvert_exporter": "python",
   "pygments_lexer": "ipython3",
   "version": "3.7.7"
  }
 },
 "nbformat": 4,
 "nbformat_minor": 2
}
