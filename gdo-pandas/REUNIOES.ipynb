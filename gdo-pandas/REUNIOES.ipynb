{
 "cells": [
  {
   "cell_type": "code",
   "execution_count": 4,
   "metadata": {},
   "outputs": [],
   "source": [
    "import pandas as pd\n",
    "import numpy as np"
   ]
  },
  {
   "cell_type": "code",
   "execution_count": 5,
   "metadata": {},
   "outputs": [
    {
     "name": "stdout",
     "output_type": "stream",
     "text": [
      "CPU times: user 204 ms, sys: 23.3 ms, total: 228 ms\n",
      "Wall time: 253 ms\n"
     ]
    }
   ],
   "source": [
    "%%time\n",
    "import funcs_bos\n",
    "\n",
    "bos = pd.read_sql('select * from tbl_bos', 'sqlite:///gdo.db')\n",
    "bos.set_index('RAT.NUM_ATIVIDADE', inplace=True)\n",
    "\n",
    "por_cia_mes = bos[\n",
    "    ( bos['ANO'] == 2020 )\n",
    "    & ( bos['NAT.CODIGO'].str.contains('A19') )\n",
    "].pivot_table(\n",
    "    index='CIA',\n",
    "    columns='MES',\n",
    "    values='NAT.CODIGO',\n",
    "    aggfunc='count'\n",
    "    \n",
    ")\n",
    "por_cia_mes.loc[:,'ACUM'] = por_cia_mes.sum(1)\n",
    "por_cia_mes.loc['23 BPM'] = por_cia_mes.sum()\n",
    "\n",
    "por_cia_mes.to_excel('reunioes.xlsx')"
   ]
  },
  {
   "cell_type": "code",
   "execution_count": 6,
   "metadata": {},
   "outputs": [],
   "source": [
    "writer = pd.ExcelWriter('reuniões.xlsx', engine='xlsxwriter')\n",
    "por_cia_mes.to_excel(writer, sheet_name='reuniões_resumo')\n",
    "bos.to_excel(writer, sheet_name='Todos os registros de BOS')\n",
    "writer.save()"
   ]
  }
 ],
 "metadata": {
  "kernelspec": {
   "display_name": "gdo_env",
   "language": "python",
   "name": "gdo_env"
  },
  "language_info": {
   "codemirror_mode": {
    "name": "ipython",
    "version": 3
   },
   "file_extension": ".py",
   "mimetype": "text/x-python",
   "name": "python",
   "nbconvert_exporter": "python",
   "pygments_lexer": "ipython3",
   "version": "3.7.6"
  }
 },
 "nbformat": 4,
 "nbformat_minor": 2
}
